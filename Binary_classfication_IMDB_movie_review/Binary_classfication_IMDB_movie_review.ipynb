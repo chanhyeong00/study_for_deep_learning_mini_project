{
  "nbformat": 4,
  "nbformat_minor": 0,
  "metadata": {
    "colab": {
      "provenance": [],
      "gpuType": "T4",
      "toc_visible": true,
      "include_colab_link": true
    },
    "kernelspec": {
      "name": "python3",
      "display_name": "Python 3"
    },
    "language_info": {
      "name": "python"
    },
    "accelerator": "GPU"
  },
  "cells": [
    {
      "cell_type": "markdown",
      "metadata": {
        "id": "view-in-github",
        "colab_type": "text"
      },
      "source": [
        "<a href=\"https://colab.research.google.com/github/chanhyeong00/study_for_deep_learning_mini_project/blob/main/Binary_classfication_IMDB_movie_review/Binary_classfication_IMDB_movie_review.ipynb\" target=\"_parent\"><img src=\"https://colab.research.google.com/assets/colab-badge.svg\" alt=\"Open In Colab\"/></a>"
      ]
    },
    {
      "cell_type": "markdown",
      "source": [
        "### Import Library"
      ],
      "metadata": {
        "id": "K6bIcbqgJKmq"
      }
    },
    {
      "cell_type": "code",
      "execution_count": null,
      "metadata": {
        "id": "4yr-1nlhLufq"
      },
      "outputs": [],
      "source": [
        "import pandas as pd\n",
        "import tensorflow as tf\n",
        "\n",
        "from bs4 import BeautifulSoup\n",
        "import string\n",
        "from tensorflow.keras.preprocessing.text import Tokenizer\n",
        "from tensorflow.keras.preprocessing.sequence import pad_sequences\n",
        "\n",
        "import numpy as np\n",
        "import matplotlib.pyplot as plt"
      ]
    },
    {
      "cell_type": "markdown",
      "source": [
        "### Data Load"
      ],
      "metadata": {
        "id": "yJ0-idL0JPOf"
      }
    },
    {
      "cell_type": "markdown",
      "source": [
        "kaggle 내 계정 account 에서 create new token으로 kaggle.json을 다운받고 다음 코드 실행"
      ],
      "metadata": {
        "id": "dAUNEe06Nj6y"
      }
    },
    {
      "cell_type": "code",
      "source": [
        "# kaggle.json 파일의 위치 변경\n",
        "!mkdir -p ~/.kaggle\n",
        "!cp kaggle.json ~/.kaggle/\n",
        "!chmod 600 ~/.kaggle/kaggle.json"
      ],
      "metadata": {
        "id": "sN-l_0x5L6xe"
      },
      "execution_count": null,
      "outputs": []
    },
    {
      "cell_type": "code",
      "source": [
        "!kaggle datasets download -d lakshmi25npathi/imdb-dataset-of-50k-movie-reviews"
      ],
      "metadata": {
        "colab": {
          "base_uri": "https://localhost:8080/"
        },
        "id": "TX_EjIhmL4gL",
        "outputId": "9fb48df8-187c-49bf-be60-8873ac7ce4ae"
      },
      "execution_count": null,
      "outputs": [
        {
          "output_type": "stream",
          "name": "stdout",
          "text": [
            "Downloading imdb-dataset-of-50k-movie-reviews.zip to /content\n",
            " 82% 21.0M/25.7M [00:00<00:00, 61.7MB/s]\n",
            "100% 25.7M/25.7M [00:00<00:00, 59.6MB/s]\n"
          ]
        }
      ]
    },
    {
      "cell_type": "markdown",
      "source": [
        "이렇게 하면 쉽게 데이터를 불러올 수 있다."
      ],
      "metadata": {
        "id": "9Tj6tGBmNuE1"
      }
    },
    {
      "cell_type": "code",
      "source": [
        "!unzip imdb-dataset-of-50k-movie-reviews"
      ],
      "metadata": {
        "colab": {
          "base_uri": "https://localhost:8080/"
        },
        "id": "IBQvIpLrN4mp",
        "outputId": "fa475ea4-3b18-470a-9de4-b5fcdd289d4d"
      },
      "execution_count": null,
      "outputs": [
        {
          "output_type": "stream",
          "name": "stdout",
          "text": [
            "Archive:  imdb-dataset-of-50k-movie-reviews.zip\n",
            "  inflating: IMDB Dataset.csv        \n"
          ]
        }
      ]
    },
    {
      "cell_type": "code",
      "source": [
        "df = pd.read_csv('IMDB Dataset.csv')\n",
        "df.info()"
      ],
      "metadata": {
        "colab": {
          "base_uri": "https://localhost:8080/"
        },
        "id": "fPO64TfoNZVQ",
        "outputId": "f7b7d0b1-62a6-4127-892e-2554207132e5"
      },
      "execution_count": null,
      "outputs": [
        {
          "output_type": "stream",
          "name": "stdout",
          "text": [
            "<class 'pandas.core.frame.DataFrame'>\n",
            "RangeIndex: 50000 entries, 0 to 49999\n",
            "Data columns (total 2 columns):\n",
            " #   Column     Non-Null Count  Dtype \n",
            "---  ------     --------------  ----- \n",
            " 0   review     50000 non-null  object\n",
            " 1   sentiment  50000 non-null  object\n",
            "dtypes: object(2)\n",
            "memory usage: 781.4+ KB\n"
          ]
        }
      ]
    },
    {
      "cell_type": "code",
      "source": [
        "df.describe()"
      ],
      "metadata": {
        "colab": {
          "base_uri": "https://localhost:8080/",
          "height": 175
        },
        "id": "8UPlYbrIHrB0",
        "outputId": "2dc44693-effe-4bef-8169-3b5e5333a6a9"
      },
      "execution_count": null,
      "outputs": [
        {
          "output_type": "execute_result",
          "data": {
            "text/plain": [
              "                                                   review sentiment\n",
              "count                                               50000     50000\n",
              "unique                                              49582         2\n",
              "top     Loved today's show!!! It was a variety and not...  positive\n",
              "freq                                                    5     25000"
            ],
            "text/html": [
              "\n",
              "  <div id=\"df-63c24eed-aa32-4c9e-802b-332becf5de4e\" class=\"colab-df-container\">\n",
              "    <div>\n",
              "<style scoped>\n",
              "    .dataframe tbody tr th:only-of-type {\n",
              "        vertical-align: middle;\n",
              "    }\n",
              "\n",
              "    .dataframe tbody tr th {\n",
              "        vertical-align: top;\n",
              "    }\n",
              "\n",
              "    .dataframe thead th {\n",
              "        text-align: right;\n",
              "    }\n",
              "</style>\n",
              "<table border=\"1\" class=\"dataframe\">\n",
              "  <thead>\n",
              "    <tr style=\"text-align: right;\">\n",
              "      <th></th>\n",
              "      <th>review</th>\n",
              "      <th>sentiment</th>\n",
              "    </tr>\n",
              "  </thead>\n",
              "  <tbody>\n",
              "    <tr>\n",
              "      <th>count</th>\n",
              "      <td>50000</td>\n",
              "      <td>50000</td>\n",
              "    </tr>\n",
              "    <tr>\n",
              "      <th>unique</th>\n",
              "      <td>49582</td>\n",
              "      <td>2</td>\n",
              "    </tr>\n",
              "    <tr>\n",
              "      <th>top</th>\n",
              "      <td>Loved today's show!!! It was a variety and not...</td>\n",
              "      <td>positive</td>\n",
              "    </tr>\n",
              "    <tr>\n",
              "      <th>freq</th>\n",
              "      <td>5</td>\n",
              "      <td>25000</td>\n",
              "    </tr>\n",
              "  </tbody>\n",
              "</table>\n",
              "</div>\n",
              "    <div class=\"colab-df-buttons\">\n",
              "\n",
              "  <div class=\"colab-df-container\">\n",
              "    <button class=\"colab-df-convert\" onclick=\"convertToInteractive('df-63c24eed-aa32-4c9e-802b-332becf5de4e')\"\n",
              "            title=\"Convert this dataframe to an interactive table.\"\n",
              "            style=\"display:none;\">\n",
              "\n",
              "  <svg xmlns=\"http://www.w3.org/2000/svg\" height=\"24px\" viewBox=\"0 -960 960 960\">\n",
              "    <path d=\"M120-120v-720h720v720H120Zm60-500h600v-160H180v160Zm220 220h160v-160H400v160Zm0 220h160v-160H400v160ZM180-400h160v-160H180v160Zm440 0h160v-160H620v160ZM180-180h160v-160H180v160Zm440 0h160v-160H620v160Z\"/>\n",
              "  </svg>\n",
              "    </button>\n",
              "\n",
              "  <style>\n",
              "    .colab-df-container {\n",
              "      display:flex;\n",
              "      gap: 12px;\n",
              "    }\n",
              "\n",
              "    .colab-df-convert {\n",
              "      background-color: #E8F0FE;\n",
              "      border: none;\n",
              "      border-radius: 50%;\n",
              "      cursor: pointer;\n",
              "      display: none;\n",
              "      fill: #1967D2;\n",
              "      height: 32px;\n",
              "      padding: 0 0 0 0;\n",
              "      width: 32px;\n",
              "    }\n",
              "\n",
              "    .colab-df-convert:hover {\n",
              "      background-color: #E2EBFA;\n",
              "      box-shadow: 0px 1px 2px rgba(60, 64, 67, 0.3), 0px 1px 3px 1px rgba(60, 64, 67, 0.15);\n",
              "      fill: #174EA6;\n",
              "    }\n",
              "\n",
              "    .colab-df-buttons div {\n",
              "      margin-bottom: 4px;\n",
              "    }\n",
              "\n",
              "    [theme=dark] .colab-df-convert {\n",
              "      background-color: #3B4455;\n",
              "      fill: #D2E3FC;\n",
              "    }\n",
              "\n",
              "    [theme=dark] .colab-df-convert:hover {\n",
              "      background-color: #434B5C;\n",
              "      box-shadow: 0px 1px 3px 1px rgba(0, 0, 0, 0.15);\n",
              "      filter: drop-shadow(0px 1px 2px rgba(0, 0, 0, 0.3));\n",
              "      fill: #FFFFFF;\n",
              "    }\n",
              "  </style>\n",
              "\n",
              "    <script>\n",
              "      const buttonEl =\n",
              "        document.querySelector('#df-63c24eed-aa32-4c9e-802b-332becf5de4e button.colab-df-convert');\n",
              "      buttonEl.style.display =\n",
              "        google.colab.kernel.accessAllowed ? 'block' : 'none';\n",
              "\n",
              "      async function convertToInteractive(key) {\n",
              "        const element = document.querySelector('#df-63c24eed-aa32-4c9e-802b-332becf5de4e');\n",
              "        const dataTable =\n",
              "          await google.colab.kernel.invokeFunction('convertToInteractive',\n",
              "                                                    [key], {});\n",
              "        if (!dataTable) return;\n",
              "\n",
              "        const docLinkHtml = 'Like what you see? Visit the ' +\n",
              "          '<a target=\"_blank\" href=https://colab.research.google.com/notebooks/data_table.ipynb>data table notebook</a>'\n",
              "          + ' to learn more about interactive tables.';\n",
              "        element.innerHTML = '';\n",
              "        dataTable['output_type'] = 'display_data';\n",
              "        await google.colab.output.renderOutput(dataTable, element);\n",
              "        const docLink = document.createElement('div');\n",
              "        docLink.innerHTML = docLinkHtml;\n",
              "        element.appendChild(docLink);\n",
              "      }\n",
              "    </script>\n",
              "  </div>\n",
              "\n",
              "\n",
              "<div id=\"df-233475b7-fae6-4ffb-bb9c-2b0322dbe400\">\n",
              "  <button class=\"colab-df-quickchart\" onclick=\"quickchart('df-233475b7-fae6-4ffb-bb9c-2b0322dbe400')\"\n",
              "            title=\"Suggest charts\"\n",
              "            style=\"display:none;\">\n",
              "\n",
              "<svg xmlns=\"http://www.w3.org/2000/svg\" height=\"24px\"viewBox=\"0 0 24 24\"\n",
              "     width=\"24px\">\n",
              "    <g>\n",
              "        <path d=\"M19 3H5c-1.1 0-2 .9-2 2v14c0 1.1.9 2 2 2h14c1.1 0 2-.9 2-2V5c0-1.1-.9-2-2-2zM9 17H7v-7h2v7zm4 0h-2V7h2v10zm4 0h-2v-4h2v4z\"/>\n",
              "    </g>\n",
              "</svg>\n",
              "  </button>\n",
              "\n",
              "<style>\n",
              "  .colab-df-quickchart {\n",
              "      --bg-color: #E8F0FE;\n",
              "      --fill-color: #1967D2;\n",
              "      --hover-bg-color: #E2EBFA;\n",
              "      --hover-fill-color: #174EA6;\n",
              "      --disabled-fill-color: #AAA;\n",
              "      --disabled-bg-color: #DDD;\n",
              "  }\n",
              "\n",
              "  [theme=dark] .colab-df-quickchart {\n",
              "      --bg-color: #3B4455;\n",
              "      --fill-color: #D2E3FC;\n",
              "      --hover-bg-color: #434B5C;\n",
              "      --hover-fill-color: #FFFFFF;\n",
              "      --disabled-bg-color: #3B4455;\n",
              "      --disabled-fill-color: #666;\n",
              "  }\n",
              "\n",
              "  .colab-df-quickchart {\n",
              "    background-color: var(--bg-color);\n",
              "    border: none;\n",
              "    border-radius: 50%;\n",
              "    cursor: pointer;\n",
              "    display: none;\n",
              "    fill: var(--fill-color);\n",
              "    height: 32px;\n",
              "    padding: 0;\n",
              "    width: 32px;\n",
              "  }\n",
              "\n",
              "  .colab-df-quickchart:hover {\n",
              "    background-color: var(--hover-bg-color);\n",
              "    box-shadow: 0 1px 2px rgba(60, 64, 67, 0.3), 0 1px 3px 1px rgba(60, 64, 67, 0.15);\n",
              "    fill: var(--button-hover-fill-color);\n",
              "  }\n",
              "\n",
              "  .colab-df-quickchart-complete:disabled,\n",
              "  .colab-df-quickchart-complete:disabled:hover {\n",
              "    background-color: var(--disabled-bg-color);\n",
              "    fill: var(--disabled-fill-color);\n",
              "    box-shadow: none;\n",
              "  }\n",
              "\n",
              "  .colab-df-spinner {\n",
              "    border: 2px solid var(--fill-color);\n",
              "    border-color: transparent;\n",
              "    border-bottom-color: var(--fill-color);\n",
              "    animation:\n",
              "      spin 1s steps(1) infinite;\n",
              "  }\n",
              "\n",
              "  @keyframes spin {\n",
              "    0% {\n",
              "      border-color: transparent;\n",
              "      border-bottom-color: var(--fill-color);\n",
              "      border-left-color: var(--fill-color);\n",
              "    }\n",
              "    20% {\n",
              "      border-color: transparent;\n",
              "      border-left-color: var(--fill-color);\n",
              "      border-top-color: var(--fill-color);\n",
              "    }\n",
              "    30% {\n",
              "      border-color: transparent;\n",
              "      border-left-color: var(--fill-color);\n",
              "      border-top-color: var(--fill-color);\n",
              "      border-right-color: var(--fill-color);\n",
              "    }\n",
              "    40% {\n",
              "      border-color: transparent;\n",
              "      border-right-color: var(--fill-color);\n",
              "      border-top-color: var(--fill-color);\n",
              "    }\n",
              "    60% {\n",
              "      border-color: transparent;\n",
              "      border-right-color: var(--fill-color);\n",
              "    }\n",
              "    80% {\n",
              "      border-color: transparent;\n",
              "      border-right-color: var(--fill-color);\n",
              "      border-bottom-color: var(--fill-color);\n",
              "    }\n",
              "    90% {\n",
              "      border-color: transparent;\n",
              "      border-bottom-color: var(--fill-color);\n",
              "    }\n",
              "  }\n",
              "</style>\n",
              "\n",
              "  <script>\n",
              "    async function quickchart(key) {\n",
              "      const quickchartButtonEl =\n",
              "        document.querySelector('#' + key + ' button');\n",
              "      quickchartButtonEl.disabled = true;  // To prevent multiple clicks.\n",
              "      quickchartButtonEl.classList.add('colab-df-spinner');\n",
              "      try {\n",
              "        const charts = await google.colab.kernel.invokeFunction(\n",
              "            'suggestCharts', [key], {});\n",
              "      } catch (error) {\n",
              "        console.error('Error during call to suggestCharts:', error);\n",
              "      }\n",
              "      quickchartButtonEl.classList.remove('colab-df-spinner');\n",
              "      quickchartButtonEl.classList.add('colab-df-quickchart-complete');\n",
              "    }\n",
              "    (() => {\n",
              "      let quickchartButtonEl =\n",
              "        document.querySelector('#df-233475b7-fae6-4ffb-bb9c-2b0322dbe400 button');\n",
              "      quickchartButtonEl.style.display =\n",
              "        google.colab.kernel.accessAllowed ? 'block' : 'none';\n",
              "    })();\n",
              "  </script>\n",
              "</div>\n",
              "\n",
              "    </div>\n",
              "  </div>\n"
            ],
            "application/vnd.google.colaboratory.intrinsic+json": {
              "type": "dataframe",
              "summary": "{\n  \"name\": \"df\",\n  \"rows\": 4,\n  \"fields\": [\n    {\n      \"column\": \"review\",\n      \"properties\": {\n        \"dtype\": \"string\",\n        \"num_unique_values\": 4,\n        \"samples\": [\n          49582,\n          \"5\",\n          \"50000\"\n        ],\n        \"semantic_type\": \"\",\n        \"description\": \"\"\n      }\n    },\n    {\n      \"column\": \"sentiment\",\n      \"properties\": {\n        \"dtype\": \"string\",\n        \"num_unique_values\": 4,\n        \"samples\": [\n          2,\n          \"25000\",\n          \"50000\"\n        ],\n        \"semantic_type\": \"\",\n        \"description\": \"\"\n      }\n    }\n  ]\n}"
            }
          },
          "metadata": {},
          "execution_count": 24
        }
      ]
    },
    {
      "cell_type": "code",
      "source": [
        "df.head()"
      ],
      "metadata": {
        "colab": {
          "base_uri": "https://localhost:8080/",
          "height": 206
        },
        "id": "BQK2ZbsLODEZ",
        "outputId": "a1b58c5f-529e-4ad0-d9d7-77a47b379c65"
      },
      "execution_count": null,
      "outputs": [
        {
          "output_type": "execute_result",
          "data": {
            "text/plain": [
              "                                              review sentiment\n",
              "0  One of the other reviewers has mentioned that ...  positive\n",
              "1  A wonderful little production. <br /><br />The...  positive\n",
              "2  I thought this was a wonderful way to spend ti...  positive\n",
              "3  Basically there's a family where a little boy ...  negative\n",
              "4  Petter Mattei's \"Love in the Time of Money\" is...  positive"
            ],
            "text/html": [
              "\n",
              "  <div id=\"df-17e9706c-9be2-44a6-a67c-8fdadbb31c2a\" class=\"colab-df-container\">\n",
              "    <div>\n",
              "<style scoped>\n",
              "    .dataframe tbody tr th:only-of-type {\n",
              "        vertical-align: middle;\n",
              "    }\n",
              "\n",
              "    .dataframe tbody tr th {\n",
              "        vertical-align: top;\n",
              "    }\n",
              "\n",
              "    .dataframe thead th {\n",
              "        text-align: right;\n",
              "    }\n",
              "</style>\n",
              "<table border=\"1\" class=\"dataframe\">\n",
              "  <thead>\n",
              "    <tr style=\"text-align: right;\">\n",
              "      <th></th>\n",
              "      <th>review</th>\n",
              "      <th>sentiment</th>\n",
              "    </tr>\n",
              "  </thead>\n",
              "  <tbody>\n",
              "    <tr>\n",
              "      <th>0</th>\n",
              "      <td>One of the other reviewers has mentioned that ...</td>\n",
              "      <td>positive</td>\n",
              "    </tr>\n",
              "    <tr>\n",
              "      <th>1</th>\n",
              "      <td>A wonderful little production. &lt;br /&gt;&lt;br /&gt;The...</td>\n",
              "      <td>positive</td>\n",
              "    </tr>\n",
              "    <tr>\n",
              "      <th>2</th>\n",
              "      <td>I thought this was a wonderful way to spend ti...</td>\n",
              "      <td>positive</td>\n",
              "    </tr>\n",
              "    <tr>\n",
              "      <th>3</th>\n",
              "      <td>Basically there's a family where a little boy ...</td>\n",
              "      <td>negative</td>\n",
              "    </tr>\n",
              "    <tr>\n",
              "      <th>4</th>\n",
              "      <td>Petter Mattei's \"Love in the Time of Money\" is...</td>\n",
              "      <td>positive</td>\n",
              "    </tr>\n",
              "  </tbody>\n",
              "</table>\n",
              "</div>\n",
              "    <div class=\"colab-df-buttons\">\n",
              "\n",
              "  <div class=\"colab-df-container\">\n",
              "    <button class=\"colab-df-convert\" onclick=\"convertToInteractive('df-17e9706c-9be2-44a6-a67c-8fdadbb31c2a')\"\n",
              "            title=\"Convert this dataframe to an interactive table.\"\n",
              "            style=\"display:none;\">\n",
              "\n",
              "  <svg xmlns=\"http://www.w3.org/2000/svg\" height=\"24px\" viewBox=\"0 -960 960 960\">\n",
              "    <path d=\"M120-120v-720h720v720H120Zm60-500h600v-160H180v160Zm220 220h160v-160H400v160Zm0 220h160v-160H400v160ZM180-400h160v-160H180v160Zm440 0h160v-160H620v160ZM180-180h160v-160H180v160Zm440 0h160v-160H620v160Z\"/>\n",
              "  </svg>\n",
              "    </button>\n",
              "\n",
              "  <style>\n",
              "    .colab-df-container {\n",
              "      display:flex;\n",
              "      gap: 12px;\n",
              "    }\n",
              "\n",
              "    .colab-df-convert {\n",
              "      background-color: #E8F0FE;\n",
              "      border: none;\n",
              "      border-radius: 50%;\n",
              "      cursor: pointer;\n",
              "      display: none;\n",
              "      fill: #1967D2;\n",
              "      height: 32px;\n",
              "      padding: 0 0 0 0;\n",
              "      width: 32px;\n",
              "    }\n",
              "\n",
              "    .colab-df-convert:hover {\n",
              "      background-color: #E2EBFA;\n",
              "      box-shadow: 0px 1px 2px rgba(60, 64, 67, 0.3), 0px 1px 3px 1px rgba(60, 64, 67, 0.15);\n",
              "      fill: #174EA6;\n",
              "    }\n",
              "\n",
              "    .colab-df-buttons div {\n",
              "      margin-bottom: 4px;\n",
              "    }\n",
              "\n",
              "    [theme=dark] .colab-df-convert {\n",
              "      background-color: #3B4455;\n",
              "      fill: #D2E3FC;\n",
              "    }\n",
              "\n",
              "    [theme=dark] .colab-df-convert:hover {\n",
              "      background-color: #434B5C;\n",
              "      box-shadow: 0px 1px 3px 1px rgba(0, 0, 0, 0.15);\n",
              "      filter: drop-shadow(0px 1px 2px rgba(0, 0, 0, 0.3));\n",
              "      fill: #FFFFFF;\n",
              "    }\n",
              "  </style>\n",
              "\n",
              "    <script>\n",
              "      const buttonEl =\n",
              "        document.querySelector('#df-17e9706c-9be2-44a6-a67c-8fdadbb31c2a button.colab-df-convert');\n",
              "      buttonEl.style.display =\n",
              "        google.colab.kernel.accessAllowed ? 'block' : 'none';\n",
              "\n",
              "      async function convertToInteractive(key) {\n",
              "        const element = document.querySelector('#df-17e9706c-9be2-44a6-a67c-8fdadbb31c2a');\n",
              "        const dataTable =\n",
              "          await google.colab.kernel.invokeFunction('convertToInteractive',\n",
              "                                                    [key], {});\n",
              "        if (!dataTable) return;\n",
              "\n",
              "        const docLinkHtml = 'Like what you see? Visit the ' +\n",
              "          '<a target=\"_blank\" href=https://colab.research.google.com/notebooks/data_table.ipynb>data table notebook</a>'\n",
              "          + ' to learn more about interactive tables.';\n",
              "        element.innerHTML = '';\n",
              "        dataTable['output_type'] = 'display_data';\n",
              "        await google.colab.output.renderOutput(dataTable, element);\n",
              "        const docLink = document.createElement('div');\n",
              "        docLink.innerHTML = docLinkHtml;\n",
              "        element.appendChild(docLink);\n",
              "      }\n",
              "    </script>\n",
              "  </div>\n",
              "\n",
              "\n",
              "<div id=\"df-4a0b2d22-f432-48c3-92d7-df045a346e6c\">\n",
              "  <button class=\"colab-df-quickchart\" onclick=\"quickchart('df-4a0b2d22-f432-48c3-92d7-df045a346e6c')\"\n",
              "            title=\"Suggest charts\"\n",
              "            style=\"display:none;\">\n",
              "\n",
              "<svg xmlns=\"http://www.w3.org/2000/svg\" height=\"24px\"viewBox=\"0 0 24 24\"\n",
              "     width=\"24px\">\n",
              "    <g>\n",
              "        <path d=\"M19 3H5c-1.1 0-2 .9-2 2v14c0 1.1.9 2 2 2h14c1.1 0 2-.9 2-2V5c0-1.1-.9-2-2-2zM9 17H7v-7h2v7zm4 0h-2V7h2v10zm4 0h-2v-4h2v4z\"/>\n",
              "    </g>\n",
              "</svg>\n",
              "  </button>\n",
              "\n",
              "<style>\n",
              "  .colab-df-quickchart {\n",
              "      --bg-color: #E8F0FE;\n",
              "      --fill-color: #1967D2;\n",
              "      --hover-bg-color: #E2EBFA;\n",
              "      --hover-fill-color: #174EA6;\n",
              "      --disabled-fill-color: #AAA;\n",
              "      --disabled-bg-color: #DDD;\n",
              "  }\n",
              "\n",
              "  [theme=dark] .colab-df-quickchart {\n",
              "      --bg-color: #3B4455;\n",
              "      --fill-color: #D2E3FC;\n",
              "      --hover-bg-color: #434B5C;\n",
              "      --hover-fill-color: #FFFFFF;\n",
              "      --disabled-bg-color: #3B4455;\n",
              "      --disabled-fill-color: #666;\n",
              "  }\n",
              "\n",
              "  .colab-df-quickchart {\n",
              "    background-color: var(--bg-color);\n",
              "    border: none;\n",
              "    border-radius: 50%;\n",
              "    cursor: pointer;\n",
              "    display: none;\n",
              "    fill: var(--fill-color);\n",
              "    height: 32px;\n",
              "    padding: 0;\n",
              "    width: 32px;\n",
              "  }\n",
              "\n",
              "  .colab-df-quickchart:hover {\n",
              "    background-color: var(--hover-bg-color);\n",
              "    box-shadow: 0 1px 2px rgba(60, 64, 67, 0.3), 0 1px 3px 1px rgba(60, 64, 67, 0.15);\n",
              "    fill: var(--button-hover-fill-color);\n",
              "  }\n",
              "\n",
              "  .colab-df-quickchart-complete:disabled,\n",
              "  .colab-df-quickchart-complete:disabled:hover {\n",
              "    background-color: var(--disabled-bg-color);\n",
              "    fill: var(--disabled-fill-color);\n",
              "    box-shadow: none;\n",
              "  }\n",
              "\n",
              "  .colab-df-spinner {\n",
              "    border: 2px solid var(--fill-color);\n",
              "    border-color: transparent;\n",
              "    border-bottom-color: var(--fill-color);\n",
              "    animation:\n",
              "      spin 1s steps(1) infinite;\n",
              "  }\n",
              "\n",
              "  @keyframes spin {\n",
              "    0% {\n",
              "      border-color: transparent;\n",
              "      border-bottom-color: var(--fill-color);\n",
              "      border-left-color: var(--fill-color);\n",
              "    }\n",
              "    20% {\n",
              "      border-color: transparent;\n",
              "      border-left-color: var(--fill-color);\n",
              "      border-top-color: var(--fill-color);\n",
              "    }\n",
              "    30% {\n",
              "      border-color: transparent;\n",
              "      border-left-color: var(--fill-color);\n",
              "      border-top-color: var(--fill-color);\n",
              "      border-right-color: var(--fill-color);\n",
              "    }\n",
              "    40% {\n",
              "      border-color: transparent;\n",
              "      border-right-color: var(--fill-color);\n",
              "      border-top-color: var(--fill-color);\n",
              "    }\n",
              "    60% {\n",
              "      border-color: transparent;\n",
              "      border-right-color: var(--fill-color);\n",
              "    }\n",
              "    80% {\n",
              "      border-color: transparent;\n",
              "      border-right-color: var(--fill-color);\n",
              "      border-bottom-color: var(--fill-color);\n",
              "    }\n",
              "    90% {\n",
              "      border-color: transparent;\n",
              "      border-bottom-color: var(--fill-color);\n",
              "    }\n",
              "  }\n",
              "</style>\n",
              "\n",
              "  <script>\n",
              "    async function quickchart(key) {\n",
              "      const quickchartButtonEl =\n",
              "        document.querySelector('#' + key + ' button');\n",
              "      quickchartButtonEl.disabled = true;  // To prevent multiple clicks.\n",
              "      quickchartButtonEl.classList.add('colab-df-spinner');\n",
              "      try {\n",
              "        const charts = await google.colab.kernel.invokeFunction(\n",
              "            'suggestCharts', [key], {});\n",
              "      } catch (error) {\n",
              "        console.error('Error during call to suggestCharts:', error);\n",
              "      }\n",
              "      quickchartButtonEl.classList.remove('colab-df-spinner');\n",
              "      quickchartButtonEl.classList.add('colab-df-quickchart-complete');\n",
              "    }\n",
              "    (() => {\n",
              "      let quickchartButtonEl =\n",
              "        document.querySelector('#df-4a0b2d22-f432-48c3-92d7-df045a346e6c button');\n",
              "      quickchartButtonEl.style.display =\n",
              "        google.colab.kernel.accessAllowed ? 'block' : 'none';\n",
              "    })();\n",
              "  </script>\n",
              "</div>\n",
              "\n",
              "    </div>\n",
              "  </div>\n"
            ],
            "application/vnd.google.colaboratory.intrinsic+json": {
              "type": "dataframe",
              "variable_name": "df",
              "summary": "{\n  \"name\": \"df\",\n  \"rows\": 50000,\n  \"fields\": [\n    {\n      \"column\": \"review\",\n      \"properties\": {\n        \"dtype\": \"string\",\n        \"num_unique_values\": 49582,\n        \"samples\": [\n          \"\\\"Soul Plane\\\" is a horrible attempt at comedy that only should appeal people with thick skulls, bloodshot eyes and furry pawns. <br /><br />The plot is not only incoherent but also non-existent, acting is mostly sub sub-par with a gang of highly moronic and dreadful characters thrown in for bad measure, jokes are often spotted miles ahead and almost never even a bit amusing. This movie lacks any structure and is full of racial stereotypes that must have seemed old even in the fifties, the only thing it really has going for it is some pretty ladies, but really, if you want that you can rent something from the \\\"Adult\\\" section. OK?<br /><br />I can hardly see anything here to recommend since you'll probably have a lot a better and productive time chasing rats with a sledgehammer or inventing waterproof teabags or whatever.<br /><br />2/10\",\n          \"Guest from the Future tells a fascinating story of time travel, friendship, battle of good and evil -- all with a small budget, child actors, and few special effects. Something for Spielberg and Lucas to learn from. ;) A sixth-grader Kolya \\\"Nick\\\" Gerasimov finds a time machine in the basement of a decrepit building and travels 100 years into the future. He discovers a near-perfect, utopian society where robots play guitars and write poetry, everyone is kind to each other and people enjoy everything technology has to offer. Alice is the daughter of a prominent scientist who invented a device called Mielophone that allows to read minds of humans and animals. The device can be put to both good and bad use, depending on whose hands it falls into. When two evil space pirates from Saturn who want to rule the universe attempt to steal Mielophone, it falls into the hands of 20th century school boy Nick. With the pirates hot on his tracks, he travels back to his time, followed by the pirates, and Alice. Chaos, confusion and funny situations follow as the luckless pirates try to blend in with the earthlings. Alice enrolls in the same school Nick goes to and demonstrates superhuman abilities in PE class. The catch is, Alice doesn't know what Nick looks like, while the pirates do. Also, the pirates are able to change their appearance and turn literally into anyone. (Hmm, I wonder if this is where James Cameron got the idea for Terminator...) Who gets to Nick -- and Mielophone -- first? Excellent plot, non-stop adventures, and great soundtrack. I wish Hollywood made kid movies like this one...\",\n          \"\\\"National Treasure\\\" (2004) is a thoroughly misguided hodge-podge of plot entanglements that borrow from nearly every cloak and dagger government conspiracy clich\\u00e9 that has ever been written. The film stars Nicholas Cage as Benjamin Franklin Gates (how precious is that, I ask you?); a seemingly normal fellow who, for no other reason than being of a lineage of like-minded misguided fortune hunters, decides to steal a 'national treasure' that has been hidden by the United States founding fathers. After a bit of subtext and background that plays laughably (unintentionally) like Indiana Jones meets The Patriot, the film degenerates into one misguided whimsy after another \\u0096 attempting to create a 'Stanley Goodspeed' regurgitation of Nicholas Cage and launch the whole convoluted mess forward with a series of high octane, but disconnected misadventures.<br /><br />The relevancy and logic to having George Washington and his motley crew of patriots burying a king's ransom someplace on native soil, and then, going through the meticulous plan of leaving clues scattered throughout U.S. currency art work, is something that director Jon Turteltaub never quite gets around to explaining. Couldn't Washington found better usage for such wealth during the start up of the country? Hence, we are left with a mystery built on top of an enigma that is already on shaky ground by the time Ben appoints himself the new custodian of this untold wealth. Ben's intentions are noble \\u0096 if confusing. He's set on protecting the treasure. For who and when?\\u0085your guess is as good as mine.<br /><br />But there are a few problems with Ben's crusade. First up, his friend, Ian Holmes (Sean Bean) decides that he can't wait for Ben to make up his mind about stealing the Declaration of Independence from the National Archives (oh, yeah \\u0096 brilliant idea!). Presumably, the back of that famous document holds the secret answer to the ultimate fortune. So Ian tries to kill Ben. The assassination attempt is, of course, unsuccessful, if overly melodramatic. It also affords Ben the opportunity to pick up, and pick on, the very sultry curator of the archives, Abigail Chase (Diane Kruger). She thinks Ben is clearly a nut \\u0096 at least at the beginning. But true to action/romance form, Abby's resolve melts quicker than you can say, \\\"is that the Hope Diamond?\\\" The film moves into full X-File-ish mode, as the FBI, mistakenly believing that Ben is behind the theft, retaliate in various benign ways that lead to a multi-layering of action sequences reminiscent of Mission Impossible meets The Fugitive. Honestly, don't those guys ever get 'intelligence' information that is correct? In the final analysis, \\\"National Treasure\\\" isn't great film making, so much as it's a patchwork rehash of tired old bits from other movies, woven together from scraps, the likes of which would make IL' Betsy Ross blush.<br /><br />The Buena Vista DVD delivers a far more generous treatment than this film is deserving of. The anamorphic widescreen picture exhibits a very smooth and finely detailed image with very rich colors, natural flesh tones, solid blacks and clean whites. The stylized image is also free of blemishes and digital enhancements. The audio is 5.1 and delivers a nice sonic boom to your side and rear speakers with intensity and realism. Extras include a host of promotional junket material that is rather deep and over the top in its explanation of how and why this film was made. If only, as an audience, we had had more clarification as to why Ben and co. were chasing after an illusive treasure, this might have been one good flick. Extras conclude with the theatrical trailer, audio commentary and deleted scenes. Not for the faint-hearted \\u0096 just the thick-headed.\"\n        ],\n        \"semantic_type\": \"\",\n        \"description\": \"\"\n      }\n    },\n    {\n      \"column\": \"sentiment\",\n      \"properties\": {\n        \"dtype\": \"category\",\n        \"num_unique_values\": 2,\n        \"samples\": [\n          \"negative\",\n          \"positive\"\n        ],\n        \"semantic_type\": \"\",\n        \"description\": \"\"\n      }\n    }\n  ]\n}"
            }
          },
          "metadata": {},
          "execution_count": 25
        }
      ]
    },
    {
      "cell_type": "code",
      "source": [
        "print(df['review'][0]) # 문장으로 이뤄져 있음"
      ],
      "metadata": {
        "id": "frW_SvrZOHOJ",
        "colab": {
          "base_uri": "https://localhost:8080/"
        },
        "outputId": "d8dc048a-4f57-43d9-fd08-50ce3f24ffff"
      },
      "execution_count": null,
      "outputs": [
        {
          "output_type": "stream",
          "name": "stdout",
          "text": [
            "One of the other reviewers has mentioned that after watching just 1 Oz episode you'll be hooked. They are right, as this is exactly what happened with me.<br /><br />The first thing that struck me about Oz was its brutality and unflinching scenes of violence, which set in right from the word GO. Trust me, this is not a show for the faint hearted or timid. This show pulls no punches with regards to drugs, sex or violence. Its is hardcore, in the classic use of the word.<br /><br />It is called OZ as that is the nickname given to the Oswald Maximum Security State Penitentary. It focuses mainly on Emerald City, an experimental section of the prison where all the cells have glass fronts and face inwards, so privacy is not high on the agenda. Em City is home to many..Aryans, Muslims, gangstas, Latinos, Christians, Italians, Irish and more....so scuffles, death stares, dodgy dealings and shady agreements are never far away.<br /><br />I would say the main appeal of the show is due to the fact that it goes where other shows wouldn't dare. Forget pretty pictures painted for mainstream audiences, forget charm, forget romance...OZ doesn't mess around. The first episode I ever saw struck me as so nasty it was surreal, I couldn't say I was ready for it, but as I watched more, I developed a taste for Oz, and got accustomed to the high levels of graphic violence. Not just violence, but injustice (crooked guards who'll be sold out for a nickel, inmates who'll kill on order and get away with it, well mannered, middle class inmates being turned into prison bitches due to their lack of street skills or prison experience) Watching Oz, you may become comfortable with what is uncomfortable viewing....thats if you can get in touch with your darker side.\n"
          ]
        }
      ]
    },
    {
      "cell_type": "code",
      "source": [
        "df['sentiment'].unique() # 2개의 타입 존재"
      ],
      "metadata": {
        "colab": {
          "base_uri": "https://localhost:8080/"
        },
        "id": "Gbp5t_nPU2Ih",
        "outputId": "2de90e50-3d92-4cdf-b0b8-cbca6084b74f"
      },
      "execution_count": null,
      "outputs": [
        {
          "output_type": "execute_result",
          "data": {
            "text/plain": [
              "array(['positive', 'negative'], dtype=object)"
            ]
          },
          "metadata": {},
          "execution_count": 27
        }
      ]
    },
    {
      "cell_type": "markdown",
      "source": [
        "### Data Preprocessing"
      ],
      "metadata": {
        "id": "9me__DdZbJIF"
      }
    },
    {
      "cell_type": "markdown",
      "source": [
        "#### labeling\n"
      ],
      "metadata": {
        "id": "X9UbCw-gV9MF"
      }
    },
    {
      "cell_type": "code",
      "source": [
        "# df['sentiment'][df['sentiment'] == 'positive'] = 1\n",
        "# df['sentiment'][df['sentiment'] == 'negative'] = 0"
      ],
      "metadata": {
        "id": "apZPw2oqU6Vo"
      },
      "execution_count": null,
      "outputs": []
    },
    {
      "cell_type": "code",
      "source": [
        "df.loc[df['sentiment'] == 'positive', 'sentiment'] = 1\n",
        "df.loc[df['sentiment'] == 'negative', 'sentiment'] = 0"
      ],
      "metadata": {
        "id": "9Ha65G3pW03-"
      },
      "execution_count": null,
      "outputs": []
    },
    {
      "cell_type": "code",
      "source": [
        "df.head()"
      ],
      "metadata": {
        "colab": {
          "base_uri": "https://localhost:8080/",
          "height": 206
        },
        "id": "eh0uHr_0VIF-",
        "outputId": "f3fc1f25-c79b-4d08-bb44-94cbfedf2fb1"
      },
      "execution_count": null,
      "outputs": [
        {
          "output_type": "execute_result",
          "data": {
            "text/plain": [
              "                                              review sentiment\n",
              "0  One of the other reviewers has mentioned that ...         1\n",
              "1  A wonderful little production. <br /><br />The...         1\n",
              "2  I thought this was a wonderful way to spend ti...         1\n",
              "3  Basically there's a family where a little boy ...         0\n",
              "4  Petter Mattei's \"Love in the Time of Money\" is...         1"
            ],
            "text/html": [
              "\n",
              "  <div id=\"df-d5f27a96-dfd3-4b0d-a2f6-7ea601ad3d7f\" class=\"colab-df-container\">\n",
              "    <div>\n",
              "<style scoped>\n",
              "    .dataframe tbody tr th:only-of-type {\n",
              "        vertical-align: middle;\n",
              "    }\n",
              "\n",
              "    .dataframe tbody tr th {\n",
              "        vertical-align: top;\n",
              "    }\n",
              "\n",
              "    .dataframe thead th {\n",
              "        text-align: right;\n",
              "    }\n",
              "</style>\n",
              "<table border=\"1\" class=\"dataframe\">\n",
              "  <thead>\n",
              "    <tr style=\"text-align: right;\">\n",
              "      <th></th>\n",
              "      <th>review</th>\n",
              "      <th>sentiment</th>\n",
              "    </tr>\n",
              "  </thead>\n",
              "  <tbody>\n",
              "    <tr>\n",
              "      <th>0</th>\n",
              "      <td>One of the other reviewers has mentioned that ...</td>\n",
              "      <td>1</td>\n",
              "    </tr>\n",
              "    <tr>\n",
              "      <th>1</th>\n",
              "      <td>A wonderful little production. &lt;br /&gt;&lt;br /&gt;The...</td>\n",
              "      <td>1</td>\n",
              "    </tr>\n",
              "    <tr>\n",
              "      <th>2</th>\n",
              "      <td>I thought this was a wonderful way to spend ti...</td>\n",
              "      <td>1</td>\n",
              "    </tr>\n",
              "    <tr>\n",
              "      <th>3</th>\n",
              "      <td>Basically there's a family where a little boy ...</td>\n",
              "      <td>0</td>\n",
              "    </tr>\n",
              "    <tr>\n",
              "      <th>4</th>\n",
              "      <td>Petter Mattei's \"Love in the Time of Money\" is...</td>\n",
              "      <td>1</td>\n",
              "    </tr>\n",
              "  </tbody>\n",
              "</table>\n",
              "</div>\n",
              "    <div class=\"colab-df-buttons\">\n",
              "\n",
              "  <div class=\"colab-df-container\">\n",
              "    <button class=\"colab-df-convert\" onclick=\"convertToInteractive('df-d5f27a96-dfd3-4b0d-a2f6-7ea601ad3d7f')\"\n",
              "            title=\"Convert this dataframe to an interactive table.\"\n",
              "            style=\"display:none;\">\n",
              "\n",
              "  <svg xmlns=\"http://www.w3.org/2000/svg\" height=\"24px\" viewBox=\"0 -960 960 960\">\n",
              "    <path d=\"M120-120v-720h720v720H120Zm60-500h600v-160H180v160Zm220 220h160v-160H400v160Zm0 220h160v-160H400v160ZM180-400h160v-160H180v160Zm440 0h160v-160H620v160ZM180-180h160v-160H180v160Zm440 0h160v-160H620v160Z\"/>\n",
              "  </svg>\n",
              "    </button>\n",
              "\n",
              "  <style>\n",
              "    .colab-df-container {\n",
              "      display:flex;\n",
              "      gap: 12px;\n",
              "    }\n",
              "\n",
              "    .colab-df-convert {\n",
              "      background-color: #E8F0FE;\n",
              "      border: none;\n",
              "      border-radius: 50%;\n",
              "      cursor: pointer;\n",
              "      display: none;\n",
              "      fill: #1967D2;\n",
              "      height: 32px;\n",
              "      padding: 0 0 0 0;\n",
              "      width: 32px;\n",
              "    }\n",
              "\n",
              "    .colab-df-convert:hover {\n",
              "      background-color: #E2EBFA;\n",
              "      box-shadow: 0px 1px 2px rgba(60, 64, 67, 0.3), 0px 1px 3px 1px rgba(60, 64, 67, 0.15);\n",
              "      fill: #174EA6;\n",
              "    }\n",
              "\n",
              "    .colab-df-buttons div {\n",
              "      margin-bottom: 4px;\n",
              "    }\n",
              "\n",
              "    [theme=dark] .colab-df-convert {\n",
              "      background-color: #3B4455;\n",
              "      fill: #D2E3FC;\n",
              "    }\n",
              "\n",
              "    [theme=dark] .colab-df-convert:hover {\n",
              "      background-color: #434B5C;\n",
              "      box-shadow: 0px 1px 3px 1px rgba(0, 0, 0, 0.15);\n",
              "      filter: drop-shadow(0px 1px 2px rgba(0, 0, 0, 0.3));\n",
              "      fill: #FFFFFF;\n",
              "    }\n",
              "  </style>\n",
              "\n",
              "    <script>\n",
              "      const buttonEl =\n",
              "        document.querySelector('#df-d5f27a96-dfd3-4b0d-a2f6-7ea601ad3d7f button.colab-df-convert');\n",
              "      buttonEl.style.display =\n",
              "        google.colab.kernel.accessAllowed ? 'block' : 'none';\n",
              "\n",
              "      async function convertToInteractive(key) {\n",
              "        const element = document.querySelector('#df-d5f27a96-dfd3-4b0d-a2f6-7ea601ad3d7f');\n",
              "        const dataTable =\n",
              "          await google.colab.kernel.invokeFunction('convertToInteractive',\n",
              "                                                    [key], {});\n",
              "        if (!dataTable) return;\n",
              "\n",
              "        const docLinkHtml = 'Like what you see? Visit the ' +\n",
              "          '<a target=\"_blank\" href=https://colab.research.google.com/notebooks/data_table.ipynb>data table notebook</a>'\n",
              "          + ' to learn more about interactive tables.';\n",
              "        element.innerHTML = '';\n",
              "        dataTable['output_type'] = 'display_data';\n",
              "        await google.colab.output.renderOutput(dataTable, element);\n",
              "        const docLink = document.createElement('div');\n",
              "        docLink.innerHTML = docLinkHtml;\n",
              "        element.appendChild(docLink);\n",
              "      }\n",
              "    </script>\n",
              "  </div>\n",
              "\n",
              "\n",
              "<div id=\"df-830fa30c-9572-4413-92b8-acab6790f608\">\n",
              "  <button class=\"colab-df-quickchart\" onclick=\"quickchart('df-830fa30c-9572-4413-92b8-acab6790f608')\"\n",
              "            title=\"Suggest charts\"\n",
              "            style=\"display:none;\">\n",
              "\n",
              "<svg xmlns=\"http://www.w3.org/2000/svg\" height=\"24px\"viewBox=\"0 0 24 24\"\n",
              "     width=\"24px\">\n",
              "    <g>\n",
              "        <path d=\"M19 3H5c-1.1 0-2 .9-2 2v14c0 1.1.9 2 2 2h14c1.1 0 2-.9 2-2V5c0-1.1-.9-2-2-2zM9 17H7v-7h2v7zm4 0h-2V7h2v10zm4 0h-2v-4h2v4z\"/>\n",
              "    </g>\n",
              "</svg>\n",
              "  </button>\n",
              "\n",
              "<style>\n",
              "  .colab-df-quickchart {\n",
              "      --bg-color: #E8F0FE;\n",
              "      --fill-color: #1967D2;\n",
              "      --hover-bg-color: #E2EBFA;\n",
              "      --hover-fill-color: #174EA6;\n",
              "      --disabled-fill-color: #AAA;\n",
              "      --disabled-bg-color: #DDD;\n",
              "  }\n",
              "\n",
              "  [theme=dark] .colab-df-quickchart {\n",
              "      --bg-color: #3B4455;\n",
              "      --fill-color: #D2E3FC;\n",
              "      --hover-bg-color: #434B5C;\n",
              "      --hover-fill-color: #FFFFFF;\n",
              "      --disabled-bg-color: #3B4455;\n",
              "      --disabled-fill-color: #666;\n",
              "  }\n",
              "\n",
              "  .colab-df-quickchart {\n",
              "    background-color: var(--bg-color);\n",
              "    border: none;\n",
              "    border-radius: 50%;\n",
              "    cursor: pointer;\n",
              "    display: none;\n",
              "    fill: var(--fill-color);\n",
              "    height: 32px;\n",
              "    padding: 0;\n",
              "    width: 32px;\n",
              "  }\n",
              "\n",
              "  .colab-df-quickchart:hover {\n",
              "    background-color: var(--hover-bg-color);\n",
              "    box-shadow: 0 1px 2px rgba(60, 64, 67, 0.3), 0 1px 3px 1px rgba(60, 64, 67, 0.15);\n",
              "    fill: var(--button-hover-fill-color);\n",
              "  }\n",
              "\n",
              "  .colab-df-quickchart-complete:disabled,\n",
              "  .colab-df-quickchart-complete:disabled:hover {\n",
              "    background-color: var(--disabled-bg-color);\n",
              "    fill: var(--disabled-fill-color);\n",
              "    box-shadow: none;\n",
              "  }\n",
              "\n",
              "  .colab-df-spinner {\n",
              "    border: 2px solid var(--fill-color);\n",
              "    border-color: transparent;\n",
              "    border-bottom-color: var(--fill-color);\n",
              "    animation:\n",
              "      spin 1s steps(1) infinite;\n",
              "  }\n",
              "\n",
              "  @keyframes spin {\n",
              "    0% {\n",
              "      border-color: transparent;\n",
              "      border-bottom-color: var(--fill-color);\n",
              "      border-left-color: var(--fill-color);\n",
              "    }\n",
              "    20% {\n",
              "      border-color: transparent;\n",
              "      border-left-color: var(--fill-color);\n",
              "      border-top-color: var(--fill-color);\n",
              "    }\n",
              "    30% {\n",
              "      border-color: transparent;\n",
              "      border-left-color: var(--fill-color);\n",
              "      border-top-color: var(--fill-color);\n",
              "      border-right-color: var(--fill-color);\n",
              "    }\n",
              "    40% {\n",
              "      border-color: transparent;\n",
              "      border-right-color: var(--fill-color);\n",
              "      border-top-color: var(--fill-color);\n",
              "    }\n",
              "    60% {\n",
              "      border-color: transparent;\n",
              "      border-right-color: var(--fill-color);\n",
              "    }\n",
              "    80% {\n",
              "      border-color: transparent;\n",
              "      border-right-color: var(--fill-color);\n",
              "      border-bottom-color: var(--fill-color);\n",
              "    }\n",
              "    90% {\n",
              "      border-color: transparent;\n",
              "      border-bottom-color: var(--fill-color);\n",
              "    }\n",
              "  }\n",
              "</style>\n",
              "\n",
              "  <script>\n",
              "    async function quickchart(key) {\n",
              "      const quickchartButtonEl =\n",
              "        document.querySelector('#' + key + ' button');\n",
              "      quickchartButtonEl.disabled = true;  // To prevent multiple clicks.\n",
              "      quickchartButtonEl.classList.add('colab-df-spinner');\n",
              "      try {\n",
              "        const charts = await google.colab.kernel.invokeFunction(\n",
              "            'suggestCharts', [key], {});\n",
              "      } catch (error) {\n",
              "        console.error('Error during call to suggestCharts:', error);\n",
              "      }\n",
              "      quickchartButtonEl.classList.remove('colab-df-spinner');\n",
              "      quickchartButtonEl.classList.add('colab-df-quickchart-complete');\n",
              "    }\n",
              "    (() => {\n",
              "      let quickchartButtonEl =\n",
              "        document.querySelector('#df-830fa30c-9572-4413-92b8-acab6790f608 button');\n",
              "      quickchartButtonEl.style.display =\n",
              "        google.colab.kernel.accessAllowed ? 'block' : 'none';\n",
              "    })();\n",
              "  </script>\n",
              "</div>\n",
              "\n",
              "    </div>\n",
              "  </div>\n"
            ],
            "application/vnd.google.colaboratory.intrinsic+json": {
              "type": "dataframe",
              "variable_name": "df",
              "summary": "{\n  \"name\": \"df\",\n  \"rows\": 50000,\n  \"fields\": [\n    {\n      \"column\": \"review\",\n      \"properties\": {\n        \"dtype\": \"string\",\n        \"num_unique_values\": 49582,\n        \"samples\": [\n          \"\\\"Soul Plane\\\" is a horrible attempt at comedy that only should appeal people with thick skulls, bloodshot eyes and furry pawns. <br /><br />The plot is not only incoherent but also non-existent, acting is mostly sub sub-par with a gang of highly moronic and dreadful characters thrown in for bad measure, jokes are often spotted miles ahead and almost never even a bit amusing. This movie lacks any structure and is full of racial stereotypes that must have seemed old even in the fifties, the only thing it really has going for it is some pretty ladies, but really, if you want that you can rent something from the \\\"Adult\\\" section. OK?<br /><br />I can hardly see anything here to recommend since you'll probably have a lot a better and productive time chasing rats with a sledgehammer or inventing waterproof teabags or whatever.<br /><br />2/10\",\n          \"Guest from the Future tells a fascinating story of time travel, friendship, battle of good and evil -- all with a small budget, child actors, and few special effects. Something for Spielberg and Lucas to learn from. ;) A sixth-grader Kolya \\\"Nick\\\" Gerasimov finds a time machine in the basement of a decrepit building and travels 100 years into the future. He discovers a near-perfect, utopian society where robots play guitars and write poetry, everyone is kind to each other and people enjoy everything technology has to offer. Alice is the daughter of a prominent scientist who invented a device called Mielophone that allows to read minds of humans and animals. The device can be put to both good and bad use, depending on whose hands it falls into. When two evil space pirates from Saturn who want to rule the universe attempt to steal Mielophone, it falls into the hands of 20th century school boy Nick. With the pirates hot on his tracks, he travels back to his time, followed by the pirates, and Alice. Chaos, confusion and funny situations follow as the luckless pirates try to blend in with the earthlings. Alice enrolls in the same school Nick goes to and demonstrates superhuman abilities in PE class. The catch is, Alice doesn't know what Nick looks like, while the pirates do. Also, the pirates are able to change their appearance and turn literally into anyone. (Hmm, I wonder if this is where James Cameron got the idea for Terminator...) Who gets to Nick -- and Mielophone -- first? Excellent plot, non-stop adventures, and great soundtrack. I wish Hollywood made kid movies like this one...\",\n          \"\\\"National Treasure\\\" (2004) is a thoroughly misguided hodge-podge of plot entanglements that borrow from nearly every cloak and dagger government conspiracy clich\\u00e9 that has ever been written. The film stars Nicholas Cage as Benjamin Franklin Gates (how precious is that, I ask you?); a seemingly normal fellow who, for no other reason than being of a lineage of like-minded misguided fortune hunters, decides to steal a 'national treasure' that has been hidden by the United States founding fathers. After a bit of subtext and background that plays laughably (unintentionally) like Indiana Jones meets The Patriot, the film degenerates into one misguided whimsy after another \\u0096 attempting to create a 'Stanley Goodspeed' regurgitation of Nicholas Cage and launch the whole convoluted mess forward with a series of high octane, but disconnected misadventures.<br /><br />The relevancy and logic to having George Washington and his motley crew of patriots burying a king's ransom someplace on native soil, and then, going through the meticulous plan of leaving clues scattered throughout U.S. currency art work, is something that director Jon Turteltaub never quite gets around to explaining. Couldn't Washington found better usage for such wealth during the start up of the country? Hence, we are left with a mystery built on top of an enigma that is already on shaky ground by the time Ben appoints himself the new custodian of this untold wealth. Ben's intentions are noble \\u0096 if confusing. He's set on protecting the treasure. For who and when?\\u0085your guess is as good as mine.<br /><br />But there are a few problems with Ben's crusade. First up, his friend, Ian Holmes (Sean Bean) decides that he can't wait for Ben to make up his mind about stealing the Declaration of Independence from the National Archives (oh, yeah \\u0096 brilliant idea!). Presumably, the back of that famous document holds the secret answer to the ultimate fortune. So Ian tries to kill Ben. The assassination attempt is, of course, unsuccessful, if overly melodramatic. It also affords Ben the opportunity to pick up, and pick on, the very sultry curator of the archives, Abigail Chase (Diane Kruger). She thinks Ben is clearly a nut \\u0096 at least at the beginning. But true to action/romance form, Abby's resolve melts quicker than you can say, \\\"is that the Hope Diamond?\\\" The film moves into full X-File-ish mode, as the FBI, mistakenly believing that Ben is behind the theft, retaliate in various benign ways that lead to a multi-layering of action sequences reminiscent of Mission Impossible meets The Fugitive. Honestly, don't those guys ever get 'intelligence' information that is correct? In the final analysis, \\\"National Treasure\\\" isn't great film making, so much as it's a patchwork rehash of tired old bits from other movies, woven together from scraps, the likes of which would make IL' Betsy Ross blush.<br /><br />The Buena Vista DVD delivers a far more generous treatment than this film is deserving of. The anamorphic widescreen picture exhibits a very smooth and finely detailed image with very rich colors, natural flesh tones, solid blacks and clean whites. The stylized image is also free of blemishes and digital enhancements. The audio is 5.1 and delivers a nice sonic boom to your side and rear speakers with intensity and realism. Extras include a host of promotional junket material that is rather deep and over the top in its explanation of how and why this film was made. If only, as an audience, we had had more clarification as to why Ben and co. were chasing after an illusive treasure, this might have been one good flick. Extras conclude with the theatrical trailer, audio commentary and deleted scenes. Not for the faint-hearted \\u0096 just the thick-headed.\"\n        ],\n        \"semantic_type\": \"\",\n        \"description\": \"\"\n      }\n    },\n    {\n      \"column\": \"sentiment\",\n      \"properties\": {\n        \"dtype\": \"date\",\n        \"min\": 0,\n        \"max\": 1,\n        \"num_unique_values\": 2,\n        \"samples\": [\n          0,\n          1\n        ],\n        \"semantic_type\": \"\",\n        \"description\": \"\"\n      }\n    }\n  ]\n}"
            }
          },
          "metadata": {},
          "execution_count": 7
        }
      ]
    },
    {
      "cell_type": "code",
      "source": [
        "df['sentiment'].unique()"
      ],
      "metadata": {
        "colab": {
          "base_uri": "https://localhost:8080/"
        },
        "id": "oSsJpDvipkPl",
        "outputId": "0e0cd4f7-c709-4366-ca0a-5d2ca3bde10f"
      },
      "execution_count": null,
      "outputs": [
        {
          "output_type": "execute_result",
          "data": {
            "text/plain": [
              "array([1, 0], dtype=object)"
            ]
          },
          "metadata": {},
          "execution_count": 8
        }
      ]
    },
    {
      "cell_type": "markdown",
      "source": [
        "#### divide Text and sentiment(label)"
      ],
      "metadata": {
        "id": "ewPnook6brkM"
      }
    },
    {
      "cell_type": "code",
      "source": [
        "data = df['review'].to_numpy()\n",
        "label = df['sentiment'].to_numpy().astype(np.float32) # tensor 변환을 위해\n",
        "\n",
        "print(data[:3])\n",
        "print(label[:3])\n",
        "print(len(data[1]), len(data[2]), len(data[0]))"
      ],
      "metadata": {
        "colab": {
          "base_uri": "https://localhost:8080/"
        },
        "id": "7QnXIvJKb4Ak",
        "outputId": "1539867b-e4ca-418e-cc97-f74eb8a5bda2"
      },
      "execution_count": null,
      "outputs": [
        {
          "output_type": "stream",
          "name": "stdout",
          "text": [
            "[\"One of the other reviewers has mentioned that after watching just 1 Oz episode you'll be hooked. They are right, as this is exactly what happened with me.<br /><br />The first thing that struck me about Oz was its brutality and unflinching scenes of violence, which set in right from the word GO. Trust me, this is not a show for the faint hearted or timid. This show pulls no punches with regards to drugs, sex or violence. Its is hardcore, in the classic use of the word.<br /><br />It is called OZ as that is the nickname given to the Oswald Maximum Security State Penitentary. It focuses mainly on Emerald City, an experimental section of the prison where all the cells have glass fronts and face inwards, so privacy is not high on the agenda. Em City is home to many..Aryans, Muslims, gangstas, Latinos, Christians, Italians, Irish and more....so scuffles, death stares, dodgy dealings and shady agreements are never far away.<br /><br />I would say the main appeal of the show is due to the fact that it goes where other shows wouldn't dare. Forget pretty pictures painted for mainstream audiences, forget charm, forget romance...OZ doesn't mess around. The first episode I ever saw struck me as so nasty it was surreal, I couldn't say I was ready for it, but as I watched more, I developed a taste for Oz, and got accustomed to the high levels of graphic violence. Not just violence, but injustice (crooked guards who'll be sold out for a nickel, inmates who'll kill on order and get away with it, well mannered, middle class inmates being turned into prison bitches due to their lack of street skills or prison experience) Watching Oz, you may become comfortable with what is uncomfortable viewing....thats if you can get in touch with your darker side.\"\n",
            " 'A wonderful little production. <br /><br />The filming technique is very unassuming- very old-time-BBC fashion and gives a comforting, and sometimes discomforting, sense of realism to the entire piece. <br /><br />The actors are extremely well chosen- Michael Sheen not only \"has got all the polari\" but he has all the voices down pat too! You can truly see the seamless editing guided by the references to Williams\\' diary entries, not only is it well worth the watching but it is a terrificly written and performed piece. A masterful production about one of the great master\\'s of comedy and his life. <br /><br />The realism really comes home with the little things: the fantasy of the guard which, rather than use the traditional \\'dream\\' techniques remains solid then disappears. It plays on our knowledge and our senses, particularly with the scenes concerning Orton and Halliwell and the sets (particularly of their flat with Halliwell\\'s murals decorating every surface) are terribly well done.'\n",
            " 'I thought this was a wonderful way to spend time on a too hot summer weekend, sitting in the air conditioned theater and watching a light-hearted comedy. The plot is simplistic, but the dialogue is witty and the characters are likable (even the well bread suspected serial killer). While some may be disappointed when they realize this is not Match Point 2: Risk Addiction, I thought it was proof that Woody Allen is still fully in control of the style many of us have grown to love.<br /><br />This was the most I\\'d laughed at one of Woody\\'s comedies in years (dare I say a decade?). While I\\'ve never been impressed with Scarlet Johanson, in this she managed to tone down her \"sexy\" image and jumped right into a average, but spirited young woman.<br /><br />This may not be the crown jewel of his career, but it was wittier than \"Devil Wears Prada\" and more interesting than \"Superman\" a great comedy to go see with friends.']\n",
            "[1. 1. 1.]\n",
            "998 926 1761\n"
          ]
        }
      ]
    },
    {
      "cell_type": "markdown",
      "source": [
        "#### Remove Stopwords"
      ],
      "metadata": {
        "id": "yoJ9nTGueXZm"
      }
    },
    {
      "cell_type": "code",
      "source": [
        "stopwords = [\"a\", \"about\", \"above\", \"after\", \"again\", \"against\", \"all\", \"am\", \"an\", \"and\", \"any\", \"are\", \"as\", \"at\",\n",
        "             \"be\", \"because\", \"been\", \"before\", \"being\", \"below\", \"between\", \"both\", \"but\", \"by\", \"could\", \"did\", \"do\",\n",
        "             \"does\", \"doing\", \"down\", \"during\", \"each\", \"few\", \"for\", \"from\", \"further\", \"had\", \"has\", \"have\", \"having\",\n",
        "             \"he\", \"hed\", \"hes\", \"her\", \"here\", \"heres\", \"hers\", \"herself\", \"him\", \"himself\", \"his\", \"how\",\n",
        "             \"hows\", \"i\", \"id\", \"ill\", \"im\", \"ive\", \"if\", \"in\", \"into\", \"is\", \"it\", \"its\", \"itself\",\n",
        "             \"lets\", \"me\", \"more\", \"most\", \"my\", \"myself\", \"nor\", \"of\", \"on\", \"once\", \"only\", \"or\", \"other\", \"ought\",\n",
        "             \"our\", \"ours\", \"ourselves\", \"out\", \"over\", \"own\", \"same\", \"she\", \"shed\", \"shell\", \"shes\", \"should\",\n",
        "             \"so\", \"some\", \"such\", \"than\", \"that\", \"thats\", \"the\", \"their\", \"theirs\", \"them\", \"themselves\", \"then\",\n",
        "             \"there\", \"theres\", \"these\", \"they\", \"theyd\", \"theyll\", \"theyre\", \"theyve\", \"this\", \"those\", \"through\",\n",
        "             \"to\", \"too\", \"under\", \"until\", \"up\", \"very\", \"was\", \"we\", \"wed\", \"well\", \"were\", \"weve\", \"were\",\n",
        "             \"what\", \"whats\", \"when\", \"whens\", \"where\", \"wheres\", \"which\", \"while\", \"who\", \"whos\", \"whom\", \"why\",\n",
        "             \"whys\", \"with\", \"would\", \"you\", \"youd\", \"youll\", \"youre\", \"youve\", \"your\", \"yours\", \"yourself\",\n",
        "             \"yourselves\"]\n",
        "\n",
        "# 문자열에서 문자를 다른 문자로 변환하기 위한 변환 테이블을 생성\n",
        "# string.punctuation은 Python 내장 모듈인 string 모듈에서 제공하는 구두점에 대한 문자열\n",
        "# 이 문자열은 모든 표준 구두점 기호를 포함합니다.\n",
        "# 첫 번째 매개변수와 두 번째 매개변수는 빈 문자열로 지정되었으므로 어떠한 변환도 수행되지 않음\n",
        "# 세 번째 매개변수에는 구두점을 포함한 문자열이 제공된다.\n",
        "# str.translate() 함수와 함께 사용될 수 있습니다. 이를 통해 문자열에서 구두점을 제거할 수 있다\n",
        "table = str.maketrans('', '', string.punctuation)\n",
        "filtered_data = []\n",
        "\n",
        "for idx, text in enumerate(data):\n",
        "  text = text.replace(\",\", \" , \")  # 리뷰에서 자주 쓰이는 문자도 구분하도록 공백 추가\n",
        "  text = text.replace(\".\", \" . \")\n",
        "  text = text.replace(\"-\", \" - \")\n",
        "  text = text.replace(\"/\", \" / \")\n",
        "\n",
        "  # HTML 태그 제거\n",
        "  soup = BeautifulSoup(text)\n",
        "  text = soup.get_text()\n",
        "  words = text.split()\n",
        "\n",
        "  filtered_sentence = \"\"\n",
        "\n",
        "  for word in words:\n",
        "      word = word.translate(table) # 구두점 제거\n",
        "      if word not in stopwords: # stop word filtering\n",
        "          filtered_sentence = filtered_sentence + word + \" \"\n",
        "  filtered_data.append(filtered_sentence)\n",
        "filtered_data = np.array(filtered_data)\n",
        "print(len(filtered_data[1]), len(filtered_data[2]), len(filtered_data[0]))"
      ],
      "metadata": {
        "colab": {
          "base_uri": "https://localhost:8080/"
        },
        "id": "LADT0hhaShPH",
        "outputId": "7ce31d3b-aabe-49f4-e1c8-5789b0531473"
      },
      "execution_count": null,
      "outputs": [
        {
          "output_type": "stream",
          "name": "stderr",
          "text": [
            "<ipython-input-8-bdb5ab319037>:31: MarkupResemblesLocatorWarning: The input looks more like a filename than markup. You may want to open this file and pass the filehandle into Beautiful Soup.\n",
            "  soup = BeautifulSoup(text)\n"
          ]
        },
        {
          "output_type": "stream",
          "name": "stdout",
          "text": [
            "694 631 1245\n"
          ]
        }
      ]
    },
    {
      "cell_type": "markdown",
      "source": [
        "#### divide Test set, Valid set and Train set"
      ],
      "metadata": {
        "id": "7m85rHlUcY_C"
      }
    },
    {
      "cell_type": "markdown",
      "source": [
        "50,000 개의 리뷰이므로 40,000개는 훈련세트, 5,000개는 검증세트, 5,000개는 테스트세트로 사용하겠다."
      ],
      "metadata": {
        "id": "rYrVokzKcN0o"
      }
    },
    {
      "cell_type": "code",
      "source": [
        "train_split = 40_000\n",
        "\n",
        "\n",
        "# 데이터는 모두 문장을 나타냄\n",
        "train_data = filtered_data[:train_split]\n",
        "test_data = filtered_data[train_split:]\n",
        "\n",
        "train_label = label[:train_split]\n",
        "test_label = label[train_split:]"
      ],
      "metadata": {
        "id": "QNOqqqYIcXu4"
      },
      "execution_count": null,
      "outputs": []
    },
    {
      "cell_type": "markdown",
      "source": [
        "이제 문장을 토큰화 시키겠다."
      ],
      "metadata": {
        "id": "VyPKUdPkm3na"
      }
    },
    {
      "cell_type": "markdown",
      "source": [
        "#### Tokenize Sentence"
      ],
      "metadata": {
        "id": "_VkU3h3IHLpq"
      }
    },
    {
      "cell_type": "code",
      "source": [
        "vocab_size = 25_000 # 변경하며 봐야할 값\n",
        "embedding_dim = 16\n",
        "max_length = 1000 # 변경하며 봐야할 값\n",
        "trunc_type='post'\n",
        "padding_type='post'\n",
        "oov_tok = \"\""
      ],
      "metadata": {
        "id": "3TF0OSmDAyTM"
      },
      "execution_count": null,
      "outputs": []
    },
    {
      "cell_type": "code",
      "source": [
        "tokenizer = Tokenizer(num_words=vocab_size, oov_token=oov_tok)\n",
        "tokenizer.fit_on_texts(train_data)\n",
        "\n",
        "word_index = tokenizer.word_index"
      ],
      "metadata": {
        "id": "sq_0hA4rm6dW"
      },
      "execution_count": null,
      "outputs": []
    },
    {
      "cell_type": "markdown",
      "source": [
        "**GPT tokenizer 설명**\n",
        "\n",
        "len(tokenizer.word_index)와 tokenizer.num_words는 모두 토크나이저 객체의 단어 집합 크기에 관련된 값을 나타냅니다. 그러나 이 두 값은 다른 의미를 가집니다.\n",
        "\n",
        "- len(tokenizer.word_index): 이것은 토크나이저 객체가 처리한 전체 단어 집합의 크기를 나타냅니다. 즉, **텍스트 데이터에 있는 모든 고유한 단어의 개수를 의미합니다.** 이 단어 집합에는 중복이 없으며, 모든 텍스트 데이터를 통해 생성됩니다.\n",
        "\n",
        "- tokenizer.num_words: **이것은 토크나이저 객체가 생성할 수 있는 최대 단어 수를 나타냅니다.** 이 값은 Tokenizer 객체를 초기화할 때 num_words 매개변수로 설정한 값입니다. **이 값은 토크나이저가 고려할 최대 단어의 개수를 제한하는 역할**을 합니다.\n",
        "\n",
        "따라서 이 두 값은 서로 다른 개념이며, 보통 tokenizer.num_words의 값은 len(tokenizer.word_index)보다 작거나 같습니다. 이는 토크나이저가 최대 단어 수를 제한하고자 할 때 사용되는 값입니다. 만약 len(tokenizer.word_index)가 tokenizer.num_words보다 크다면, tokenizer.num_words에 설정된 값에 따라 word_index에서 가장 빈번한 단어들이 선택됩니다."
      ],
      "metadata": {
        "id": "lWKZ8YMmFhsl"
      }
    },
    {
      "cell_type": "code",
      "source": [
        "print(len(word_index), tokenizer.num_words)"
      ],
      "metadata": {
        "colab": {
          "base_uri": "https://localhost:8080/"
        },
        "id": "3WVfFzZgm2SB",
        "outputId": "0e9ada12-9bb2-43ed-8fa3-b86aef072a3f"
      },
      "execution_count": null,
      "outputs": [
        {
          "output_type": "stream",
          "name": "stdout",
          "text": [
            "109955 25000\n"
          ]
        }
      ]
    },
    {
      "cell_type": "markdown",
      "source": [
        "#### Change Sentences to Sequences and add Padding"
      ],
      "metadata": {
        "id": "4GjiToSVHF_6"
      }
    },
    {
      "cell_type": "code",
      "source": [
        "train_sequences = tokenizer.texts_to_sequences(train_data)\n",
        "train_padded = pad_sequences(train_sequences, maxlen=max_length, padding=padding_type, truncating=trunc_type)\n",
        "\n",
        "test_sequences = tokenizer.texts_to_sequences(test_data)\n",
        "test_padded = pad_sequences(test_sequences, maxlen=max_length, padding=padding_type, truncating=trunc_type)"
      ],
      "metadata": {
        "id": "UfxfC3tbCasj"
      },
      "execution_count": null,
      "outputs": []
    },
    {
      "cell_type": "code",
      "source": [
        "print(len(train_padded[10]), type(train_padded))"
      ],
      "metadata": {
        "colab": {
          "base_uri": "https://localhost:8080/"
        },
        "id": "2yiG3pUdGrz5",
        "outputId": "e1280121-1d33-4cf6-c6c4-388d392f5ef7"
      },
      "execution_count": null,
      "outputs": [
        {
          "output_type": "stream",
          "name": "stdout",
          "text": [
            "1000 <class 'numpy.ndarray'>\n"
          ]
        }
      ]
    },
    {
      "cell_type": "markdown",
      "source": [
        "데이터가 모두 준비되었으니 이제 모델을 구성해보자"
      ],
      "metadata": {
        "id": "MnjzYFW8JGX-"
      }
    },
    {
      "cell_type": "markdown",
      "source": [
        "### Model Configuration"
      ],
      "metadata": {
        "id": "H1-YfmxhJz0g"
      }
    },
    {
      "cell_type": "markdown",
      "source": [
        "#### Simple Model"
      ],
      "metadata": {
        "id": "L-qBg0BGQ2SW"
      }
    },
    {
      "cell_type": "markdown",
      "source": [
        "우선 임베딩 층을 사용한 간단한 모델로 훈련을 해보겠다.\n"
      ],
      "metadata": {
        "id": "VxGdzHK9KWNc"
      }
    },
    {
      "cell_type": "code",
      "source": [
        "embedding_dims = 16"
      ],
      "metadata": {
        "id": "oP5KzRy_G5x9"
      },
      "execution_count": null,
      "outputs": []
    },
    {
      "cell_type": "markdown",
      "source": [
        "* label = 1., 0. 이런식(np.float64 or np.float32)으로 되어야 텐서로 변환이 된다. 1.0, 0.0(float)나 1, 0 (Int)는 변환이 안 돼서 오류가 뜸"
      ],
      "metadata": {
        "id": "tPcuevhIQjhA"
      }
    },
    {
      "cell_type": "markdown",
      "source": [
        "- input_dim: 이 매개변수는 사용하는 어휘 사전의 크기입니다. 즉, 단어의 총 개수입니다.\n",
        "\n",
        "- output_dim: 이 매개변수는 Embedding 층에서 각 단어를 매핑할 벡터의 크기입니다. 즉, Embedding 층의 출력 차원 수입니다."
      ],
      "metadata": {
        "id": "8rG-t7rzL0kf"
      }
    },
    {
      "cell_type": "code",
      "source": [
        "model = tf.keras.Sequential([\n",
        "    tf.keras.layers.Embedding(vocab_size, embedding_dims),\n",
        "    tf.keras.layers.GlobalAveragePooling1D(),\n",
        "    tf.keras.layers.Dense(24, activation='relu'),\n",
        "    tf.keras.layers.Dense(1, activation='sigmoid')\n",
        "])\n",
        "\n",
        "model.compile(loss='binary_crossentropy', optimizer='adam',\n",
        "              metrics=['accuracy'])\n",
        "history = model.fit(train_padded, train_label, epochs=20,\n",
        "                    validation_data=[test_padded, test_label])"
      ],
      "metadata": {
        "colab": {
          "base_uri": "https://localhost:8080/"
        },
        "id": "pSPPJOwFL1Hm",
        "outputId": "1157ebac-7284-4bdd-8cd1-ea45113ce045"
      },
      "execution_count": null,
      "outputs": [
        {
          "output_type": "stream",
          "name": "stdout",
          "text": [
            "Epoch 1/20\n",
            "1250/1250 [==============================] - 15s 11ms/step - loss: 0.5383 - accuracy: 0.7436 - val_loss: 0.3362 - val_accuracy: 0.8711\n",
            "Epoch 2/20\n",
            "1250/1250 [==============================] - 14s 11ms/step - loss: 0.2736 - accuracy: 0.8950 - val_loss: 0.2718 - val_accuracy: 0.8916\n",
            "Epoch 3/20\n",
            "1250/1250 [==============================] - 14s 11ms/step - loss: 0.2150 - accuracy: 0.9191 - val_loss: 0.2533 - val_accuracy: 0.9015\n",
            "Epoch 4/20\n",
            "1250/1250 [==============================] - 12s 10ms/step - loss: 0.1822 - accuracy: 0.9330 - val_loss: 0.2514 - val_accuracy: 0.9035\n",
            "Epoch 5/20\n",
            "1250/1250 [==============================] - 12s 10ms/step - loss: 0.1581 - accuracy: 0.9430 - val_loss: 0.2631 - val_accuracy: 0.8988\n",
            "Epoch 6/20\n",
            "1250/1250 [==============================] - 12s 10ms/step - loss: 0.1379 - accuracy: 0.9513 - val_loss: 0.2620 - val_accuracy: 0.9034\n",
            "Epoch 7/20\n",
            "1250/1250 [==============================] - 12s 10ms/step - loss: 0.1239 - accuracy: 0.9571 - val_loss: 0.2768 - val_accuracy: 0.8980\n",
            "Epoch 8/20\n",
            "1250/1250 [==============================] - 14s 11ms/step - loss: 0.1072 - accuracy: 0.9639 - val_loss: 0.3087 - val_accuracy: 0.8874\n",
            "Epoch 9/20\n",
            "1250/1250 [==============================] - 12s 10ms/step - loss: 0.0939 - accuracy: 0.9689 - val_loss: 0.3127 - val_accuracy: 0.8920\n",
            "Epoch 10/20\n",
            "1250/1250 [==============================] - 13s 10ms/step - loss: 0.0850 - accuracy: 0.9719 - val_loss: 0.3250 - val_accuracy: 0.8947\n",
            "Epoch 11/20\n",
            "1250/1250 [==============================] - 13s 11ms/step - loss: 0.0740 - accuracy: 0.9768 - val_loss: 0.3770 - val_accuracy: 0.8936\n",
            "Epoch 12/20\n",
            "1250/1250 [==============================] - 12s 9ms/step - loss: 0.0642 - accuracy: 0.9804 - val_loss: 0.3666 - val_accuracy: 0.8972\n",
            "Epoch 13/20\n",
            "1250/1250 [==============================] - 13s 10ms/step - loss: 0.0582 - accuracy: 0.9815 - val_loss: 0.4016 - val_accuracy: 0.8943\n",
            "Epoch 14/20\n",
            "1250/1250 [==============================] - 14s 11ms/step - loss: 0.0484 - accuracy: 0.9856 - val_loss: 0.4302 - val_accuracy: 0.8932\n",
            "Epoch 15/20\n",
            "1250/1250 [==============================] - 12s 10ms/step - loss: 0.0429 - accuracy: 0.9869 - val_loss: 0.4624 - val_accuracy: 0.8898\n",
            "Epoch 16/20\n",
            "1250/1250 [==============================] - 12s 10ms/step - loss: 0.0370 - accuracy: 0.9901 - val_loss: 0.5353 - val_accuracy: 0.8849\n",
            "Epoch 17/20\n",
            "1250/1250 [==============================] - 13s 11ms/step - loss: 0.0309 - accuracy: 0.9921 - val_loss: 0.5116 - val_accuracy: 0.8891\n",
            "Epoch 18/20\n",
            "1250/1250 [==============================] - 12s 10ms/step - loss: 0.0276 - accuracy: 0.9924 - val_loss: 0.5775 - val_accuracy: 0.8857\n",
            "Epoch 19/20\n",
            "1250/1250 [==============================] - 12s 10ms/step - loss: 0.0241 - accuracy: 0.9940 - val_loss: 0.5718 - val_accuracy: 0.8831\n",
            "Epoch 20/20\n",
            "1250/1250 [==============================] - 12s 10ms/step - loss: 0.0218 - accuracy: 0.9942 - val_loss: 0.6302 - val_accuracy: 0.8854\n"
          ]
        }
      ]
    },
    {
      "cell_type": "code",
      "source": [
        "plt.plot(history.history['loss'])\n",
        "plt.plot(history.history['val_loss'])"
      ],
      "metadata": {
        "colab": {
          "base_uri": "https://localhost:8080/",
          "height": 448
        },
        "id": "uV6U1HS9L1Fs",
        "outputId": "3e7dc8d8-e68b-4167-f072-f99c586bb317"
      },
      "execution_count": null,
      "outputs": [
        {
          "output_type": "execute_result",
          "data": {
            "text/plain": [
              "[<matplotlib.lines.Line2D at 0x7c0b2cd48b20>]"
            ]
          },
          "metadata": {},
          "execution_count": 113
        },
        {
          "output_type": "display_data",
          "data": {
            "text/plain": [
              "<Figure size 640x480 with 1 Axes>"
            ],
            "image/png": "[encoded data removed]"
          },
          "metadata": {}
        }
      ]
    },
    {
      "cell_type": "code",
      "source": [
        "plt.plot(history.history['accuracy'])\n",
        "plt.plot(history.history['val_accuracy'])"
      ],
      "metadata": {
        "colab": {
          "base_uri": "https://localhost:8080/",
          "height": 448
        },
        "id": "kosSVLrkTBCc",
        "outputId": "e71ed511-711d-43cb-d75a-fbbe93e327c7"
      },
      "execution_count": null,
      "outputs": [
        {
          "output_type": "execute_result",
          "data": {
            "text/plain": [
              "[<matplotlib.lines.Line2D at 0x7c0b2ca41810>]"
            ]
          },
          "metadata": {},
          "execution_count": 114
        },
        {
          "output_type": "display_data",
          "data": {
            "text/plain": [
              "<Figure size 640x480 with 1 Axes>"
            ],
            "image/png": "[encoded data removed]"
          },
          "metadata": {}
        }
      ]
    },
    {
      "cell_type": "markdown",
      "source": [
        "확실히 overfitting 이 보인다. 이를 해결하기 위해 옵티마이저의 학습률을 조정하겠다."
      ],
      "metadata": {
        "id": "RaHznRlnUQIS"
      }
    },
    {
      "cell_type": "markdown",
      "source": [
        "##### Change Learning Rate"
      ],
      "metadata": {
        "id": "KTnDIbQDVBPJ"
      }
    },
    {
      "cell_type": "code",
      "source": [
        "model = tf.keras.Sequential([\n",
        "    tf.keras.layers.Embedding(vocab_size, embedding_dim),\n",
        "    tf.keras.layers.GlobalAveragePooling1D(),\n",
        "    tf.keras.layers.Dense(24, activation='relu'),\n",
        "    tf.keras.layers.Dense(1, activation='sigmoid')\n",
        "])\n",
        "\n",
        "adam = tf.keras.optimizers.Adam(learning_rate=1e-4, beta_1=0.9,\n",
        "                                beta_2=0.999, amsgrad=False)\n",
        "# beta_1과 beta_2, amsgrad는 기본값을 그대로 사용한다.\n",
        "model.compile(loss='binary_crossentropy', optimizer=adam,\n",
        "               metrics=['accuracy'])\n",
        "history = model.fit(train_padded, train_label, epochs=20,\n",
        "                    validation_data=[test_padded, test_label])"
      ],
      "metadata": {
        "colab": {
          "base_uri": "https://localhost:8080/"
        },
        "id": "7GTDe0cgL00C",
        "outputId": "f9b59e4f-066c-4b25-8149-bde821a7a893"
      },
      "execution_count": null,
      "outputs": [
        {
          "output_type": "stream",
          "name": "stdout",
          "text": [
            "Epoch 1/20\n",
            "1250/1250 [==============================] - 13s 10ms/step - loss: 0.6926 - accuracy: 0.5644 - val_loss: 0.6919 - val_accuracy: 0.5175\n",
            "Epoch 2/20\n",
            "1250/1250 [==============================] - 13s 10ms/step - loss: 0.6895 - accuracy: 0.6675 - val_loss: 0.6860 - val_accuracy: 0.8070\n",
            "Epoch 3/20\n",
            "1250/1250 [==============================] - 13s 11ms/step - loss: 0.6785 - accuracy: 0.7352 - val_loss: 0.6689 - val_accuracy: 0.7223\n",
            "Epoch 4/20\n",
            "1250/1250 [==============================] - 13s 10ms/step - loss: 0.6527 - accuracy: 0.7930 - val_loss: 0.6348 - val_accuracy: 0.8166\n",
            "Epoch 5/20\n",
            "1250/1250 [==============================] - 15s 12ms/step - loss: 0.6100 - accuracy: 0.8245 - val_loss: 0.5871 - val_accuracy: 0.7998\n",
            "Epoch 6/20\n",
            "1250/1250 [==============================] - 12s 10ms/step - loss: 0.5570 - accuracy: 0.8360 - val_loss: 0.5332 - val_accuracy: 0.8394\n",
            "Epoch 7/20\n",
            "1250/1250 [==============================] - 12s 10ms/step - loss: 0.5032 - accuracy: 0.8493 - val_loss: 0.4838 - val_accuracy: 0.8406\n",
            "Epoch 8/20\n",
            "1250/1250 [==============================] - 12s 10ms/step - loss: 0.4538 - accuracy: 0.8598 - val_loss: 0.4394 - val_accuracy: 0.8622\n",
            "Epoch 9/20\n",
            "1250/1250 [==============================] - 12s 10ms/step - loss: 0.4110 - accuracy: 0.8692 - val_loss: 0.4028 - val_accuracy: 0.8663\n",
            "Epoch 10/20\n",
            "1250/1250 [==============================] - 13s 11ms/step - loss: 0.3752 - accuracy: 0.8768 - val_loss: 0.3740 - val_accuracy: 0.8741\n",
            "Epoch 11/20\n",
            "1250/1250 [==============================] - 12s 10ms/step - loss: 0.3458 - accuracy: 0.8842 - val_loss: 0.3501 - val_accuracy: 0.8789\n",
            "Epoch 12/20\n",
            "1250/1250 [==============================] - 14s 11ms/step - loss: 0.3222 - accuracy: 0.8884 - val_loss: 0.3323 - val_accuracy: 0.8785\n",
            "Epoch 13/20\n",
            "1250/1250 [==============================] - 12s 10ms/step - loss: 0.3028 - accuracy: 0.8939 - val_loss: 0.3175 - val_accuracy: 0.8837\n",
            "Epoch 14/20\n",
            "1250/1250 [==============================] - 12s 9ms/step - loss: 0.2869 - accuracy: 0.8978 - val_loss: 0.3062 - val_accuracy: 0.8854\n",
            "Epoch 15/20\n",
            "1250/1250 [==============================] - 12s 9ms/step - loss: 0.2735 - accuracy: 0.9019 - val_loss: 0.2985 - val_accuracy: 0.8886\n",
            "Epoch 16/20\n",
            "1250/1250 [==============================] - 12s 10ms/step - loss: 0.2623 - accuracy: 0.9050 - val_loss: 0.2900 - val_accuracy: 0.8896\n",
            "Epoch 17/20\n",
            "1250/1250 [==============================] - 12s 10ms/step - loss: 0.2524 - accuracy: 0.9085 - val_loss: 0.2839 - val_accuracy: 0.8905\n",
            "Epoch 18/20\n",
            "1250/1250 [==============================] - 12s 10ms/step - loss: 0.2439 - accuracy: 0.9114 - val_loss: 0.2790 - val_accuracy: 0.8915\n",
            "Epoch 19/20\n",
            "1250/1250 [==============================] - 12s 10ms/step - loss: 0.2364 - accuracy: 0.9136 - val_loss: 0.2751 - val_accuracy: 0.8921\n",
            "Epoch 20/20\n",
            "1250/1250 [==============================] - 12s 10ms/step - loss: 0.2289 - accuracy: 0.9164 - val_loss: 0.2720 - val_accuracy: 0.8931\n"
          ]
        }
      ]
    },
    {
      "cell_type": "code",
      "source": [
        "plt.plot(history.history['loss'])\n",
        "plt.plot(history.history['val_loss'])"
      ],
      "metadata": {
        "colab": {
          "base_uri": "https://localhost:8080/",
          "height": 448
        },
        "id": "Iwo8pUpeWcZj",
        "outputId": "00dc39ba-a770-4906-8b9c-aa928cf2c862"
      },
      "execution_count": null,
      "outputs": [
        {
          "output_type": "execute_result",
          "data": {
            "text/plain": [
              "[<matplotlib.lines.Line2D at 0x7c0b2a0629e0>]"
            ]
          },
          "metadata": {},
          "execution_count": 116
        },
        {
          "output_type": "display_data",
          "data": {
            "text/plain": [
              "<Figure size 640x480 with 1 Axes>"
            ],
            "image/png": "[encoded data removed]"
          },
          "metadata": {}
        }
      ]
    },
    {
      "cell_type": "code",
      "source": [
        "plt.plot(history.history['accuracy'])\n",
        "plt.plot(history.history['val_accuracy'])"
      ],
      "metadata": {
        "colab": {
          "base_uri": "https://localhost:8080/",
          "height": 448
        },
        "id": "iuOoqFEfWduN",
        "outputId": "8efdf58e-1ec7-4a9c-99d2-1900d2dd7584"
      },
      "execution_count": null,
      "outputs": [
        {
          "output_type": "execute_result",
          "data": {
            "text/plain": [
              "[<matplotlib.lines.Line2D at 0x7c0b2a736dd0>]"
            ]
          },
          "metadata": {},
          "execution_count": 117
        },
        {
          "output_type": "display_data",
          "data": {
            "text/plain": [
              "<Figure size 640x480 with 1 Axes>"
            ],
            "image/png": "[encoded data removed]"
          },
          "metadata": {}
        }
      ]
    },
    {
      "cell_type": "markdown",
      "source": [
        "꽤나 해결된 거 같다"
      ],
      "metadata": {
        "id": "tR23i-ItWgqH"
      }
    },
    {
      "cell_type": "markdown",
      "source": [
        "##### Change vocab_size"
      ],
      "metadata": {
        "id": "HxVCDenGVJRd"
      }
    },
    {
      "cell_type": "code",
      "source": [
        "wc=tokenizer.word_counts\n",
        "print(wc['one'])\n",
        "# OrderedDict([('one', 42205), ('reviewers', 404), ('mentioned', 856), ('watching', 7319), ...\n",
        "# (key, value)"
      ],
      "metadata": {
        "colab": {
          "base_uri": "https://localhost:8080/"
        },
        "id": "UQTT-5EJXdRP",
        "outputId": "31de1eac-1c6f-4019-ffb3-26d56d5d02eb"
      },
      "execution_count": null,
      "outputs": [
        {
          "output_type": "stream",
          "name": "stdout",
          "text": [
            "42205\n"
          ]
        }
      ]
    },
    {
      "cell_type": "code",
      "source": [
        "from collections import OrderedDict\n",
        "newlist = (OrderedDict(sorted(wc.items(), key=lambda x:x[1], reverse=True))) # 빈도순 정렬\n",
        "#print(newlist)\n",
        "# OrderedDict([('i', 114657), ('the', 73539), ('movie', 69677)..."
      ],
      "metadata": {
        "id": "M_BoZSbRU1Vx"
      },
      "execution_count": null,
      "outputs": []
    },
    {
      "cell_type": "code",
      "source": [
        "xs = []\n",
        "ys = []\n",
        "curr_x = 1\n",
        "for item in newlist: # item은 키값(value)을 나타낸다\n",
        "  xs.append(curr_x)\n",
        "  curr_x += 1\n",
        "  ys.append(newlist[item])\n",
        "plt.plot(xs, ys)\n",
        "plt.show()"
      ],
      "metadata": {
        "colab": {
          "base_uri": "https://localhost:8080/",
          "height": 434
        },
        "id": "43FkS-svYn8u",
        "outputId": "77fe9d70-8c0a-40c8-e733-0e24256d7b5d"
      },
      "execution_count": null,
      "outputs": [
        {
          "output_type": "display_data",
          "data": {
            "text/plain": [
              "<Figure size 640x480 with 1 Axes>"
            ],
            "image/png": "[encoded data removed]"
          },
          "metadata": {}
        }
      ]
    },
    {
      "cell_type": "code",
      "source": [
        "plt.plot(xs, ys)\n",
        "plt.axis([1000,40000, 0, 100]) # x 범위, y 범위\n",
        "plt.show()"
      ],
      "metadata": {
        "colab": {
          "base_uri": "https://localhost:8080/",
          "height": 435
        },
        "id": "AKHvwOY9ZCwN",
        "outputId": "6b2cf3d8-a811-4c10-d6e4-0e698574aed1"
      },
      "execution_count": null,
      "outputs": [
        {
          "output_type": "display_data",
          "data": {
            "text/plain": [
              "<Figure size 640x480 with 1 Axes>"
            ],
            "image/png": "[encoded data removed]"
          },
          "metadata": {}
        }
      ]
    },
    {
      "cell_type": "markdown",
      "source": [
        "모두 의미 있는 값이다. 하지만 빈도 차이가 크다.\n",
        "\n",
        "\n",
        "10,000번쨰 이후론 40개 정도 미만으로 쓰인다. 그렇다면 vocab_size를 줄여서 보겠다.\n",
        "\n",
        "(토크나이저는 10,000개만 고려해도 될 거 같다)"
      ],
      "metadata": {
        "id": "mz6ibQnfZxDE"
      }
    },
    {
      "cell_type": "code",
      "source": [
        "vocab_size = 10_000 # 10,000으로 변경\n",
        "embedding_dim = 16\n",
        "max_length = 1000 # 500으로 줄여보자\n",
        "trunc_type='post'\n",
        "padding_type='post'\n",
        "oov_tok = \"\""
      ],
      "metadata": {
        "id": "vczN9qn3Z5Ua"
      },
      "execution_count": null,
      "outputs": []
    },
    {
      "cell_type": "code",
      "source": [
        "tokenizer = Tokenizer(num_words=vocab_size, oov_token=oov_tok)\n",
        "tokenizer.fit_on_texts(train_data)\n",
        "\n",
        "word_index = tokenizer.word_index"
      ],
      "metadata": {
        "id": "hRCxVjGOZ_Lq"
      },
      "execution_count": null,
      "outputs": []
    },
    {
      "cell_type": "code",
      "source": [
        "train_sequences = tokenizer.texts_to_sequences(train_data)\n",
        "train_padded = pad_sequences(train_sequences, maxlen=max_length, padding=padding_type, truncating=trunc_type)\n",
        "\n",
        "test_sequences = tokenizer.texts_to_sequences(test_data)\n",
        "test_padded = pad_sequences(test_sequences, maxlen=max_length, padding=padding_type, truncating=trunc_type)"
      ],
      "metadata": {
        "id": "Pq77c2QQZ_7_"
      },
      "execution_count": null,
      "outputs": []
    },
    {
      "cell_type": "code",
      "source": [
        "model = tf.keras.Sequential([\n",
        "    tf.keras.layers.Embedding(vocab_size, embedding_dims),\n",
        "    tf.keras.layers.GlobalAveragePooling1D(),\n",
        "    tf.keras.layers.Dense(24, activation='relu'),\n",
        "    tf.keras.layers.Dense(1, activation='sigmoid')\n",
        "])\n",
        "\n",
        "model.compile(loss='binary_crossentropy', optimizer='adam',\n",
        "              metrics=['accuracy'])\n",
        "history = model.fit(train_padded, train_label, epochs=20,\n",
        "                    validation_data=[test_padded, test_label])"
      ],
      "metadata": {
        "colab": {
          "base_uri": "https://localhost:8080/"
        },
        "id": "n8T5zF_saHV7",
        "outputId": "3c9f6d33-a6e4-4dee-d40f-21d70bad0574"
      },
      "execution_count": null,
      "outputs": [
        {
          "output_type": "stream",
          "name": "stdout",
          "text": [
            "Epoch 1/20\n",
            "1250/1250 [==============================] - 11s 8ms/step - loss: 0.5672 - accuracy: 0.7215 - val_loss: 0.3687 - val_accuracy: 0.8651\n",
            "Epoch 2/20\n",
            "1250/1250 [==============================] - 13s 10ms/step - loss: 0.3012 - accuracy: 0.8869 - val_loss: 0.2814 - val_accuracy: 0.8910\n",
            "Epoch 3/20\n",
            "1250/1250 [==============================] - 10s 8ms/step - loss: 0.2432 - accuracy: 0.9069 - val_loss: 0.2657 - val_accuracy: 0.8957\n",
            "Epoch 4/20\n",
            "1250/1250 [==============================] - 10s 8ms/step - loss: 0.2172 - accuracy: 0.9180 - val_loss: 0.2587 - val_accuracy: 0.8979\n",
            "Epoch 5/20\n",
            "1250/1250 [==============================] - 10s 8ms/step - loss: 0.1994 - accuracy: 0.9235 - val_loss: 0.2588 - val_accuracy: 0.8988\n",
            "Epoch 6/20\n",
            "1250/1250 [==============================] - 10s 8ms/step - loss: 0.1866 - accuracy: 0.9294 - val_loss: 0.2614 - val_accuracy: 0.8978\n",
            "Epoch 7/20\n",
            "1250/1250 [==============================] - 9s 7ms/step - loss: 0.1752 - accuracy: 0.9351 - val_loss: 0.2665 - val_accuracy: 0.8970\n",
            "Epoch 8/20\n",
            "1250/1250 [==============================] - 10s 8ms/step - loss: 0.1652 - accuracy: 0.9384 - val_loss: 0.2712 - val_accuracy: 0.8949\n",
            "Epoch 9/20\n",
            "1250/1250 [==============================] - 10s 8ms/step - loss: 0.1573 - accuracy: 0.9424 - val_loss: 0.2921 - val_accuracy: 0.8891\n",
            "Epoch 10/20\n",
            "1250/1250 [==============================] - 11s 9ms/step - loss: 0.1504 - accuracy: 0.9461 - val_loss: 0.2894 - val_accuracy: 0.8926\n",
            "Epoch 11/20\n",
            "1250/1250 [==============================] - 10s 8ms/step - loss: 0.1431 - accuracy: 0.9487 - val_loss: 0.3098 - val_accuracy: 0.8849\n",
            "Epoch 12/20\n",
            "1250/1250 [==============================] - 11s 9ms/step - loss: 0.1380 - accuracy: 0.9505 - val_loss: 0.3010 - val_accuracy: 0.8924\n",
            "Epoch 13/20\n",
            "1250/1250 [==============================] - 12s 9ms/step - loss: 0.1319 - accuracy: 0.9539 - val_loss: 0.3083 - val_accuracy: 0.8914\n",
            "Epoch 14/20\n",
            "1250/1250 [==============================] - 11s 9ms/step - loss: 0.1276 - accuracy: 0.9553 - val_loss: 0.3197 - val_accuracy: 0.8906\n",
            "Epoch 15/20\n",
            "1250/1250 [==============================] - 11s 9ms/step - loss: 0.1230 - accuracy: 0.9578 - val_loss: 0.3381 - val_accuracy: 0.8876\n",
            "Epoch 16/20\n",
            "1250/1250 [==============================] - 10s 8ms/step - loss: 0.1167 - accuracy: 0.9602 - val_loss: 0.3395 - val_accuracy: 0.8896\n",
            "Epoch 17/20\n",
            "1250/1250 [==============================] - 10s 8ms/step - loss: 0.1159 - accuracy: 0.9602 - val_loss: 0.3588 - val_accuracy: 0.8824\n",
            "Epoch 18/20\n",
            "1250/1250 [==============================] - 10s 8ms/step - loss: 0.1120 - accuracy: 0.9617 - val_loss: 0.3556 - val_accuracy: 0.8867\n",
            "Epoch 19/20\n",
            "1250/1250 [==============================] - 10s 8ms/step - loss: 0.1070 - accuracy: 0.9650 - val_loss: 0.3707 - val_accuracy: 0.8860\n",
            "Epoch 20/20\n",
            "1250/1250 [==============================] - 10s 8ms/step - loss: 0.1039 - accuracy: 0.9649 - val_loss: 0.3805 - val_accuracy: 0.8857\n"
          ]
        }
      ]
    },
    {
      "cell_type": "markdown",
      "source": [
        "**max_len=1,000일 떄**"
      ],
      "metadata": {
        "id": "k-TKfF16dPWe"
      }
    },
    {
      "cell_type": "code",
      "source": [
        "plt.plot(history.history['loss'])\n",
        "plt.plot(history.history['val_loss'])"
      ],
      "metadata": {
        "colab": {
          "base_uri": "https://localhost:8080/",
          "height": 448
        },
        "id": "D0e8PGozdNLS",
        "outputId": "55e05481-7427-4539-858b-f352e83906ff"
      },
      "execution_count": null,
      "outputs": [
        {
          "output_type": "execute_result",
          "data": {
            "text/plain": [
              "[<matplotlib.lines.Line2D at 0x7c0b2c9f7a90>]"
            ]
          },
          "metadata": {},
          "execution_count": 130
        },
        {
          "output_type": "display_data",
          "data": {
            "text/plain": [
              "<Figure size 640x480 with 1 Axes>"
            ],
            "image/png": "[encoded data removed]"
          },
          "metadata": {}
        }
      ]
    },
    {
      "cell_type": "code",
      "source": [
        "plt.plot(history.history['accuracy'])\n",
        "plt.plot(history.history['val_accuracy'])"
      ],
      "metadata": {
        "colab": {
          "base_uri": "https://localhost:8080/",
          "height": 448
        },
        "id": "F5TYZamfdNqN",
        "outputId": "61e55789-8218-47d7-8326-168bf5ac015c"
      },
      "execution_count": null,
      "outputs": [
        {
          "output_type": "execute_result",
          "data": {
            "text/plain": [
              "[<matplotlib.lines.Line2D at 0x7c0b2db5b220>]"
            ]
          },
          "metadata": {},
          "execution_count": 131
        },
        {
          "output_type": "display_data",
          "data": {
            "text/plain": [
              "<Figure size 640x480 with 1 Axes>"
            ],
            "image/png": "[encoded data removed]"
          },
          "metadata": {}
        }
      ]
    },
    {
      "cell_type": "markdown",
      "source": [
        "사전의 크기를 변경하는 것만으로도 어느정도 줄었다."
      ],
      "metadata": {
        "id": "6i0xaULtcfIN"
      }
    },
    {
      "cell_type": "markdown",
      "source": [
        "##### Change Embedding dims"
      ],
      "metadata": {
        "id": "krQ9g-LkazXd"
      }
    },
    {
      "cell_type": "markdown",
      "source": [
        "임베딩 크기를 결정하는 모범 사례는 어휘 사전의 네제곱근을 사용하는 것이다.\n",
        "\n",
        "10,000 ^ (1/4) 는 10이다"
      ],
      "metadata": {
        "id": "jl3mtqJDa194"
      }
    },
    {
      "cell_type": "code",
      "source": [
        "embedding_dims = 10"
      ],
      "metadata": {
        "id": "hpyKe-MpbY6F"
      },
      "execution_count": null,
      "outputs": []
    },
    {
      "cell_type": "code",
      "source": [
        "model = tf.keras.Sequential([\n",
        "    tf.keras.layers.Embedding(vocab_size, embedding_dims),\n",
        "    tf.keras.layers.GlobalAveragePooling1D(),\n",
        "    tf.keras.layers.Dense(24, activation='relu'),\n",
        "    tf.keras.layers.Dense(1, activation='sigmoid')\n",
        "])\n",
        "\n",
        "model.compile(loss='binary_crossentropy', optimizer='adam',\n",
        "              metrics=['accuracy'])\n",
        "history = model.fit(train_padded, train_label, epochs=20,\n",
        "                    validation_data=[test_padded, test_label])"
      ],
      "metadata": {
        "colab": {
          "base_uri": "https://localhost:8080/"
        },
        "id": "I5cl7Sxsbeth",
        "outputId": "be921f66-41d4-4cf3-cc48-995d66cfd824"
      },
      "execution_count": null,
      "outputs": [
        {
          "output_type": "stream",
          "name": "stdout",
          "text": [
            "Epoch 1/20\n",
            "1250/1250 [==============================] - 11s 8ms/step - loss: 0.5890 - accuracy: 0.7093 - val_loss: 0.3965 - val_accuracy: 0.8562\n",
            "Epoch 2/20\n",
            "1250/1250 [==============================] - 9s 7ms/step - loss: 0.3163 - accuracy: 0.8824 - val_loss: 0.2903 - val_accuracy: 0.8868\n",
            "Epoch 3/20\n",
            "1250/1250 [==============================] - 10s 8ms/step - loss: 0.2539 - accuracy: 0.9034 - val_loss: 0.2770 - val_accuracy: 0.8887\n",
            "Epoch 4/20\n",
            "1250/1250 [==============================] - 10s 8ms/step - loss: 0.2260 - accuracy: 0.9131 - val_loss: 0.2614 - val_accuracy: 0.8961\n",
            "Epoch 5/20\n",
            "1250/1250 [==============================] - 10s 8ms/step - loss: 0.2065 - accuracy: 0.9222 - val_loss: 0.2626 - val_accuracy: 0.8960\n",
            "Epoch 6/20\n",
            "1250/1250 [==============================] - 9s 7ms/step - loss: 0.1934 - accuracy: 0.9279 - val_loss: 0.2632 - val_accuracy: 0.8949\n",
            "Epoch 7/20\n",
            "1250/1250 [==============================] - 9s 8ms/step - loss: 0.1823 - accuracy: 0.9318 - val_loss: 0.2638 - val_accuracy: 0.8963\n",
            "Epoch 8/20\n",
            "1250/1250 [==============================] - 10s 8ms/step - loss: 0.1725 - accuracy: 0.9357 - val_loss: 0.2668 - val_accuracy: 0.8958\n",
            "Epoch 9/20\n",
            "1250/1250 [==============================] - 10s 8ms/step - loss: 0.1642 - accuracy: 0.9393 - val_loss: 0.2714 - val_accuracy: 0.8945\n",
            "Epoch 10/20\n",
            "1250/1250 [==============================] - 9s 7ms/step - loss: 0.1566 - accuracy: 0.9422 - val_loss: 0.2813 - val_accuracy: 0.8939\n",
            "Epoch 11/20\n",
            "1250/1250 [==============================] - 10s 8ms/step - loss: 0.1493 - accuracy: 0.9461 - val_loss: 0.2835 - val_accuracy: 0.8946\n",
            "Epoch 12/20\n",
            "1250/1250 [==============================] - 10s 8ms/step - loss: 0.1427 - accuracy: 0.9498 - val_loss: 0.2913 - val_accuracy: 0.8937\n",
            "Epoch 13/20\n",
            "1250/1250 [==============================] - 10s 8ms/step - loss: 0.1379 - accuracy: 0.9503 - val_loss: 0.3026 - val_accuracy: 0.8911\n",
            "Epoch 14/20\n",
            "1250/1250 [==============================] - 9s 7ms/step - loss: 0.1330 - accuracy: 0.9533 - val_loss: 0.3121 - val_accuracy: 0.8904\n",
            "Epoch 15/20\n",
            "1250/1250 [==============================] - 10s 8ms/step - loss: 0.1264 - accuracy: 0.9560 - val_loss: 0.3218 - val_accuracy: 0.8903\n",
            "Epoch 16/20\n",
            "1250/1250 [==============================] - 10s 8ms/step - loss: 0.1246 - accuracy: 0.9567 - val_loss: 0.3266 - val_accuracy: 0.8904\n",
            "Epoch 17/20\n",
            "1250/1250 [==============================] - 9s 7ms/step - loss: 0.1188 - accuracy: 0.9591 - val_loss: 0.3460 - val_accuracy: 0.8864\n",
            "Epoch 18/20\n",
            "1250/1250 [==============================] - 9s 7ms/step - loss: 0.1176 - accuracy: 0.9591 - val_loss: 0.3420 - val_accuracy: 0.8882\n",
            "Epoch 19/20\n",
            "1250/1250 [==============================] - 10s 8ms/step - loss: 0.1139 - accuracy: 0.9607 - val_loss: 0.3513 - val_accuracy: 0.8889\n",
            "Epoch 20/20\n",
            "1250/1250 [==============================] - 10s 8ms/step - loss: 0.1080 - accuracy: 0.9640 - val_loss: 0.3627 - val_accuracy: 0.8873\n"
          ]
        }
      ]
    },
    {
      "cell_type": "code",
      "source": [
        "plt.plot(history.history['loss'])\n",
        "plt.plot(history.history['val_loss'])"
      ],
      "metadata": {
        "colab": {
          "base_uri": "https://localhost:8080/",
          "height": 448
        },
        "id": "q6akHV-Kbhi-",
        "outputId": "d228d9ee-4258-4c5b-d660-c2f615f0257e"
      },
      "execution_count": null,
      "outputs": [
        {
          "output_type": "execute_result",
          "data": {
            "text/plain": [
              "[<matplotlib.lines.Line2D at 0x7c0aa2f03b80>]"
            ]
          },
          "metadata": {},
          "execution_count": 134
        },
        {
          "output_type": "display_data",
          "data": {
            "text/plain": [
              "<Figure size 640x480 with 1 Axes>"
            ],
            "image/png": "[encoded data removed]"
          },
          "metadata": {}
        }
      ]
    },
    {
      "cell_type": "code",
      "source": [
        "plt.plot(history.history['accuracy'])\n",
        "plt.plot(history.history['val_accuracy'])"
      ],
      "metadata": {
        "colab": {
          "base_uri": "https://localhost:8080/",
          "height": 448
        },
        "id": "-DU86tGHbhk1",
        "outputId": "cb5a8c4d-01a8-4c49-ed79-57f16af85253"
      },
      "execution_count": null,
      "outputs": [
        {
          "output_type": "execute_result",
          "data": {
            "text/plain": [
              "[<matplotlib.lines.Line2D at 0x7c0b2c801150>]"
            ]
          },
          "metadata": {},
          "execution_count": 135
        },
        {
          "output_type": "display_data",
          "data": {
            "text/plain": [
              "<Figure size 640x480 with 1 Axes>"
            ],
            "image/png": "[encoded data removed]"
          },
          "metadata": {}
        }
      ]
    },
    {
      "cell_type": "markdown",
      "source": [
        "그래프의 요동이 조금 더 줄었다."
      ],
      "metadata": {
        "id": "Db00-Q16jCCl"
      }
    },
    {
      "cell_type": "markdown",
      "source": [
        "**max_len=2000 일 때**"
      ],
      "metadata": {
        "id": "GQzt3PF0dkig"
      }
    },
    {
      "cell_type": "code",
      "source": [
        "vocab_size = 10_000 # 10,000으로 변경\n",
        "embedding_dim = 10\n",
        "max_length = 2000 # 2000으로 늘려보자\n",
        "trunc_type='post'\n",
        "padding_type='post'\n",
        "oov_tok = \"\""
      ],
      "metadata": {
        "id": "uCcpW4JjjVoN"
      },
      "execution_count": null,
      "outputs": []
    },
    {
      "cell_type": "code",
      "source": [
        "tokenizer = Tokenizer(num_words=vocab_size, oov_token=oov_tok)\n",
        "tokenizer.fit_on_texts(train_data)\n",
        "\n",
        "word_index = tokenizer.word_index\n",
        "\n",
        "train_sequences = tokenizer.texts_to_sequences(train_data)\n",
        "train_padded = pad_sequences(train_sequences, maxlen=max_length, padding=padding_type, truncating=trunc_type)\n",
        "\n",
        "test_sequences = tokenizer.texts_to_sequences(test_data)\n",
        "test_padded = pad_sequences(test_sequences, maxlen=max_length, padding=padding_type, truncating=trunc_type)"
      ],
      "metadata": {
        "id": "Ix_6lNPljWNU"
      },
      "execution_count": null,
      "outputs": []
    },
    {
      "cell_type": "code",
      "source": [
        "model = tf.keras.Sequential([\n",
        "    tf.keras.layers.Embedding(vocab_size, embedding_dims),\n",
        "    tf.keras.layers.GlobalAveragePooling1D(),\n",
        "    tf.keras.layers.Dense(24, activation='relu'),\n",
        "    tf.keras.layers.Dense(1, activation='sigmoid')\n",
        "])\n",
        "\n",
        "model.compile(loss='binary_crossentropy', optimizer='adam',\n",
        "              metrics=['accuracy'])\n",
        "history = model.fit(train_padded, train_label, epochs=20,\n",
        "                    validation_data=[test_padded, test_label])"
      ],
      "metadata": {
        "colab": {
          "base_uri": "https://localhost:8080/"
        },
        "id": "Ruire95ijeW5",
        "outputId": "311e92de-854f-4591-c182-03bf55f99332"
      },
      "execution_count": null,
      "outputs": [
        {
          "output_type": "stream",
          "name": "stdout",
          "text": [
            "Epoch 1/20\n",
            "1250/1250 [==============================] - 16s 12ms/step - loss: 0.6757 - accuracy: 0.5846 - val_loss: 0.5996 - val_accuracy: 0.6784\n",
            "Epoch 2/20\n",
            "1250/1250 [==============================] - 13s 11ms/step - loss: 0.4466 - accuracy: 0.8378 - val_loss: 0.3575 - val_accuracy: 0.8748\n",
            "Epoch 3/20\n",
            "1250/1250 [==============================] - 13s 10ms/step - loss: 0.3158 - accuracy: 0.8807 - val_loss: 0.3081 - val_accuracy: 0.8816\n",
            "Epoch 4/20\n",
            "1250/1250 [==============================] - 13s 11ms/step - loss: 0.2715 - accuracy: 0.8972 - val_loss: 0.2903 - val_accuracy: 0.8855\n",
            "Epoch 5/20\n",
            "1250/1250 [==============================] - 13s 11ms/step - loss: 0.2471 - accuracy: 0.9063 - val_loss: 0.2759 - val_accuracy: 0.8934\n",
            "Epoch 6/20\n",
            "1250/1250 [==============================] - 13s 10ms/step - loss: 0.2311 - accuracy: 0.9117 - val_loss: 0.2711 - val_accuracy: 0.8902\n",
            "Epoch 7/20\n",
            "1250/1250 [==============================] - 13s 11ms/step - loss: 0.2182 - accuracy: 0.9183 - val_loss: 0.2619 - val_accuracy: 0.8977\n",
            "Epoch 8/20\n",
            "1250/1250 [==============================] - 13s 11ms/step - loss: 0.2082 - accuracy: 0.9212 - val_loss: 0.2836 - val_accuracy: 0.8877\n",
            "Epoch 9/20\n",
            "1250/1250 [==============================] - 13s 10ms/step - loss: 0.1991 - accuracy: 0.9251 - val_loss: 0.2599 - val_accuracy: 0.8988\n",
            "Epoch 10/20\n",
            "1250/1250 [==============================] - 13s 10ms/step - loss: 0.1912 - accuracy: 0.9277 - val_loss: 0.2635 - val_accuracy: 0.8963\n",
            "Epoch 11/20\n",
            "1250/1250 [==============================] - 14s 11ms/step - loss: 0.1836 - accuracy: 0.9315 - val_loss: 0.2631 - val_accuracy: 0.8976\n",
            "Epoch 12/20\n",
            "1250/1250 [==============================] - 13s 11ms/step - loss: 0.1791 - accuracy: 0.9315 - val_loss: 0.2756 - val_accuracy: 0.8948\n",
            "Epoch 13/20\n",
            "1250/1250 [==============================] - 13s 10ms/step - loss: 0.1714 - accuracy: 0.9368 - val_loss: 0.2660 - val_accuracy: 0.8967\n",
            "Epoch 14/20\n",
            "1250/1250 [==============================] - 13s 10ms/step - loss: 0.1674 - accuracy: 0.9378 - val_loss: 0.2807 - val_accuracy: 0.8946\n",
            "Epoch 15/20\n",
            "1250/1250 [==============================] - 13s 11ms/step - loss: 0.1623 - accuracy: 0.9406 - val_loss: 0.2717 - val_accuracy: 0.8974\n",
            "Epoch 16/20\n",
            "1250/1250 [==============================] - 13s 10ms/step - loss: 0.1563 - accuracy: 0.9428 - val_loss: 0.2782 - val_accuracy: 0.8949\n",
            "Epoch 17/20\n",
            "1250/1250 [==============================] - 14s 11ms/step - loss: 0.1540 - accuracy: 0.9435 - val_loss: 0.2932 - val_accuracy: 0.8935\n",
            "Epoch 18/20\n",
            "1250/1250 [==============================] - 14s 11ms/step - loss: 0.1493 - accuracy: 0.9454 - val_loss: 0.2863 - val_accuracy: 0.8956\n",
            "Epoch 19/20\n",
            "1250/1250 [==============================] - 18s 14ms/step - loss: 0.1467 - accuracy: 0.9469 - val_loss: 0.2906 - val_accuracy: 0.8933\n",
            "Epoch 20/20\n",
            "1250/1250 [==============================] - 17s 14ms/step - loss: 0.1415 - accuracy: 0.9485 - val_loss: 0.3282 - val_accuracy: 0.8866\n"
          ]
        }
      ]
    },
    {
      "cell_type": "code",
      "source": [
        "plt.plot(history.history['loss'])\n",
        "plt.plot(history.history['val_loss'])"
      ],
      "metadata": {
        "colab": {
          "base_uri": "https://localhost:8080/",
          "height": 452
        },
        "id": "BnS5EKphbKcM",
        "outputId": "866f6fe3-59cd-4ad8-ce70-e42a664217d5"
      },
      "execution_count": null,
      "outputs": [
        {
          "output_type": "execute_result",
          "data": {
            "text/plain": [
              "[<matplotlib.lines.Line2D at 0x7c0b2c7af8b0>]"
            ]
          },
          "metadata": {},
          "execution_count": 146
        },
        {
          "output_type": "display_data",
          "data": {
            "text/plain": [
              "<Figure size 640x480 with 1 Axes>"
            ],
            "image/png": "[encoded data removed]"
          },
          "metadata": {}
        }
      ]
    },
    {
      "cell_type": "code",
      "source": [
        "plt.plot(history.history['accuracy'])\n",
        "plt.plot(history.history['val_accuracy'])"
      ],
      "metadata": {
        "colab": {
          "base_uri": "https://localhost:8080/",
          "height": 448
        },
        "id": "rNcKYjF7bMm7",
        "outputId": "c6b30bdd-2089-4918-c3f1-22d4f50f217a"
      },
      "execution_count": null,
      "outputs": [
        {
          "output_type": "execute_result",
          "data": {
            "text/plain": [
              "[<matplotlib.lines.Line2D at 0x7c0ab8f382e0>]"
            ]
          },
          "metadata": {},
          "execution_count": 147
        },
        {
          "output_type": "display_data",
          "data": {
            "text/plain": [
              "<Figure size 640x480 with 1 Axes>"
            ],
            "image/png": "[encoded data removed]"
          },
          "metadata": {}
        }
      ]
    },
    {
      "cell_type": "markdown",
      "source": [
        "maxlen을 늘리니까 overfitting이 감소했다\n",
        "\n",
        "더 늘려볼 순 있겠지만 시간이 오래 걸리니 넘어가겠다."
      ],
      "metadata": {
        "id": "Cabrg0CEk1tn"
      }
    },
    {
      "cell_type": "markdown",
      "source": [
        "##### **Combining ideas**\n",
        "위에서 했던 것 처럼 overfitting을 낮추기 위해 learning rate를 낮추어 보겠다"
      ],
      "metadata": {
        "id": "FEFI4y8elgHl"
      }
    },
    {
      "cell_type": "code",
      "source": [
        "model = tf.keras.Sequential([\n",
        "    tf.keras.layers.Embedding(vocab_size, embedding_dims),\n",
        "    tf.keras.layers.GlobalAveragePooling1D(),\n",
        "    tf.keras.layers.Dense(24, activation='relu'),\n",
        "    tf.keras.layers.Dense(1, activation='sigmoid')\n",
        "\n",
        "])\n",
        "adam = tf.keras.optimizers.Adam(learning_rate=1e-4, beta_1=0.9,\n",
        "                                beta_2=0.999, amsgrad=False)\n",
        "model.compile(loss='binary_crossentropy', optimizer=adam,\n",
        "              metrics=['accuracy'])\n",
        "history = model.fit(train_padded, train_label, epochs=20,\n",
        "                    validation_data=[test_padded, test_label])"
      ],
      "metadata": {
        "colab": {
          "base_uri": "https://localhost:8080/"
        },
        "id": "cqFCwJqulZHJ",
        "outputId": "b6c4cdef-b0dd-4416-b3e3-4894d4d28886"
      },
      "execution_count": null,
      "outputs": [
        {
          "output_type": "stream",
          "name": "stdout",
          "text": [
            "Epoch 1/20\n",
            "1250/1250 [==============================] - 18s 13ms/step - loss: 0.6930 - accuracy: 0.5110 - val_loss: 0.6928 - val_accuracy: 0.5116\n",
            "Epoch 2/20\n",
            "1250/1250 [==============================] - 14s 11ms/step - loss: 0.6924 - accuracy: 0.5651 - val_loss: 0.6916 - val_accuracy: 0.5179\n",
            "Epoch 3/20\n",
            "1250/1250 [==============================] - 13s 10ms/step - loss: 0.6902 - accuracy: 0.6338 - val_loss: 0.6881 - val_accuracy: 0.7790\n",
            "Epoch 4/20\n",
            "1250/1250 [==============================] - 13s 10ms/step - loss: 0.6850 - accuracy: 0.7044 - val_loss: 0.6811 - val_accuracy: 0.7876\n",
            "Epoch 5/20\n",
            "1250/1250 [==============================] - 13s 10ms/step - loss: 0.6756 - accuracy: 0.7486 - val_loss: 0.6693 - val_accuracy: 0.7730\n",
            "Epoch 6/20\n",
            "1250/1250 [==============================] - 13s 10ms/step - loss: 0.6610 - accuracy: 0.7850 - val_loss: 0.6520 - val_accuracy: 0.7963\n",
            "Epoch 7/20\n",
            "1250/1250 [==============================] - 14s 11ms/step - loss: 0.6401 - accuracy: 0.7902 - val_loss: 0.6295 - val_accuracy: 0.7487\n",
            "Epoch 8/20\n",
            "1250/1250 [==============================] - 14s 11ms/step - loss: 0.6145 - accuracy: 0.8070 - val_loss: 0.6013 - val_accuracy: 0.8174\n",
            "Epoch 9/20\n",
            "1250/1250 [==============================] - 13s 10ms/step - loss: 0.5859 - accuracy: 0.8194 - val_loss: 0.5724 - val_accuracy: 0.8120\n",
            "Epoch 10/20\n",
            "1250/1250 [==============================] - 13s 10ms/step - loss: 0.5548 - accuracy: 0.8261 - val_loss: 0.5415 - val_accuracy: 0.8253\n",
            "Epoch 11/20\n",
            "1250/1250 [==============================] - 13s 10ms/step - loss: 0.5234 - accuracy: 0.8341 - val_loss: 0.5111 - val_accuracy: 0.8364\n",
            "Epoch 12/20\n",
            "1250/1250 [==============================] - 13s 11ms/step - loss: 0.4933 - accuracy: 0.8414 - val_loss: 0.4828 - val_accuracy: 0.8430\n",
            "Epoch 13/20\n",
            "1250/1250 [==============================] - 13s 10ms/step - loss: 0.4653 - accuracy: 0.8489 - val_loss: 0.4573 - val_accuracy: 0.8419\n",
            "Epoch 14/20\n",
            "1250/1250 [==============================] - 13s 10ms/step - loss: 0.4390 - accuracy: 0.8549 - val_loss: 0.4330 - val_accuracy: 0.8573\n",
            "Epoch 15/20\n",
            "1250/1250 [==============================] - 14s 11ms/step - loss: 0.4150 - accuracy: 0.8616 - val_loss: 0.4136 - val_accuracy: 0.8600\n",
            "Epoch 16/20\n",
            "1250/1250 [==============================] - 13s 10ms/step - loss: 0.3936 - accuracy: 0.8663 - val_loss: 0.3924 - val_accuracy: 0.8626\n",
            "Epoch 17/20\n",
            "1250/1250 [==============================] - 14s 11ms/step - loss: 0.3747 - accuracy: 0.8718 - val_loss: 0.3759 - val_accuracy: 0.8678\n",
            "Epoch 18/20\n",
            "1250/1250 [==============================] - 13s 10ms/step - loss: 0.3578 - accuracy: 0.8764 - val_loss: 0.3627 - val_accuracy: 0.8663\n",
            "Epoch 19/20\n",
            "1250/1250 [==============================] - 13s 10ms/step - loss: 0.3432 - accuracy: 0.8793 - val_loss: 0.3496 - val_accuracy: 0.8730\n",
            "Epoch 20/20\n",
            "1250/1250 [==============================] - 14s 11ms/step - loss: 0.3303 - accuracy: 0.8821 - val_loss: 0.3389 - val_accuracy: 0.8761\n"
          ]
        }
      ]
    },
    {
      "cell_type": "code",
      "source": [
        "plt.plot(history.history['loss'])\n",
        "plt.plot(history.history['val_loss'])"
      ],
      "metadata": {
        "colab": {
          "base_uri": "https://localhost:8080/",
          "height": 448
        },
        "id": "Q9sEC_lOl8_Z",
        "outputId": "3afe3daa-a09a-4592-f8ff-ebf3498d9496"
      },
      "execution_count": null,
      "outputs": [
        {
          "output_type": "execute_result",
          "data": {
            "text/plain": [
              "[<matplotlib.lines.Line2D at 0x7c0b2caaafb0>]"
            ]
          },
          "metadata": {},
          "execution_count": 150
        },
        {
          "output_type": "display_data",
          "data": {
            "text/plain": [
              "<Figure size 640x480 with 1 Axes>"
            ],
            "image/png": "[encoded data removed]"
          },
          "metadata": {}
        }
      ]
    },
    {
      "cell_type": "code",
      "source": [
        "plt.plot(history.history['accuracy'])\n",
        "plt.plot(history.history['val_accuracy'])"
      ],
      "metadata": {
        "colab": {
          "base_uri": "https://localhost:8080/",
          "height": 453
        },
        "id": "rm78xbail9GO",
        "outputId": "ff7186ff-0726-4731-abae-7f5f27ea49de"
      },
      "execution_count": null,
      "outputs": [
        {
          "output_type": "execute_result",
          "data": {
            "text/plain": [
              "[<matplotlib.lines.Line2D at 0x7c0b0e492cb0>]"
            ]
          },
          "metadata": {},
          "execution_count": 149
        },
        {
          "output_type": "display_data",
          "data": {
            "text/plain": [
              "<Figure size 640x480 with 1 Axes>"
            ],
            "image/png": "[encoded data removed]"
          },
          "metadata": {}
        }
      ]
    },
    {
      "cell_type": "markdown",
      "source": [
        "좋다. overfitting이 거의 해결되었다.\n",
        "\n",
        "에폭을 늘린다면 더 높은 정확도를 얻을 것 같다. 하지만 시간 이슈로 생략..."
      ],
      "metadata": {
        "id": "6n3gTALOnNeV"
      }
    },
    {
      "cell_type": "markdown",
      "source": [
        "##### Predcition by using model"
      ],
      "metadata": {
        "id": "8xf87x0XqR32"
      }
    },
    {
      "cell_type": "code",
      "source": [
        "df['sentiment'].unique()\n",
        "# 확률은 높을수록 1에(positive) 가깝고, 낮을수록 0(negative) 에 가까움"
      ],
      "metadata": {
        "colab": {
          "base_uri": "https://localhost:8080/"
        },
        "id": "6VkhRvuEqQ5x",
        "outputId": "583c00c7-bb8a-4ded-b553-45f9d913552d"
      },
      "execution_count": null,
      "outputs": [
        {
          "output_type": "execute_result",
          "data": {
            "text/plain": [
              "array([1, 0], dtype=object)"
            ]
          },
          "metadata": {},
          "execution_count": 162
        }
      ]
    },
    {
      "cell_type": "code",
      "source": [
        "# 긍정 여러개(positive)\n",
        "sentences= [\n",
        "\"Absolutely brilliant movie! The storyline kept me hooked from start to finish.\",\n",
        "\"A must-watch film! The performances were outstanding and the cinematography was breathtaking.\",\n",
        "\"I was blown away by this movie! The direction was flawless and the soundtrack was mesmerizing.\",\n",
        "\"Incredible film! I couldn't take my eyes off the screen the entire time.\",\n",
        "\"A cinematic masterpiece! The acting was superb and the visual effects were stunning.\",\n",
        "\"Such a heartwarming movie! The characters were well-developed and the message was powerful.\",\n",
        "\"Thoroughly enjoyed every moment of this film! It's a true gem.\",\n",
        "\"Fantastic movie! The plot twists kept me guessing until the very end.\",\n",
        "\"An instant classic! The storytelling was captivating and the acting was phenomenal.\",\n",
        "\"Bravo to the cast and crew! This movie exceeded all my expectations.\"\n",
        "]\n",
        "\n",
        "sequences = tokenizer.texts_to_sequences(sentences)\n",
        "padded_seqeunces = pad_sequences(sequences, maxlen=100, padding=padding_type, truncating=trunc_type)\n",
        "\n",
        "print(model.predict(padded_seqeunces))"
      ],
      "metadata": {
        "colab": {
          "base_uri": "https://localhost:8080/"
        },
        "id": "OQ6-PfgXqmIj",
        "outputId": "2dda12d1-6ab4-44f3-f942-f211d6e5c64b"
      },
      "execution_count": null,
      "outputs": [
        {
          "output_type": "stream",
          "name": "stdout",
          "text": [
            "1/1 [==============================] - 0s 23ms/step\n",
            "[[0.6675481 ]\n",
            " [0.9992689 ]\n",
            " [0.52318317]\n",
            " [0.88705415]\n",
            " [0.9871617 ]\n",
            " [0.82704395]\n",
            " [0.9999621 ]\n",
            " [0.95036066]\n",
            " [0.56499785]\n",
            " [0.84300935]]\n"
          ]
        }
      ]
    },
    {
      "cell_type": "code",
      "source": [
        "# 부정 여러개(negative)\n",
        "\n",
        "sentences = [\n",
        "\"Disappointing movie. The plot was confusing and the characters were underdeveloped.\",\n",
        "\"I found this film to be quite dull. The story lacked depth and the pacing was slow.\",\n",
        "\"Not worth the hype. The acting felt forced and the dialogue was cliché.\",\n",
        "\"Mediocre at best. I expected more from such a highly anticipated movie.\",\n",
        "\"I regret watching this movie. It was a complete waste of time.\",\n",
        "\"Disjointed storytelling. The film failed to engage me on any level.\",\n",
        "\"Uninspiring and forgettable. I wouldn't recommend this movie to anyone.\",\n",
        "\"Poorly executed. The visuals were unimpressive and the plot was predictable.\",\n",
        "\"A major letdown. I had high hopes for this movie but it fell short in every aspect.\",\n",
        "\"I was bored throughout the entire film. There was nothing memorable about it.\"\n",
        "\n",
        "]\n",
        "\n",
        "sequences = tokenizer.texts_to_sequences(sentences)\n",
        "padded_seqeunces = pad_sequences(sequences, maxlen=100, padding=padding_type, truncating=trunc_type)\n",
        "\n",
        "print(model.predict(padded_seqeunces))"
      ],
      "metadata": {
        "colab": {
          "base_uri": "https://localhost:8080/"
        },
        "id": "MzNj7WRBqs5P",
        "outputId": "90344351-4e2f-4412-8e17-4d85c0339749"
      },
      "execution_count": null,
      "outputs": [
        {
          "output_type": "stream",
          "name": "stdout",
          "text": [
            "1/1 [==============================] - 0s 56ms/step\n",
            "[[2.17910012e-04]\n",
            " [7.46227521e-03]\n",
            " [9.73042406e-05]\n",
            " [9.93066549e-01]\n",
            " [4.18763328e-03]\n",
            " [4.31749132e-03]\n",
            " [5.51178902e-02]\n",
            " [1.21841396e-04]\n",
            " [2.59448469e-01]\n",
            " [3.32103204e-03]]\n"
          ]
        }
      ]
    },
    {
      "cell_type": "markdown",
      "source": [
        "얼추 잘 예측한다."
      ],
      "metadata": {
        "id": "EQz8zio4q_z9"
      }
    },
    {
      "cell_type": "markdown",
      "source": [
        "#### RNN Model"
      ],
      "metadata": {
        "id": "tEF4LuicWj8v"
      }
    },
    {
      "cell_type": "markdown",
      "source": [
        "##### Data"
      ],
      "metadata": {
        "id": "QBxd5vKdLjQc"
      }
    },
    {
      "cell_type": "code",
      "source": [
        "vocab_size = 10_000 # 10,000으로 변경\n",
        "embedding_dim = 10\n",
        "max_length = 1000\n",
        "trunc_type='post'\n",
        "padding_type='post'\n",
        "oov_tok = \"\""
      ],
      "metadata": {
        "id": "v1BL0HKmWlLP"
      },
      "execution_count": null,
      "outputs": []
    },
    {
      "cell_type": "code",
      "source": [
        "tokenizer = Tokenizer(num_words=vocab_size, oov_token=oov_tok)\n",
        "tokenizer.fit_on_texts(train_data)\n",
        "\n",
        "word_index = tokenizer.word_index"
      ],
      "metadata": {
        "id": "T8o9w-X7LUZq"
      },
      "execution_count": null,
      "outputs": []
    },
    {
      "cell_type": "code",
      "source": [
        "train_sequences = tokenizer.texts_to_sequences(train_data)\n",
        "train_padded = pad_sequences(train_sequences, maxlen=max_length, padding=padding_type, truncating=trunc_type)\n",
        "\n",
        "test_sequences = tokenizer.texts_to_sequences(test_data)\n",
        "test_padded = pad_sequences(test_sequences, maxlen=max_length, padding=padding_type, truncating=trunc_type)"
      ],
      "metadata": {
        "id": "e8hxa-F7LU51"
      },
      "execution_count": null,
      "outputs": []
    },
    {
      "cell_type": "markdown",
      "source": [
        "##### LSTM RNN"
      ],
      "metadata": {
        "id": "rRQ4oEX-Lmjr"
      }
    },
    {
      "cell_type": "markdown",
      "source": [
        "Bidirectional LSTM layer"
      ],
      "metadata": {
        "id": "lTbIzDYzQRXu"
      }
    },
    {
      "cell_type": "code",
      "source": [
        "model.summary()"
      ],
      "metadata": {
        "colab": {
          "base_uri": "https://localhost:8080/"
        },
        "id": "MmKni1MBTkJS",
        "outputId": "0d18614b-66b1-47ab-b518-b12b9399ecc5"
      },
      "execution_count": null,
      "outputs": [
        {
          "output_type": "stream",
          "name": "stdout",
          "text": [
            "Model: \"sequential_3\"\n",
            "_________________________________________________________________\n",
            " Layer (type)                Output Shape              Param #   \n",
            "=================================================================\n",
            " embedding_3 (Embedding)     (None, None, 10)          100000    \n",
            "                                                                 \n",
            " bidirectional_3 (Bidirecti  (None, 20)                1680      \n",
            " onal)                                                           \n",
            "                                                                 \n",
            " dense_6 (Dense)             (None, 24)                504       \n",
            "                                                                 \n",
            " dense_7 (Dense)             (None, 1)                 25        \n",
            "                                                                 \n",
            "=================================================================\n",
            "Total params: 102209 (399.25 KB)\n",
            "Trainable params: 102209 (399.25 KB)\n",
            "Non-trainable params: 0 (0.00 Byte)\n",
            "_________________________________________________________________\n"
          ]
        }
      ]
    },
    {
      "cell_type": "code",
      "source": [
        "model = tf.keras.Sequential([\n",
        "    tf.keras.layers.Embedding(vocab_size, embedding_dim),\n",
        "    tf.keras.layers.Bidirectional(tf.keras.layers.LSTM(embedding_dim)),\n",
        "    tf.keras.layers.Dense(24, activation='relu'),\n",
        "    tf.keras.layers.Dense(1, activation='sigmoid')\n",
        "])\n",
        "\n",
        "adam = tf.keras.optimizers.Adam(learning_rate=1e-4, beta_1=0.9,\n",
        "                                beta_2=0.999, amsgrad=False)\n",
        "model.compile(loss='binary_crossentropy', optimizer=adam,\n",
        "              metrics=['accuracy'])\n",
        "history = model.fit(train_padded, train_label, epochs=20,\n",
        "                    validation_data=[test_padded, test_label])"
      ],
      "metadata": {
        "colab": {
          "base_uri": "https://localhost:8080/"
        },
        "id": "qIU8oktqLab8",
        "outputId": "15602e9e-b9b9-4fe1-e1cb-3ea55a2fcd65"
      },
      "execution_count": null,
      "outputs": [
        {
          "output_type": "stream",
          "name": "stdout",
          "text": [
            "Epoch 1/20\n",
            "1250/1250 [==============================] - 134s 105ms/step - loss: 0.6247 - accuracy: 0.6425 - val_loss: 0.3682 - val_accuracy: 0.8530\n",
            "Epoch 2/20\n",
            "1250/1250 [==============================] - 96s 77ms/step - loss: 0.3075 - accuracy: 0.8820 - val_loss: 0.2895 - val_accuracy: 0.8860\n",
            "Epoch 3/20\n",
            "1250/1250 [==============================] - 88s 70ms/step - loss: 0.2419 - accuracy: 0.9106 - val_loss: 0.2761 - val_accuracy: 0.8914\n",
            "Epoch 4/20\n",
            "1250/1250 [==============================] - 85s 68ms/step - loss: 0.2100 - accuracy: 0.9243 - val_loss: 0.2836 - val_accuracy: 0.8922\n",
            "Epoch 5/20\n",
            "1250/1250 [==============================] - 77s 62ms/step - loss: 0.1884 - accuracy: 0.9328 - val_loss: 0.2743 - val_accuracy: 0.8927\n",
            "Epoch 6/20\n",
            "1250/1250 [==============================] - 88s 71ms/step - loss: 0.1721 - accuracy: 0.9408 - val_loss: 0.2828 - val_accuracy: 0.8909\n",
            "Epoch 7/20\n",
            "1250/1250 [==============================] - 76s 61ms/step - loss: 0.1589 - accuracy: 0.9462 - val_loss: 0.3029 - val_accuracy: 0.8918\n",
            "Epoch 8/20\n",
            "1250/1250 [==============================] - 74s 59ms/step - loss: 0.1468 - accuracy: 0.9518 - val_loss: 0.3191 - val_accuracy: 0.8862\n",
            "Epoch 9/20\n",
            "1250/1250 [==============================] - 85s 68ms/step - loss: 0.1371 - accuracy: 0.9567 - val_loss: 0.3127 - val_accuracy: 0.8878\n",
            "Epoch 10/20\n",
            "1250/1250 [==============================] - 77s 62ms/step - loss: 0.1301 - accuracy: 0.9590 - val_loss: 0.3353 - val_accuracy: 0.8869\n",
            "Epoch 11/20\n",
            "1250/1250 [==============================] - 79s 63ms/step - loss: 0.1208 - accuracy: 0.9636 - val_loss: 0.3433 - val_accuracy: 0.8860\n",
            "Epoch 12/20\n",
            "1250/1250 [==============================] - 77s 62ms/step - loss: 0.1153 - accuracy: 0.9661 - val_loss: 0.3656 - val_accuracy: 0.8847\n",
            "Epoch 13/20\n",
            "1250/1250 [==============================] - 75s 60ms/step - loss: 0.1087 - accuracy: 0.9681 - val_loss: 0.3742 - val_accuracy: 0.8841\n",
            "Epoch 14/20\n",
            "1250/1250 [==============================] - 80s 64ms/step - loss: 0.1033 - accuracy: 0.9707 - val_loss: 0.3738 - val_accuracy: 0.8818\n",
            "Epoch 15/20\n",
            "1250/1250 [==============================] - 78s 63ms/step - loss: 0.0997 - accuracy: 0.9728 - val_loss: 0.3903 - val_accuracy: 0.8825\n",
            "Epoch 16/20\n",
            "1250/1250 [==============================] - 79s 63ms/step - loss: 0.0927 - accuracy: 0.9755 - val_loss: 0.4095 - val_accuracy: 0.8817\n",
            "Epoch 17/20\n",
            "1250/1250 [==============================] - 79s 64ms/step - loss: 0.0914 - accuracy: 0.9755 - val_loss: 0.4093 - val_accuracy: 0.8818\n",
            "Epoch 18/20\n",
            "1250/1250 [==============================] - 75s 60ms/step - loss: 0.0870 - accuracy: 0.9771 - val_loss: 0.4118 - val_accuracy: 0.8807\n",
            "Epoch 19/20\n",
            "1250/1250 [==============================] - 78s 62ms/step - loss: 0.0823 - accuracy: 0.9800 - val_loss: 0.4412 - val_accuracy: 0.8819\n",
            "Epoch 20/20\n",
            "1250/1250 [==============================] - 79s 63ms/step - loss: 0.0800 - accuracy: 0.9797 - val_loss: 0.4491 - val_accuracy: 0.8793\n"
          ]
        }
      ]
    },
    {
      "cell_type": "code",
      "source": [
        "plt.plot(history.history['loss'])\n",
        "plt.plot(history.history['val_loss'])"
      ],
      "metadata": {
        "colab": {
          "base_uri": "https://localhost:8080/",
          "height": 448
        },
        "id": "XQpOKvkfQeKm",
        "outputId": "90885f04-fe45-45ee-862a-74e93373ad21"
      },
      "execution_count": null,
      "outputs": [
        {
          "output_type": "execute_result",
          "data": {
            "text/plain": [
              "[<matplotlib.lines.Line2D at 0x7a93723038b0>]"
            ]
          },
          "metadata": {},
          "execution_count": 22
        },
        {
          "output_type": "display_data",
          "data": {
            "text/plain": [
              "<Figure size 640x480 with 1 Axes>"
            ],
            "image/png": "[encoded data removed]"
          },
          "metadata": {}
        }
      ]
    },
    {
      "cell_type": "code",
      "source": [
        "plt.plot(history.history['accuracy'])\n",
        "plt.plot(history.history['val_accuracy'])"
      ],
      "metadata": {
        "colab": {
          "base_uri": "https://localhost:8080/",
          "height": 448
        },
        "id": "rg8ctb2uQhYX",
        "outputId": "95341d7e-78c0-4fdc-cb46-837575756299"
      },
      "execution_count": null,
      "outputs": [
        {
          "output_type": "execute_result",
          "data": {
            "text/plain": [
              "[<matplotlib.lines.Line2D at 0x7a93acf87d00>]"
            ]
          },
          "metadata": {},
          "execution_count": 23
        },
        {
          "output_type": "display_data",
          "data": {
            "text/plain": [
              "<Figure size 640x480 with 1 Axes>"
            ],
            "image/png": "[encoded data removed]"
          },
          "metadata": {}
        }
      ]
    },
    {
      "cell_type": "markdown",
      "source": [
        "overfitting이 보인다. dropout 층을 생성하고 LSTM 층을 하나 더 쌓아보겠다."
      ],
      "metadata": {
        "id": "ud9ybbfWW7gH"
      }
    },
    {
      "cell_type": "markdown",
      "source": [
        "##### Stacking LSTM + Dropout + Lower lr\n",
        "\n",
        "\n"
      ],
      "metadata": {
        "id": "emIEUsWvXGo8"
      }
    },
    {
      "cell_type": "code",
      "source": [
        "model = tf.keras.Sequential([\n",
        "    tf.keras.layers.Embedding(vocab_size, embedding_dim),\n",
        "    tf.keras.layers.Bidirectional(tf.keras.layers.LSTM(embedding_dim,\n",
        "                                                       return_sequences=True, dropout=0.2)),\n",
        "    tf.keras.layers.Bidirectional(tf.keras.layers.LSTM(embedding_dim, dropout=0.2)),\n",
        "    tf.keras.layers.Dense(24, activation='relu'),\n",
        "    tf.keras.layers.Dense(1, activation='sigmoid')\n",
        "])\n",
        "\n",
        "adam = tf.keras.optimizers.Adam(learning_rate=1e-5, beta_1=0.9,\n",
        "                                beta_2=0.999, amsgrad=False)\n",
        "model.compile(loss='binary_crossentropy', optimizer=adam,\n",
        "              metrics=['accuracy'])\n",
        "history = model.fit(train_padded, train_label, epochs=20,\n",
        "                    validation_data=[test_padded, test_label])"
      ],
      "metadata": {
        "colab": {
          "base_uri": "https://localhost:8080/"
        },
        "id": "x0Pt3tIbUBJ-",
        "outputId": "eaf7b3b6-9085-4231-a1c0-6a57d1c85f14"
      },
      "execution_count": null,
      "outputs": [
        {
          "output_type": "stream",
          "name": "stdout",
          "text": [
            "Epoch 1/20\n",
            "1250/1250 [==============================] - 214s 165ms/step - loss: 0.6932 - accuracy: 0.5002 - val_loss: 0.6932 - val_accuracy: 0.4993\n",
            "Epoch 2/20\n",
            "1250/1250 [==============================] - 161s 129ms/step - loss: 0.6930 - accuracy: 0.5002 - val_loss: 0.6927 - val_accuracy: 0.4992\n",
            "Epoch 3/20\n",
            "1250/1250 [==============================] - 147s 118ms/step - loss: 0.6921 - accuracy: 0.5197 - val_loss: 0.6910 - val_accuracy: 0.5645\n",
            "Epoch 4/20\n",
            "1250/1250 [==============================] - 144s 115ms/step - loss: 0.6880 - accuracy: 0.5801 - val_loss: 0.6814 - val_accuracy: 0.6076\n",
            "Epoch 5/20\n",
            "1250/1250 [==============================] - 136s 109ms/step - loss: 0.6331 - accuracy: 0.6552 - val_loss: 0.5794 - val_accuracy: 0.7680\n",
            "Epoch 6/20\n",
            "1250/1250 [==============================] - 144s 115ms/step - loss: 0.5525 - accuracy: 0.7897 - val_loss: 0.5204 - val_accuracy: 0.8155\n",
            "Epoch 7/20\n",
            "1250/1250 [==============================] - 144s 115ms/step - loss: 0.4958 - accuracy: 0.8130 - val_loss: 0.4625 - val_accuracy: 0.8249\n",
            "Epoch 8/20\n",
            "1250/1250 [==============================] - 142s 113ms/step - loss: 0.4443 - accuracy: 0.8242 - val_loss: 0.4275 - val_accuracy: 0.8325\n",
            "Epoch 9/20\n",
            "1250/1250 [==============================] - 143s 114ms/step - loss: 0.4135 - accuracy: 0.8368 - val_loss: 0.4027 - val_accuracy: 0.8409\n",
            "Epoch 10/20\n",
            "1250/1250 [==============================] - 135s 108ms/step - loss: 0.3893 - accuracy: 0.8468 - val_loss: 0.3855 - val_accuracy: 0.8462\n",
            "Epoch 11/20\n",
            "1250/1250 [==============================] - 142s 114ms/step - loss: 0.3728 - accuracy: 0.8526 - val_loss: 0.3719 - val_accuracy: 0.8508\n",
            "Epoch 12/20\n",
            "1250/1250 [==============================] - 142s 114ms/step - loss: 0.3574 - accuracy: 0.8582 - val_loss: 0.3608 - val_accuracy: 0.8542\n",
            "Epoch 13/20\n",
            "1250/1250 [==============================] - 143s 115ms/step - loss: 0.3442 - accuracy: 0.8666 - val_loss: 0.3524 - val_accuracy: 0.8556\n",
            "Epoch 14/20\n",
            "1250/1250 [==============================] - 141s 113ms/step - loss: 0.3328 - accuracy: 0.8698 - val_loss: 0.3443 - val_accuracy: 0.8601\n",
            "Epoch 15/20\n",
            "1250/1250 [==============================] - 145s 116ms/step - loss: 0.3218 - accuracy: 0.8750 - val_loss: 0.3386 - val_accuracy: 0.8628\n",
            "Epoch 16/20\n",
            "1250/1250 [==============================] - 151s 121ms/step - loss: 0.3143 - accuracy: 0.8787 - val_loss: 0.3320 - val_accuracy: 0.8654\n",
            "Epoch 17/20\n",
            "1250/1250 [==============================] - 144s 115ms/step - loss: 0.3063 - accuracy: 0.8820 - val_loss: 0.3274 - val_accuracy: 0.8666\n",
            "Epoch 18/20\n",
            "1250/1250 [==============================] - 142s 113ms/step - loss: 0.2970 - accuracy: 0.8866 - val_loss: 0.3237 - val_accuracy: 0.8678\n",
            "Epoch 19/20\n",
            "1250/1250 [==============================] - 143s 115ms/step - loss: 0.2910 - accuracy: 0.8876 - val_loss: 0.3195 - val_accuracy: 0.8705\n",
            "Epoch 20/20\n",
            "1250/1250 [==============================] - 150s 120ms/step - loss: 0.2848 - accuracy: 0.8921 - val_loss: 0.3165 - val_accuracy: 0.8738\n"
          ]
        }
      ]
    },
    {
      "cell_type": "code",
      "source": [
        "plt.plot(history.history['loss'])\n",
        "plt.plot(history.history['val_loss'])"
      ],
      "metadata": {
        "colab": {
          "base_uri": "https://localhost:8080/",
          "height": 448
        },
        "id": "RuGg2Y7gY3OP",
        "outputId": "b79b0fda-44b6-4035-c48b-e3ed1d1377a3"
      },
      "execution_count": null,
      "outputs": [
        {
          "output_type": "execute_result",
          "data": {
            "text/plain": [
              "[<matplotlib.lines.Line2D at 0x7a93acef0310>]"
            ]
          },
          "metadata": {},
          "execution_count": 25
        },
        {
          "output_type": "display_data",
          "data": {
            "text/plain": [
              "<Figure size 640x480 with 1 Axes>"
            ],
            "image/png": "[encoded data removed]"
          },
          "metadata": {}
        }
      ]
    },
    {
      "cell_type": "code",
      "source": [
        "plt.plot(history.history['accuracy'])\n",
        "plt.plot(history.history['val_accuracy'])"
      ],
      "metadata": {
        "colab": {
          "base_uri": "https://localhost:8080/",
          "height": 448
        },
        "id": "R9q69zSAY3tO",
        "outputId": "06bf4f7e-6f7f-4d46-e8f3-bf7d9d350b75"
      },
      "execution_count": null,
      "outputs": [
        {
          "output_type": "execute_result",
          "data": {
            "text/plain": [
              "[<matplotlib.lines.Line2D at 0x7a93c4f35930>]"
            ]
          },
          "metadata": {},
          "execution_count": 26
        },
        {
          "output_type": "display_data",
          "data": {
            "text/plain": [
              "<Figure size 640x480 with 1 Axes>"
            ],
            "image/png": "[encoded data removed]"
          },
          "metadata": {}
        }
      ]
    },
    {
      "cell_type": "markdown",
      "source": [
        "그래프가 많이 괜찮아졌다."
      ],
      "metadata": {
        "id": "fJawkUyTmU2E"
      }
    },
    {
      "cell_type": "markdown",
      "source": [
        "에폭을 더 늘린다면 좋은 결과를 얻을 것 같다.\n",
        "\n",
        "하지만 런타임 시간이 많지 않아 패스하겠다."
      ],
      "metadata": {
        "id": "WR68r72elmlU"
      }
    },
    {
      "cell_type": "markdown",
      "source": [
        "###### Predcition by using model"
      ],
      "metadata": {
        "id": "bixsZKvkjou_"
      }
    },
    {
      "cell_type": "code",
      "source": [
        "# 긍정 여러개(positive)\n",
        "sentences= [\n",
        "\"Absolutely brilliant movie! The storyline kept me hooked from start to finish.\",\n",
        "\"A must-watch film! The performances were outstanding and the cinematography was breathtaking.\",\n",
        "\"I was blown away by this movie! The direction was flawless and the soundtrack was mesmerizing.\",\n",
        "\"Incredible film! I couldn't take my eyes off the screen the entire time.\",\n",
        "\"A cinematic masterpiece! The acting was superb and the visual effects were stunning.\",\n",
        "\"Such a heartwarming movie! The characters were well-developed and the message was powerful.\",\n",
        "\"Thoroughly enjoyed every moment of this film! It's a true gem.\",\n",
        "\"Fantastic movie! The plot twists kept me guessing until the very end.\",\n",
        "\"An instant classic! The storytelling was captivating and the acting was phenomenal.\",\n",
        "\"Bravo to the cast and crew! This movie exceeded all my expectations.\"\n",
        "]\n",
        "\n",
        "sequences = tokenizer.texts_to_sequences(sentences)\n",
        "padded_seqeunces = pad_sequences(sequences, maxlen=100, padding=padding_type, truncating=trunc_type)\n",
        "\n",
        "print(model.predict(padded_seqeunces))"
      ],
      "metadata": {
        "colab": {
          "base_uri": "https://localhost:8080/"
        },
        "id": "GUYhnKNVjjaj",
        "outputId": "8252f7d0-8584-4865-9922-0ec981982856"
      },
      "execution_count": null,
      "outputs": [
        {
          "output_type": "stream",
          "name": "stdout",
          "text": [
            "1/1 [==============================] - 0s 24ms/step\n",
            "[[0.52284384]\n",
            " [0.5587555 ]\n",
            " [0.50690055]\n",
            " [0.37992358]\n",
            " [0.5510399 ]\n",
            " [0.48824796]\n",
            " [0.6104819 ]\n",
            " [0.5201098 ]\n",
            " [0.4873796 ]\n",
            " [0.37791282]]\n"
          ]
        }
      ]
    },
    {
      "cell_type": "code",
      "source": [
        "# 부정 여러개(negative)\n",
        "\n",
        "sentences = [\n",
        "\"Disappointing movie. The plot was confusing and the characters were underdeveloped.\",\n",
        "\"I found this film to be quite dull. The story lacked depth and the pacing was slow.\",\n",
        "\"Not worth the hype. The acting felt forced and the dialogue was cliché.\",\n",
        "\"Mediocre at best. I expected more from such a highly anticipated movie.\",\n",
        "\"I regret watching this movie. It was a complete waste of time.\",\n",
        "\"Disjointed storytelling. The film failed to engage me on any level.\",\n",
        "\"Uninspiring and forgettable. I wouldn't recommend this movie to anyone.\",\n",
        "\"Poorly executed. The visuals were unimpressive and the plot was predictable.\",\n",
        "\"A major letdown. I had high hopes for this movie but it fell short in every aspect.\",\n",
        "\"I was bored throughout the entire film. There was nothing memorable about it.\"\n",
        "\n",
        "]\n",
        "\n",
        "sequences = tokenizer.texts_to_sequences(sentences)\n",
        "padded_seqeunces = pad_sequences(sequences, maxlen=100, padding=padding_type, truncating=trunc_type)\n",
        "\n",
        "print(model.predict(padded_seqeunces))"
      ],
      "metadata": {
        "colab": {
          "base_uri": "https://localhost:8080/"
        },
        "id": "CeaWiaaxjkDk",
        "outputId": "dc07ab45-5950-47a1-d4d1-f9a41871f765"
      },
      "execution_count": null,
      "outputs": [
        {
          "output_type": "stream",
          "name": "stdout",
          "text": [
            "1/1 [==============================] - 0s 33ms/step\n",
            "[[0.15171315]\n",
            " [0.19116555]\n",
            " [0.17214411]\n",
            " [0.5118567 ]\n",
            " [0.1824847 ]\n",
            " [0.15847506]\n",
            " [0.25297165]\n",
            " [0.18417896]\n",
            " [0.29722446]\n",
            " [0.21393062]]\n"
          ]
        }
      ]
    },
    {
      "cell_type": "markdown",
      "source": [
        "위에서 했던 기존 DNN 모델보다 예측을 잘하지 못하는 것을 볼 수 있다.\n",
        "\n",
        "이는 임베딩 크기, 사전 크기 등을 위의 DNN 모델처럼 여러가지 실험을 하며 찾아봐야 하지만 시간이 오래걸려 패스하겠다.\n",
        "\n",
        "+ 에폭을 증가시킨다면 더 나은 결과를 얻을 수도 있을 거 같다."
      ],
      "metadata": {
        "id": "Ut8oYmAFmo9o"
      }
    },
    {
      "cell_type": "markdown",
      "source": [
        "### Transfer Learning"
      ],
      "metadata": {
        "id": "QQTuAaZTY-Oe"
      }
    },
    {
      "cell_type": "code",
      "source": [
        "!wget https://bit.ly/3i9taLA -O glove.zip"
      ],
      "metadata": {
        "colab": {
          "base_uri": "https://localhost:8080/"
        },
        "id": "Xi69pAt5Y7t_",
        "outputId": "5cc4711d-6247-40cd-ba2d-bc803723fdba"
      },
      "execution_count": null,
      "outputs": [
        {
          "output_type": "stream",
          "name": "stdout",
          "text": [
            "--2024-04-04 01:30:53--  https://bit.ly/3i9taLA\n",
            "Resolving bit.ly (bit.ly)... 67.199.248.11, 67.199.248.10\n",
            "Connecting to bit.ly (bit.ly)|67.199.248.11|:443... connected.\n",
            "HTTP request sent, awaiting response... 301 Moved Permanently\n",
            "Location: https://tensorflowkorea.files.wordpress.com/2022/03/glove.twitter.27b.25d.txt.zip [following]\n",
            "--2024-04-04 01:30:53--  https://tensorflowkorea.files.wordpress.com/2022/03/glove.twitter.27b.25d.txt.zip\n",
            "Resolving tensorflowkorea.files.wordpress.com (tensorflowkorea.files.wordpress.com)... 192.0.72.19, 192.0.72.18\n",
            "Connecting to tensorflowkorea.files.wordpress.com (tensorflowkorea.files.wordpress.com)|192.0.72.19|:443... connected.\n",
            "HTTP request sent, awaiting response... 200 OK\n",
            "Length: 109906941 (105M) [application/zip]\n",
            "Saving to: ‘glove.zip’\n",
            "\n",
            "glove.zip           100%[===================>] 104.81M   226MB/s    in 0.5s    \n",
            "\n",
            "2024-04-04 01:30:54 (226 MB/s) - ‘glove.zip’ saved [109906941/109906941]\n",
            "\n"
          ]
        }
      ]
    },
    {
      "cell_type": "code",
      "source": [
        "# Glove 임베딩 압축 풀기\n",
        "\n",
        "import os\n",
        "import zipfile\n",
        "\n",
        "local_zip = 'glove.zip'\n",
        "zip_ref = zipfile.ZipFile(local_zip, 'r')\n",
        "zip_ref.extractall('glove')\n",
        "zip_ref.close()"
      ],
      "metadata": {
        "id": "89bbmeoEqGQV"
      },
      "execution_count": null,
      "outputs": []
    },
    {
      "cell_type": "markdown",
      "source": [
        "파일에 있는 각 항목은 단어와 학습된 벡터이다.\n",
        "\n",
        "이를 사용하는 가장 쉬운 방법은 단어가 키이고 값이 임베딩 벡터인 딕셔너리를 만드는 것이다."
      ],
      "metadata": {
        "id": "oJbM6dAfqQay"
      }
    },
    {
      "cell_type": "code",
      "source": [
        "glove_embeddings = dict()\n",
        "f = open('glove/glove.twitter.27B.25d.txt')\n",
        "# asarray는 array와 같지만 원본이 변경될 경우 asarray의 복사본까지 변경된다.\n",
        "\n",
        "for line in f:\n",
        "  values = line.split()\n",
        "  word = values[0]\n",
        "  coefs = np.asarray(values[1:], dtype='float32')\n",
        "  glove_embeddings[word] = coefs\n",
        "f.close()"
      ],
      "metadata": {
        "id": "WHdwoiQ1qK8O"
      },
      "execution_count": null,
      "outputs": []
    },
    {
      "cell_type": "code",
      "source": [
        "glove_embeddings['bravo']"
      ],
      "metadata": {
        "colab": {
          "base_uri": "https://localhost:8080/"
        },
        "id": "A6iah0X4qfPm",
        "outputId": "329f93a8-4159-4389-9fa9-efcba66c345c"
      },
      "execution_count": null,
      "outputs": [
        {
          "output_type": "execute_result",
          "data": {
            "text/plain": [
              "array([-0.34407 , -0.57672 , -0.2371  , -0.27437 , -0.4991  , -0.44294 ,\n",
              "       -0.52377 ,  1.0624  , -0.54438 , -1.0438  , -0.24751 , -1.1133  ,\n",
              "       -1.7592  ,  0.045337,  0.7207  , -0.12181 , -0.76954 , -0.033867,\n",
              "       -1.6309  ,  0.34038 ,  0.56001 ,  0.055378,  0.032943, -0.8459  ,\n",
              "        0.025942], dtype=float32)"
            ]
          },
          "metadata": {},
          "execution_count": 13
        }
      ]
    },
    {
      "cell_type": "markdown",
      "source": [
        "임베딩 행렬을\n",
        "\n",
        "- 첫번째 행은 OOV 토큰에 대한 행"
      ],
      "metadata": {
        "id": "JyL6Fg2sqwz2"
      }
    },
    {
      "cell_type": "code",
      "source": [
        "vocab_size = 10_000 # 10,000으로 변경\n",
        "embedding_dim = 25 #  25에 맞춤(glove 임베딩 벡터가 25)\n",
        "max_length = 1000\n",
        "trunc_type='post'\n",
        "padding_type='post'\n",
        "oov_tok = \"\""
      ],
      "metadata": {
        "id": "uBYb-2DVsU4Q"
      },
      "execution_count": null,
      "outputs": []
    },
    {
      "cell_type": "code",
      "source": [
        "embedding_matrix = np.zeros((vocab_size, embedding_dim)) ### 보캡 사이즈 변경\n",
        "for word, index in tokenizer.word_index.items():\n",
        "    if index > vocab_size - 1:\n",
        "        break\n",
        "    else:\n",
        "        embedding_vector = glove_embeddings.get(word)\n",
        "        if embedding_vector is not None:\n",
        "            embedding_matrix[index] = embedding_vector"
      ],
      "metadata": {
        "id": "U_vCO3V5qiw5"
      },
      "execution_count": null,
      "outputs": []
    },
    {
      "cell_type": "code",
      "source": [
        "model = tf.keras.Sequential([\n",
        "    tf.keras.layers.Embedding(vocab_size, embedding_dim,\n",
        "                              weights=[embedding_matrix], trainable=False),\n",
        "    tf.keras.layers.Bidirectional(tf.keras.layers.LSTM(embedding_dim,\n",
        "                                                       return_sequences=True)),\n",
        "    tf.keras.layers.Bidirectional(tf.keras.layers.LSTM(embedding_dim)),\n",
        "    tf.keras.layers.Dense(24, activation='relu'),\n",
        "    tf.keras.layers.Dense(1, activation='sigmoid')\n",
        "])\n",
        "adam = tf.keras.optimizers.Adam(learning_rate=1e-5,\n",
        "                                beta_1=0.9, beta_2=0.999, amsgrad=False)\n",
        "model.compile(loss='binary_crossentropy',optimizer=adam, metrics=['accuracy'])\n",
        "\n",
        "history = model.fit(train_padded, train_label, epochs=20,\n",
        "                    validation_data=[test_padded, test_label])"
      ],
      "metadata": {
        "colab": {
          "base_uri": "https://localhost:8080/"
        },
        "id": "U2fWM2Risbjf",
        "outputId": "88900a28-0301-47c9-c08c-6e0b631b49f1"
      },
      "execution_count": null,
      "outputs": [
        {
          "output_type": "stream",
          "name": "stdout",
          "text": [
            "Epoch 1/20\n",
            "1250/1250 [==============================] - 146s 111ms/step - loss: 0.6915 - accuracy: 0.5357 - val_loss: 0.6881 - val_accuracy: 0.5838\n",
            "Epoch 2/20\n",
            "1250/1250 [==============================] - 144s 115ms/step - loss: 0.6834 - accuracy: 0.5962 - val_loss: 0.6741 - val_accuracy: 0.6229\n",
            "Epoch 3/20\n",
            "1250/1250 [==============================] - 143s 114ms/step - loss: 0.6435 - accuracy: 0.6615 - val_loss: 0.5931 - val_accuracy: 0.7157\n",
            "Epoch 4/20\n",
            "1250/1250 [==============================] - 151s 121ms/step - loss: 0.5801 - accuracy: 0.7198 - val_loss: 0.5800 - val_accuracy: 0.7174\n",
            "Epoch 5/20\n",
            "1250/1250 [==============================] - 144s 115ms/step - loss: 0.5695 - accuracy: 0.7246 - val_loss: 0.5636 - val_accuracy: 0.7263\n",
            "Epoch 6/20\n",
            "1250/1250 [==============================] - 144s 115ms/step - loss: 0.5628 - accuracy: 0.7284 - val_loss: 0.5595 - val_accuracy: 0.7289\n",
            "Epoch 7/20\n",
            "1250/1250 [==============================] - 143s 115ms/step - loss: 0.5573 - accuracy: 0.7309 - val_loss: 0.5536 - val_accuracy: 0.7318\n",
            "Epoch 8/20\n",
            "1250/1250 [==============================] - 141s 113ms/step - loss: 0.5520 - accuracy: 0.7346 - val_loss: 0.5480 - val_accuracy: 0.7354\n",
            "Epoch 9/20\n",
            "1250/1250 [==============================] - 143s 114ms/step - loss: 0.5465 - accuracy: 0.7379 - val_loss: 0.5421 - val_accuracy: 0.7417\n",
            "Epoch 10/20\n",
            "1250/1250 [==============================] - 142s 114ms/step - loss: 0.5422 - accuracy: 0.7402 - val_loss: 0.5390 - val_accuracy: 0.7434\n",
            "Epoch 11/20\n",
            "1250/1250 [==============================] - 144s 115ms/step - loss: 0.5375 - accuracy: 0.7441 - val_loss: 0.5334 - val_accuracy: 0.7456\n",
            "Epoch 12/20\n",
            "1250/1250 [==============================] - 143s 115ms/step - loss: 0.5339 - accuracy: 0.7461 - val_loss: 0.5306 - val_accuracy: 0.7467\n",
            "Epoch 13/20\n",
            "1250/1250 [==============================] - 142s 114ms/step - loss: 0.5309 - accuracy: 0.7473 - val_loss: 0.5266 - val_accuracy: 0.7497\n",
            "Epoch 14/20\n",
            "1250/1250 [==============================] - 141s 113ms/step - loss: 0.5275 - accuracy: 0.7487 - val_loss: 0.5246 - val_accuracy: 0.7512\n",
            "Epoch 15/20\n",
            "1250/1250 [==============================] - 143s 114ms/step - loss: 0.5243 - accuracy: 0.7500 - val_loss: 0.5208 - val_accuracy: 0.7520\n",
            "Epoch 16/20\n",
            "1250/1250 [==============================] - 140s 112ms/step - loss: 0.5221 - accuracy: 0.7530 - val_loss: 0.5182 - val_accuracy: 0.7569\n",
            "Epoch 17/20\n",
            "1250/1250 [==============================] - 143s 114ms/step - loss: 0.5192 - accuracy: 0.7527 - val_loss: 0.5151 - val_accuracy: 0.7578\n",
            "Epoch 18/20\n",
            "1250/1250 [==============================] - 141s 113ms/step - loss: 0.5166 - accuracy: 0.7544 - val_loss: 0.5171 - val_accuracy: 0.7569\n",
            "Epoch 19/20\n",
            "1250/1250 [==============================] - 143s 114ms/step - loss: 0.5145 - accuracy: 0.7566 - val_loss: 0.5104 - val_accuracy: 0.7602\n",
            "Epoch 20/20\n",
            "1250/1250 [==============================] - 142s 114ms/step - loss: 0.5130 - accuracy: 0.7572 - val_loss: 0.5105 - val_accuracy: 0.7617\n"
          ]
        }
      ]
    },
    {
      "cell_type": "code",
      "source": [
        "plt.plot(history.history['loss'])\n",
        "plt.plot(history.history['val_loss'])"
      ],
      "metadata": {
        "colab": {
          "base_uri": "https://localhost:8080/",
          "height": 452
        },
        "id": "Td0v4eyyr2mG",
        "outputId": "ca07d699-d11d-408e-c3e0-be8ea838670c"
      },
      "execution_count": null,
      "outputs": [
        {
          "output_type": "execute_result",
          "data": {
            "text/plain": [
              "[<matplotlib.lines.Line2D at 0x7a93baf6f7f0>]"
            ]
          },
          "metadata": {},
          "execution_count": 47
        },
        {
          "output_type": "display_data",
          "data": {
            "text/plain": [
              "<Figure size 640x480 with 1 Axes>"
            ],
            "image/png": "[encoded data removed]"
          },
          "metadata": {}
        }
      ]
    },
    {
      "cell_type": "code",
      "source": [
        "plt.plot(history.history['accuracy'])\n",
        "plt.plot(history.history['val_accuracy'])"
      ],
      "metadata": {
        "colab": {
          "base_uri": "https://localhost:8080/",
          "height": 448
        },
        "id": "cR3Lymri0Usp",
        "outputId": "57b6cc73-1942-4c43-f224-4a59bd8b5cc6"
      },
      "execution_count": null,
      "outputs": [
        {
          "output_type": "execute_result",
          "data": {
            "text/plain": [
              "[<matplotlib.lines.Line2D at 0x7a93bba5c850>]"
            ]
          },
          "metadata": {},
          "execution_count": 48
        },
        {
          "output_type": "display_data",
          "data": {
            "text/plain": [
              "<Figure size 640x480 with 1 Axes>"
            ],
            "image/png": "[encoded data removed]"
          },
          "metadata": {}
        }
      ]
    },
    {
      "cell_type": "markdown",
      "source": [
        "계속 발산할 것으로 보인다."
      ],
      "metadata": {
        "id": "2flmyIC935WM"
      }
    },
    {
      "cell_type": "code",
      "source": [
        "# 긍정 여러개(positive)\n",
        "sentences= [\n",
        "\"Absolutely brilliant movie! The storyline kept me hooked from start to finish.\",\n",
        "\"A must-watch film! The performances were outstanding and the cinematography was breathtaking.\",\n",
        "\"I was blown away by this movie! The direction was flawless and the soundtrack was mesmerizing.\",\n",
        "\"Incredible film! I couldn't take my eyes off the screen the entire time.\",\n",
        "\"A cinematic masterpiece! The acting was superb and the visual effects were stunning.\",\n",
        "\"Such a heartwarming movie! The characters were well-developed and the message was powerful.\",\n",
        "\"Thoroughly enjoyed every moment of this film! It's a true gem.\",\n",
        "\"Fantastic movie! The plot twists kept me guessing until the very end.\",\n",
        "\"An instant classic! The storytelling was captivating and the acting was phenomenal.\",\n",
        "\"Bravo to the cast and crew! This movie exceeded all my expectations.\"\n",
        "]\n",
        "\n",
        "sequences = tokenizer.texts_to_sequences(sentences)\n",
        "padded_seqeunces = pad_sequences(sequences, maxlen=100, padding=padding_type, truncating=trunc_type)\n",
        "\n",
        "print(model.predict(padded_seqeunces))"
      ],
      "metadata": {
        "colab": {
          "base_uri": "https://localhost:8080/"
        },
        "id": "Di00P4jx37mP",
        "outputId": "53e778e7-def2-46d7-9123-faf92da1b6a2"
      },
      "execution_count": null,
      "outputs": [
        {
          "output_type": "stream",
          "name": "stdout",
          "text": [
            "1/1 [==============================] - 0s 23ms/step\n",
            "[[0.5043701]\n",
            " [0.7697407]\n",
            " [0.7985296]\n",
            " [0.6056542]\n",
            " [0.7555123]\n",
            " [0.7167081]\n",
            " [0.7837463]\n",
            " [0.609416 ]\n",
            " [0.7325336]\n",
            " [0.636064 ]]\n"
          ]
        }
      ]
    },
    {
      "cell_type": "code",
      "source": [
        "# 부정 여러개(negative)\n",
        "\n",
        "sentences = [\n",
        "\"Disappointing movie. The plot was confusing and the characters were underdeveloped.\",\n",
        "\"I found this film to be quite dull. The story lacked depth and the pacing was slow.\",\n",
        "\"Not worth the hype. The acting felt forced and the dialogue was cliché.\",\n",
        "\"Mediocre at best. I expected more from such a highly anticipated movie.\",\n",
        "\"I regret watching this movie. It was a complete waste of time.\",\n",
        "\"Disjointed storytelling. The film failed to engage me on any level.\",\n",
        "\"Uninspiring and forgettable. I wouldn't recommend this movie to anyone.\",\n",
        "\"Poorly executed. The visuals were unimpressive and the plot was predictable.\",\n",
        "\"A major letdown. I had high hopes for this movie but it fell short in every aspect.\",\n",
        "\"I was bored throughout the entire film. There was nothing memorable about it.\"\n",
        "]\n",
        "\n",
        "sequences = tokenizer.texts_to_sequences(sentences)\n",
        "padded_seqeunces = pad_sequences(sequences, maxlen=100, padding=padding_type, truncating=trunc_type)\n",
        "\n",
        "print(model.predict(padded_seqeunces))"
      ],
      "metadata": {
        "colab": {
          "base_uri": "https://localhost:8080/"
        },
        "id": "OMuxtFCW39vb",
        "outputId": "41a67ece-b96e-4dcb-dd0a-f0a56ff0045a"
      },
      "execution_count": null,
      "outputs": [
        {
          "output_type": "stream",
          "name": "stdout",
          "text": [
            "1/1 [==============================] - 0s 35ms/step\n",
            "[[0.4509093 ]\n",
            " [0.5202284 ]\n",
            " [0.43529654]\n",
            " [0.6442021 ]\n",
            " [0.5170898 ]\n",
            " [0.5272853 ]\n",
            " [0.42410964]\n",
            " [0.4027628 ]\n",
            " [0.517841  ]\n",
            " [0.56229395]]\n"
          ]
        }
      ]
    },
    {
      "cell_type": "markdown",
      "source": [
        "정확도가 75 정도이지만 예측이 꽤나 괜찮다.\n",
        "\n",
        "에폭을 늘려서 훈련한다면 매우 좋은 결과를 얻을 것으로 예상된다."
      ],
      "metadata": {
        "id": "H3NFT8KL4TAT"
      }
    },
    {
      "cell_type": "code",
      "source": [
        "model = tf.keras.Sequential([\n",
        "    tf.keras.layers.Embedding(vocab_size, embedding_dim,\n",
        "                              weights=[embedding_matrix], trainable=False),\n",
        "    tf.keras.layers.Bidirectional(tf.keras.layers.LSTM(embedding_dim,\n",
        "                                                       return_sequences=True)),\n",
        "    tf.keras.layers.Bidirectional(tf.keras.layers.LSTM(embedding_dim)),\n",
        "    tf.keras.layers.Dense(24, activation='relu'),\n",
        "    tf.keras.layers.Dense(1, activation='sigmoid')\n",
        "])\n",
        "adam = tf.keras.optimizers.Adam(learning_rate=1e-5,\n",
        "                                beta_1=0.9, beta_2=0.999, amsgrad=False)\n",
        "model.compile(loss='binary_crossentropy',optimizer=adam, metrics=['accuracy'])\n",
        "early_stopping = tf.keras.callbacks.EarlyStopping(patience=3)\n",
        "\n",
        "history = model.fit(train_padded, train_label, epochs=40,\n",
        "                    validation_data=[test_padded, test_label],\n",
        "                    callbacks=[early_stopping])"
      ],
      "metadata": {
        "id": "MOSSLf1X4Are",
        "colab": {
          "base_uri": "https://localhost:8080/"
        },
        "outputId": "64300be8-35d2-41c8-8cdd-b553aba6f671"
      },
      "execution_count": null,
      "outputs": [
        {
          "output_type": "stream",
          "name": "stdout",
          "text": [
            "Epoch 1/40\n",
            "1250/1250 [==============================] - 163s 124ms/step - loss: 0.6905 - accuracy: 0.5432 - val_loss: 0.6859 - val_accuracy: 0.5941\n",
            "Epoch 2/40\n",
            "1250/1250 [==============================] - 151s 121ms/step - loss: 0.6792 - accuracy: 0.6050 - val_loss: 0.6675 - val_accuracy: 0.6271\n",
            "Epoch 3/40\n",
            "1250/1250 [==============================] - 152s 121ms/step - loss: 0.6296 - accuracy: 0.6714 - val_loss: 0.5810 - val_accuracy: 0.7176\n",
            "Epoch 4/40\n",
            "1250/1250 [==============================] - 155s 124ms/step - loss: 0.5738 - accuracy: 0.7218 - val_loss: 0.5626 - val_accuracy: 0.7309\n",
            "Epoch 5/40\n",
            "1250/1250 [==============================] - 154s 123ms/step - loss: 0.5616 - accuracy: 0.7311 - val_loss: 0.5532 - val_accuracy: 0.7384\n",
            "Epoch 6/40\n",
            "1250/1250 [==============================] - 152s 122ms/step - loss: 0.5546 - accuracy: 0.7345 - val_loss: 0.5476 - val_accuracy: 0.7431\n",
            "Epoch 7/40\n",
            "1250/1250 [==============================] - 152s 121ms/step - loss: 0.5486 - accuracy: 0.7384 - val_loss: 0.5440 - val_accuracy: 0.7425\n",
            "Epoch 8/40\n",
            "1250/1250 [==============================] - 152s 121ms/step - loss: 0.5448 - accuracy: 0.7415 - val_loss: 0.5380 - val_accuracy: 0.7472\n",
            "Epoch 9/40\n",
            "1250/1250 [==============================] - 152s 121ms/step - loss: 0.5402 - accuracy: 0.7439 - val_loss: 0.5345 - val_accuracy: 0.7486\n",
            "Epoch 10/40\n",
            "1250/1250 [==============================] - 154s 123ms/step - loss: 0.5374 - accuracy: 0.7465 - val_loss: 0.5315 - val_accuracy: 0.7499\n",
            "Epoch 11/40\n",
            "1250/1250 [==============================] - 154s 123ms/step - loss: 0.5338 - accuracy: 0.7471 - val_loss: 0.5435 - val_accuracy: 0.7447\n",
            "Epoch 12/40\n",
            "1250/1250 [==============================] - 154s 123ms/step - loss: 0.5312 - accuracy: 0.7492 - val_loss: 0.5250 - val_accuracy: 0.7543\n",
            "Epoch 13/40\n",
            "1250/1250 [==============================] - 155s 124ms/step - loss: 0.5279 - accuracy: 0.7503 - val_loss: 0.5219 - val_accuracy: 0.7549\n",
            "Epoch 14/40\n",
            "1250/1250 [==============================] - 152s 122ms/step - loss: 0.5248 - accuracy: 0.7540 - val_loss: 0.5201 - val_accuracy: 0.7535\n",
            "Epoch 15/40\n",
            "1250/1250 [==============================] - 151s 121ms/step - loss: 0.5220 - accuracy: 0.7552 - val_loss: 0.5158 - val_accuracy: 0.7579\n",
            "Epoch 16/40\n",
            "1250/1250 [==============================] - 164s 131ms/step - loss: 0.5195 - accuracy: 0.7556 - val_loss: 0.5135 - val_accuracy: 0.7574\n",
            "Epoch 17/40\n",
            "1250/1250 [==============================] - 147s 118ms/step - loss: 0.5159 - accuracy: 0.7576 - val_loss: 0.5108 - val_accuracy: 0.7597\n",
            "Epoch 18/40\n",
            "1250/1250 [==============================] - 153s 122ms/step - loss: 0.5142 - accuracy: 0.7588 - val_loss: 0.5090 - val_accuracy: 0.7614\n",
            "Epoch 19/40\n",
            "1250/1250 [==============================] - 152s 122ms/step - loss: 0.5116 - accuracy: 0.7600 - val_loss: 0.5070 - val_accuracy: 0.7627\n",
            "Epoch 20/40\n",
            "1250/1250 [==============================] - 152s 121ms/step - loss: 0.5091 - accuracy: 0.7606 - val_loss: 0.5030 - val_accuracy: 0.7641\n",
            "Epoch 21/40\n",
            "1250/1250 [==============================] - 153s 123ms/step - loss: 0.5067 - accuracy: 0.7629 - val_loss: 0.5010 - val_accuracy: 0.7668\n",
            "Epoch 22/40\n",
            "1250/1250 [==============================] - 153s 122ms/step - loss: 0.5048 - accuracy: 0.7631 - val_loss: 0.4981 - val_accuracy: 0.7668\n",
            "Epoch 23/40\n",
            "1250/1250 [==============================] - 152s 121ms/step - loss: 0.5023 - accuracy: 0.7644 - val_loss: 0.4966 - val_accuracy: 0.7672\n",
            "Epoch 24/40\n",
            "1250/1250 [==============================] - 145s 116ms/step - loss: 0.5004 - accuracy: 0.7657 - val_loss: 0.4938 - val_accuracy: 0.7690\n",
            "Epoch 25/40\n",
            "1250/1250 [==============================] - 150s 120ms/step - loss: 0.4983 - accuracy: 0.7665 - val_loss: 0.4932 - val_accuracy: 0.7694\n",
            "Epoch 26/40\n",
            "1250/1250 [==============================] - 151s 121ms/step - loss: 0.4964 - accuracy: 0.7672 - val_loss: 0.4903 - val_accuracy: 0.7711\n",
            "Epoch 27/40\n",
            "1250/1250 [==============================] - 145s 116ms/step - loss: 0.4945 - accuracy: 0.7691 - val_loss: 0.4883 - val_accuracy: 0.7733\n",
            "Epoch 28/40\n",
            "1250/1250 [==============================] - 150s 120ms/step - loss: 0.4929 - accuracy: 0.7701 - val_loss: 0.4902 - val_accuracy: 0.7720\n",
            "Epoch 29/40\n",
            "1250/1250 [==============================] - 149s 119ms/step - loss: 0.4910 - accuracy: 0.7703 - val_loss: 0.4889 - val_accuracy: 0.7737\n",
            "Epoch 30/40\n",
            "1250/1250 [==============================] - 154s 124ms/step - loss: 0.4894 - accuracy: 0.7720 - val_loss: 0.4833 - val_accuracy: 0.7753\n",
            "Epoch 31/40\n",
            "1250/1250 [==============================] - 159s 127ms/step - loss: 0.4877 - accuracy: 0.7732 - val_loss: 0.4814 - val_accuracy: 0.7761\n",
            "Epoch 32/40\n",
            "1250/1250 [==============================] - 156s 124ms/step - loss: 0.4860 - accuracy: 0.7749 - val_loss: 0.4796 - val_accuracy: 0.7768\n",
            "Epoch 33/40\n",
            "1250/1250 [==============================] - 154s 123ms/step - loss: 0.4841 - accuracy: 0.7757 - val_loss: 0.4778 - val_accuracy: 0.7771\n",
            "Epoch 34/40\n",
            "1250/1250 [==============================] - 153s 123ms/step - loss: 0.4833 - accuracy: 0.7767 - val_loss: 0.4771 - val_accuracy: 0.7775\n",
            "Epoch 35/40\n",
            "1250/1250 [==============================] - 154s 123ms/step - loss: 0.4815 - accuracy: 0.7771 - val_loss: 0.4761 - val_accuracy: 0.7777\n",
            "Epoch 36/40\n",
            "1250/1250 [==============================] - 152s 121ms/step - loss: 0.4799 - accuracy: 0.7787 - val_loss: 0.4759 - val_accuracy: 0.7781\n",
            "Epoch 37/40\n",
            "1250/1250 [==============================] - 155s 124ms/step - loss: 0.4781 - accuracy: 0.7805 - val_loss: 0.4716 - val_accuracy: 0.7824\n",
            "Epoch 38/40\n",
            "1250/1250 [==============================] - 156s 125ms/step - loss: 0.4764 - accuracy: 0.7800 - val_loss: 0.4699 - val_accuracy: 0.7817\n",
            "Epoch 39/40\n",
            "1250/1250 [==============================] - 157s 125ms/step - loss: 0.4752 - accuracy: 0.7807 - val_loss: 0.4685 - val_accuracy: 0.7843\n",
            "Epoch 40/40\n",
            "1250/1250 [==============================] - 156s 124ms/step - loss: 0.4741 - accuracy: 0.7810 - val_loss: 0.4668 - val_accuracy: 0.7853\n"
          ]
        }
      ]
    },
    {
      "cell_type": "code",
      "source": [
        "plt.plot(history.history['loss'])\n",
        "plt.plot(history.history['val_loss'])"
      ],
      "metadata": {
        "id": "vFGnNNjh5-_7",
        "colab": {
          "base_uri": "https://localhost:8080/",
          "height": 451
        },
        "outputId": "44fff670-d03d-4f4b-ca8e-9f294f3ec291"
      },
      "execution_count": null,
      "outputs": [
        {
          "output_type": "execute_result",
          "data": {
            "text/plain": [
              "[<matplotlib.lines.Line2D at 0x78a30c123af0>]"
            ]
          },
          "metadata": {},
          "execution_count": 23
        },
        {
          "output_type": "display_data",
          "data": {
            "text/plain": [
              "<Figure size 640x480 with 1 Axes>"
            ],
            "image/png": "[encoded data removed]"
          },
          "metadata": {}
        }
      ]
    },
    {
      "cell_type": "code",
      "source": [
        "plt.plot(history.history['accuracy'])\n",
        "plt.plot(history.history['val_accuracy'])"
      ],
      "metadata": {
        "colab": {
          "base_uri": "https://localhost:8080/",
          "height": 448
        },
        "id": "OmeS6uGy63nA",
        "outputId": "d66f3f79-23a0-4a43-dcf3-9e67590ef93e"
      },
      "execution_count": null,
      "outputs": [
        {
          "output_type": "execute_result",
          "data": {
            "text/plain": [
              "[<matplotlib.lines.Line2D at 0x78a30dfd85e0>]"
            ]
          },
          "metadata": {},
          "execution_count": 24
        },
        {
          "output_type": "display_data",
          "data": {
            "text/plain": [
              "<Figure size 640x480 with 1 Axes>"
            ],
            "image/png": "[encoded data removed]"
          },
          "metadata": {}
        }
      ]
    },
    {
      "cell_type": "code",
      "source": [
        "# 긍정 여러개(positive)\n",
        "sentences= [\n",
        "\"Absolutely brilliant movie! The storyline kept me hooked from start to finish.\",\n",
        "\"A must-watch film! The performances were outstanding and the cinematography was breathtaking.\",\n",
        "\"I was blown away by this movie! The direction was flawless and the soundtrack was mesmerizing.\",\n",
        "\"Incredible film! I couldn't take my eyes off the screen the entire time.\",\n",
        "\"A cinematic masterpiece! The acting was superb and the visual effects were stunning.\",\n",
        "\"Such a heartwarming movie! The characters were well-developed and the message was powerful.\",\n",
        "\"Thoroughly enjoyed every moment of this film! It's a true gem.\",\n",
        "\"Fantastic movie! The plot twists kept me guessing until the very end.\",\n",
        "\"An instant classic! The storytelling was captivating and the acting was phenomenal.\",\n",
        "\"Bravo to the cast and crew! This movie exceeded all my expectations.\"\n",
        "]\n",
        "\n",
        "sequences = tokenizer.texts_to_sequences(sentences)\n",
        "padded_seqeunces = pad_sequences(sequences, maxlen=100, padding=padding_type, truncating=trunc_type)\n",
        "\n",
        "print(model.predict(padded_seqeunces))"
      ],
      "metadata": {
        "colab": {
          "base_uri": "https://localhost:8080/"
        },
        "id": "Vs9Gs2IE65zn",
        "outputId": "3db49253-d2af-4c3b-e723-02b75daaf2a6"
      },
      "execution_count": null,
      "outputs": [
        {
          "output_type": "stream",
          "name": "stdout",
          "text": [
            "1/1 [==============================] - 1s 1s/step\n",
            "[[0.35300142]\n",
            " [0.88615584]\n",
            " [0.8493675 ]\n",
            " [0.531355  ]\n",
            " [0.8307194 ]\n",
            " [0.8044649 ]\n",
            " [0.76924056]\n",
            " [0.5093253 ]\n",
            " [0.86176604]\n",
            " [0.65114796]]\n"
          ]
        }
      ]
    },
    {
      "cell_type": "code",
      "source": [
        "# 부정 여러개(negative)\n",
        "\n",
        "sentences = [\n",
        "\"Disappointing movie. The plot was confusing and the characters were underdeveloped.\",\n",
        "\"I found this film to be quite dull. The story lacked depth and the pacing was slow.\",\n",
        "\"Not worth the hype. The acting felt forced and the dialogue was cliché.\",\n",
        "\"Mediocre at best. I expected more from such a highly anticipated movie.\",\n",
        "\"I regret watching this movie. It was a complete waste of time.\",\n",
        "\"Disjointed storytelling. The film failed to engage me on any level.\",\n",
        "\"Uninspiring and forgettable. I wouldn't recommend this movie to anyone.\",\n",
        "\"Poorly executed. The visuals were unimpressive and the plot was predictable.\",\n",
        "\"A major letdown. I had high hopes for this movie but it fell short in every aspect.\",\n",
        "\"I was bored throughout the entire film. There was nothing memorable about it.\"\n",
        "]\n",
        "\n",
        "sequences = tokenizer.texts_to_sequences(sentences)\n",
        "padded_seqeunces = pad_sequences(sequences, maxlen=100, padding=padding_type, truncating=trunc_type)\n",
        "\n",
        "print(model.predict(padded_seqeunces))"
      ],
      "metadata": {
        "colab": {
          "base_uri": "https://localhost:8080/"
        },
        "id": "8QyYjRtO67DD",
        "outputId": "6c5bdd02-5ac9-4b27-fd59-a40a39532356"
      },
      "execution_count": null,
      "outputs": [
        {
          "output_type": "stream",
          "name": "stdout",
          "text": [
            "1/1 [==============================] - 0s 23ms/step\n",
            "[[0.3351937 ]\n",
            " [0.53252673]\n",
            " [0.465757  ]\n",
            " [0.84256786]\n",
            " [0.44284335]\n",
            " [0.31210715]\n",
            " [0.40195078]\n",
            " [0.3580664 ]\n",
            " [0.49713156]\n",
            " [0.5565717 ]]\n"
          ]
        }
      ]
    },
    {
      "cell_type": "markdown",
      "source": [
        "예측이 나쁘지는 않다. 앞의 단어도 고려하다 보니 혼동이 오는 문장이 몇 개 있는 것 같다."
      ],
      "metadata": {
        "id": "aQc8KRw5T-L-"
      }
    },
    {
      "cell_type": "markdown",
      "source": [
        "각 단어로만 평가할 때가 더욱 예측을 잘한다는 것을 볼 수 있다.\n",
        "\n",
        "이는 리뷰를 평가할 때는 RNN을 사용하여 문맥을 파악하면 더욱 혼란을 줄 수 있는 것 같다."
      ],
      "metadata": {
        "id": "nYieK7TtS_sC"
      }
    }
  ]
}