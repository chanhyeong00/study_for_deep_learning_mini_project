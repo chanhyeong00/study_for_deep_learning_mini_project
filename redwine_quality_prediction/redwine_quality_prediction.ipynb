{
  "nbformat": 4,
  "nbformat_minor": 0,
  "metadata": {
    "colab": {
      "provenance": [],
      "authorship_tag": "ABX9TyP97UJmHqolx6u6e/Utg7IH",
      "include_colab_link": true
    },
    "kernelspec": {
      "name": "python3",
      "display_name": "Python 3"
    },
    "language_info": {
      "name": "python"
    }
  },
  "cells": [
    {
      "cell_type": "markdown",
      "metadata": {
        "id": "view-in-github",
        "colab_type": "text"
      },
      "source": [
        "<a href=\"https://colab.research.google.com/github/chanhyeong00/study_for_deep_learning_mini_project/blob/main/redwine_quality_prediction/redwine_quality_prediction.ipynb\" target=\"_parent\"><img src=\"https://colab.research.google.com/assets/colab-badge.svg\" alt=\"Open In Colab\"/></a>"
      ]
    },
    {
      "cell_type": "markdown",
      "source": [
        "https://www.kaggle.com/datasets/uciml/red-wine-quality-cortez-et-al-2009"
      ],
      "metadata": {
        "id": "qcJbAREj2DH8"
      }
    },
    {
      "cell_type": "code",
      "source": [
        "import pandas as pd\n",
        "import numpy as np\n",
        "import seaborn as sns\n",
        "import tensorflow as tf\n",
        "from sklearn.model_selection import train_test_split"
      ],
      "metadata": {
        "id": "1jbmtsLf2IJB"
      },
      "execution_count": 1,
      "outputs": []
    },
    {
      "cell_type": "code",
      "execution_count": 2,
      "metadata": {
        "id": "dSDiM-4E15tT"
      },
      "outputs": [],
      "source": [
        "wine_data = pd.read_csv('winequality-red.csv')"
      ]
    },
    {
      "cell_type": "code",
      "source": [
        "wine_data.head()"
      ],
      "metadata": {
        "colab": {
          "base_uri": "https://localhost:8080/",
          "height": 241
        },
        "id": "hQsj11xT6RyB",
        "outputId": "95adca07-0670-4d44-8e17-d732b250425e"
      },
      "execution_count": 3,
      "outputs": [
        {
          "output_type": "execute_result",
          "data": {
            "text/plain": [
              "   fixed acidity  volatile acidity  citric acid  residual sugar  chlorides  \\\n",
              "0            7.4              0.70         0.00             1.9      0.076   \n",
              "1            7.8              0.88         0.00             2.6      0.098   \n",
              "2            7.8              0.76         0.04             2.3      0.092   \n",
              "3           11.2              0.28         0.56             1.9      0.075   \n",
              "4            7.4              0.70         0.00             1.9      0.076   \n",
              "\n",
              "   free sulfur dioxide  total sulfur dioxide  density    pH  sulphates  \\\n",
              "0                 11.0                  34.0   0.9978  3.51       0.56   \n",
              "1                 25.0                  67.0   0.9968  3.20       0.68   \n",
              "2                 15.0                  54.0   0.9970  3.26       0.65   \n",
              "3                 17.0                  60.0   0.9980  3.16       0.58   \n",
              "4                 11.0                  34.0   0.9978  3.51       0.56   \n",
              "\n",
              "   alcohol  quality  \n",
              "0      9.4        5  \n",
              "1      9.8        5  \n",
              "2      9.8        5  \n",
              "3      9.8        6  \n",
              "4      9.4        5  "
            ],
            "text/html": [
              "\n",
              "  <div id=\"df-e01d1ffa-472a-4a9c-8de1-3a71507cc2cf\" class=\"colab-df-container\">\n",
              "    <div>\n",
              "<style scoped>\n",
              "    .dataframe tbody tr th:only-of-type {\n",
              "        vertical-align: middle;\n",
              "    }\n",
              "\n",
              "    .dataframe tbody tr th {\n",
              "        vertical-align: top;\n",
              "    }\n",
              "\n",
              "    .dataframe thead th {\n",
              "        text-align: right;\n",
              "    }\n",
              "</style>\n",
              "<table border=\"1\" class=\"dataframe\">\n",
              "  <thead>\n",
              "    <tr style=\"text-align: right;\">\n",
              "      <th></th>\n",
              "      <th>fixed acidity</th>\n",
              "      <th>volatile acidity</th>\n",
              "      <th>citric acid</th>\n",
              "      <th>residual sugar</th>\n",
              "      <th>chlorides</th>\n",
              "      <th>free sulfur dioxide</th>\n",
              "      <th>total sulfur dioxide</th>\n",
              "      <th>density</th>\n",
              "      <th>pH</th>\n",
              "      <th>sulphates</th>\n",
              "      <th>alcohol</th>\n",
              "      <th>quality</th>\n",
              "    </tr>\n",
              "  </thead>\n",
              "  <tbody>\n",
              "    <tr>\n",
              "      <th>0</th>\n",
              "      <td>7.4</td>\n",
              "      <td>0.70</td>\n",
              "      <td>0.00</td>\n",
              "      <td>1.9</td>\n",
              "      <td>0.076</td>\n",
              "      <td>11.0</td>\n",
              "      <td>34.0</td>\n",
              "      <td>0.9978</td>\n",
              "      <td>3.51</td>\n",
              "      <td>0.56</td>\n",
              "      <td>9.4</td>\n",
              "      <td>5</td>\n",
              "    </tr>\n",
              "    <tr>\n",
              "      <th>1</th>\n",
              "      <td>7.8</td>\n",
              "      <td>0.88</td>\n",
              "      <td>0.00</td>\n",
              "      <td>2.6</td>\n",
              "      <td>0.098</td>\n",
              "      <td>25.0</td>\n",
              "      <td>67.0</td>\n",
              "      <td>0.9968</td>\n",
              "      <td>3.20</td>\n",
              "      <td>0.68</td>\n",
              "      <td>9.8</td>\n",
              "      <td>5</td>\n",
              "    </tr>\n",
              "    <tr>\n",
              "      <th>2</th>\n",
              "      <td>7.8</td>\n",
              "      <td>0.76</td>\n",
              "      <td>0.04</td>\n",
              "      <td>2.3</td>\n",
              "      <td>0.092</td>\n",
              "      <td>15.0</td>\n",
              "      <td>54.0</td>\n",
              "      <td>0.9970</td>\n",
              "      <td>3.26</td>\n",
              "      <td>0.65</td>\n",
              "      <td>9.8</td>\n",
              "      <td>5</td>\n",
              "    </tr>\n",
              "    <tr>\n",
              "      <th>3</th>\n",
              "      <td>11.2</td>\n",
              "      <td>0.28</td>\n",
              "      <td>0.56</td>\n",
              "      <td>1.9</td>\n",
              "      <td>0.075</td>\n",
              "      <td>17.0</td>\n",
              "      <td>60.0</td>\n",
              "      <td>0.9980</td>\n",
              "      <td>3.16</td>\n",
              "      <td>0.58</td>\n",
              "      <td>9.8</td>\n",
              "      <td>6</td>\n",
              "    </tr>\n",
              "    <tr>\n",
              "      <th>4</th>\n",
              "      <td>7.4</td>\n",
              "      <td>0.70</td>\n",
              "      <td>0.00</td>\n",
              "      <td>1.9</td>\n",
              "      <td>0.076</td>\n",
              "      <td>11.0</td>\n",
              "      <td>34.0</td>\n",
              "      <td>0.9978</td>\n",
              "      <td>3.51</td>\n",
              "      <td>0.56</td>\n",
              "      <td>9.4</td>\n",
              "      <td>5</td>\n",
              "    </tr>\n",
              "  </tbody>\n",
              "</table>\n",
              "</div>\n",
              "    <div class=\"colab-df-buttons\">\n",
              "\n",
              "  <div class=\"colab-df-container\">\n",
              "    <button class=\"colab-df-convert\" onclick=\"convertToInteractive('df-e01d1ffa-472a-4a9c-8de1-3a71507cc2cf')\"\n",
              "            title=\"Convert this dataframe to an interactive table.\"\n",
              "            style=\"display:none;\">\n",
              "\n",
              "  <svg xmlns=\"http://www.w3.org/2000/svg\" height=\"24px\" viewBox=\"0 -960 960 960\">\n",
              "    <path d=\"M120-120v-720h720v720H120Zm60-500h600v-160H180v160Zm220 220h160v-160H400v160Zm0 220h160v-160H400v160ZM180-400h160v-160H180v160Zm440 0h160v-160H620v160ZM180-180h160v-160H180v160Zm440 0h160v-160H620v160Z\"/>\n",
              "  </svg>\n",
              "    </button>\n",
              "\n",
              "  <style>\n",
              "    .colab-df-container {\n",
              "      display:flex;\n",
              "      gap: 12px;\n",
              "    }\n",
              "\n",
              "    .colab-df-convert {\n",
              "      background-color: #E8F0FE;\n",
              "      border: none;\n",
              "      border-radius: 50%;\n",
              "      cursor: pointer;\n",
              "      display: none;\n",
              "      fill: #1967D2;\n",
              "      height: 32px;\n",
              "      padding: 0 0 0 0;\n",
              "      width: 32px;\n",
              "    }\n",
              "\n",
              "    .colab-df-convert:hover {\n",
              "      background-color: #E2EBFA;\n",
              "      box-shadow: 0px 1px 2px rgba(60, 64, 67, 0.3), 0px 1px 3px 1px rgba(60, 64, 67, 0.15);\n",
              "      fill: #174EA6;\n",
              "    }\n",
              "\n",
              "    .colab-df-buttons div {\n",
              "      margin-bottom: 4px;\n",
              "    }\n",
              "\n",
              "    [theme=dark] .colab-df-convert {\n",
              "      background-color: #3B4455;\n",
              "      fill: #D2E3FC;\n",
              "    }\n",
              "\n",
              "    [theme=dark] .colab-df-convert:hover {\n",
              "      background-color: #434B5C;\n",
              "      box-shadow: 0px 1px 3px 1px rgba(0, 0, 0, 0.15);\n",
              "      filter: drop-shadow(0px 1px 2px rgba(0, 0, 0, 0.3));\n",
              "      fill: #FFFFFF;\n",
              "    }\n",
              "  </style>\n",
              "\n",
              "    <script>\n",
              "      const buttonEl =\n",
              "        document.querySelector('#df-e01d1ffa-472a-4a9c-8de1-3a71507cc2cf button.colab-df-convert');\n",
              "      buttonEl.style.display =\n",
              "        google.colab.kernel.accessAllowed ? 'block' : 'none';\n",
              "\n",
              "      async function convertToInteractive(key) {\n",
              "        const element = document.querySelector('#df-e01d1ffa-472a-4a9c-8de1-3a71507cc2cf');\n",
              "        const dataTable =\n",
              "          await google.colab.kernel.invokeFunction('convertToInteractive',\n",
              "                                                    [key], {});\n",
              "        if (!dataTable) return;\n",
              "\n",
              "        const docLinkHtml = 'Like what you see? Visit the ' +\n",
              "          '<a target=\"_blank\" href=https://colab.research.google.com/notebooks/data_table.ipynb>data table notebook</a>'\n",
              "          + ' to learn more about interactive tables.';\n",
              "        element.innerHTML = '';\n",
              "        dataTable['output_type'] = 'display_data';\n",
              "        await google.colab.output.renderOutput(dataTable, element);\n",
              "        const docLink = document.createElement('div');\n",
              "        docLink.innerHTML = docLinkHtml;\n",
              "        element.appendChild(docLink);\n",
              "      }\n",
              "    </script>\n",
              "  </div>\n",
              "\n",
              "\n",
              "<div id=\"df-7bec2145-f34b-4272-905a-0a2ae37ee75a\">\n",
              "  <button class=\"colab-df-quickchart\" onclick=\"quickchart('df-7bec2145-f34b-4272-905a-0a2ae37ee75a')\"\n",
              "            title=\"Suggest charts\"\n",
              "            style=\"display:none;\">\n",
              "\n",
              "<svg xmlns=\"http://www.w3.org/2000/svg\" height=\"24px\"viewBox=\"0 0 24 24\"\n",
              "     width=\"24px\">\n",
              "    <g>\n",
              "        <path d=\"M19 3H5c-1.1 0-2 .9-2 2v14c0 1.1.9 2 2 2h14c1.1 0 2-.9 2-2V5c0-1.1-.9-2-2-2zM9 17H7v-7h2v7zm4 0h-2V7h2v10zm4 0h-2v-4h2v4z\"/>\n",
              "    </g>\n",
              "</svg>\n",
              "  </button>\n",
              "\n",
              "<style>\n",
              "  .colab-df-quickchart {\n",
              "      --bg-color: #E8F0FE;\n",
              "      --fill-color: #1967D2;\n",
              "      --hover-bg-color: #E2EBFA;\n",
              "      --hover-fill-color: #174EA6;\n",
              "      --disabled-fill-color: #AAA;\n",
              "      --disabled-bg-color: #DDD;\n",
              "  }\n",
              "\n",
              "  [theme=dark] .colab-df-quickchart {\n",
              "      --bg-color: #3B4455;\n",
              "      --fill-color: #D2E3FC;\n",
              "      --hover-bg-color: #434B5C;\n",
              "      --hover-fill-color: #FFFFFF;\n",
              "      --disabled-bg-color: #3B4455;\n",
              "      --disabled-fill-color: #666;\n",
              "  }\n",
              "\n",
              "  .colab-df-quickchart {\n",
              "    background-color: var(--bg-color);\n",
              "    border: none;\n",
              "    border-radius: 50%;\n",
              "    cursor: pointer;\n",
              "    display: none;\n",
              "    fill: var(--fill-color);\n",
              "    height: 32px;\n",
              "    padding: 0;\n",
              "    width: 32px;\n",
              "  }\n",
              "\n",
              "  .colab-df-quickchart:hover {\n",
              "    background-color: var(--hover-bg-color);\n",
              "    box-shadow: 0 1px 2px rgba(60, 64, 67, 0.3), 0 1px 3px 1px rgba(60, 64, 67, 0.15);\n",
              "    fill: var(--button-hover-fill-color);\n",
              "  }\n",
              "\n",
              "  .colab-df-quickchart-complete:disabled,\n",
              "  .colab-df-quickchart-complete:disabled:hover {\n",
              "    background-color: var(--disabled-bg-color);\n",
              "    fill: var(--disabled-fill-color);\n",
              "    box-shadow: none;\n",
              "  }\n",
              "\n",
              "  .colab-df-spinner {\n",
              "    border: 2px solid var(--fill-color);\n",
              "    border-color: transparent;\n",
              "    border-bottom-color: var(--fill-color);\n",
              "    animation:\n",
              "      spin 1s steps(1) infinite;\n",
              "  }\n",
              "\n",
              "  @keyframes spin {\n",
              "    0% {\n",
              "      border-color: transparent;\n",
              "      border-bottom-color: var(--fill-color);\n",
              "      border-left-color: var(--fill-color);\n",
              "    }\n",
              "    20% {\n",
              "      border-color: transparent;\n",
              "      border-left-color: var(--fill-color);\n",
              "      border-top-color: var(--fill-color);\n",
              "    }\n",
              "    30% {\n",
              "      border-color: transparent;\n",
              "      border-left-color: var(--fill-color);\n",
              "      border-top-color: var(--fill-color);\n",
              "      border-right-color: var(--fill-color);\n",
              "    }\n",
              "    40% {\n",
              "      border-color: transparent;\n",
              "      border-right-color: var(--fill-color);\n",
              "      border-top-color: var(--fill-color);\n",
              "    }\n",
              "    60% {\n",
              "      border-color: transparent;\n",
              "      border-right-color: var(--fill-color);\n",
              "    }\n",
              "    80% {\n",
              "      border-color: transparent;\n",
              "      border-right-color: var(--fill-color);\n",
              "      border-bottom-color: var(--fill-color);\n",
              "    }\n",
              "    90% {\n",
              "      border-color: transparent;\n",
              "      border-bottom-color: var(--fill-color);\n",
              "    }\n",
              "  }\n",
              "</style>\n",
              "\n",
              "  <script>\n",
              "    async function quickchart(key) {\n",
              "      const quickchartButtonEl =\n",
              "        document.querySelector('#' + key + ' button');\n",
              "      quickchartButtonEl.disabled = true;  // To prevent multiple clicks.\n",
              "      quickchartButtonEl.classList.add('colab-df-spinner');\n",
              "      try {\n",
              "        const charts = await google.colab.kernel.invokeFunction(\n",
              "            'suggestCharts', [key], {});\n",
              "      } catch (error) {\n",
              "        console.error('Error during call to suggestCharts:', error);\n",
              "      }\n",
              "      quickchartButtonEl.classList.remove('colab-df-spinner');\n",
              "      quickchartButtonEl.classList.add('colab-df-quickchart-complete');\n",
              "    }\n",
              "    (() => {\n",
              "      let quickchartButtonEl =\n",
              "        document.querySelector('#df-7bec2145-f34b-4272-905a-0a2ae37ee75a button');\n",
              "      quickchartButtonEl.style.display =\n",
              "        google.colab.kernel.accessAllowed ? 'block' : 'none';\n",
              "    })();\n",
              "  </script>\n",
              "</div>\n",
              "\n",
              "    </div>\n",
              "  </div>\n"
            ],
            "application/vnd.google.colaboratory.intrinsic+json": {
              "type": "dataframe",
              "variable_name": "wine_data",
              "summary": "{\n  \"name\": \"wine_data\",\n  \"rows\": 1599,\n  \"fields\": [\n    {\n      \"column\": \"fixed acidity\",\n      \"properties\": {\n        \"dtype\": \"number\",\n        \"std\": 1.7410963181276953,\n        \"min\": 4.6,\n        \"max\": 15.9,\n        \"num_unique_values\": 96,\n        \"samples\": [\n          5.3,\n          12.7,\n          12.6\n        ],\n        \"semantic_type\": \"\",\n        \"description\": \"\"\n      }\n    },\n    {\n      \"column\": \"volatile acidity\",\n      \"properties\": {\n        \"dtype\": \"number\",\n        \"std\": 0.17905970415353537,\n        \"min\": 0.12,\n        \"max\": 1.58,\n        \"num_unique_values\": 143,\n        \"samples\": [\n          1.025,\n          0.4,\n          0.87\n        ],\n        \"semantic_type\": \"\",\n        \"description\": \"\"\n      }\n    },\n    {\n      \"column\": \"citric acid\",\n      \"properties\": {\n        \"dtype\": \"number\",\n        \"std\": 0.19480113740531857,\n        \"min\": 0.0,\n        \"max\": 1.0,\n        \"num_unique_values\": 80,\n        \"samples\": [\n          0.37,\n          0.0,\n          0.09\n        ],\n        \"semantic_type\": \"\",\n        \"description\": \"\"\n      }\n    },\n    {\n      \"column\": \"residual sugar\",\n      \"properties\": {\n        \"dtype\": \"number\",\n        \"std\": 1.4099280595072798,\n        \"min\": 0.9,\n        \"max\": 15.5,\n        \"num_unique_values\": 91,\n        \"samples\": [\n          11.0,\n          3.0,\n          15.5\n        ],\n        \"semantic_type\": \"\",\n        \"description\": \"\"\n      }\n    },\n    {\n      \"column\": \"chlorides\",\n      \"properties\": {\n        \"dtype\": \"number\",\n        \"std\": 0.0470653020100901,\n        \"min\": 0.012,\n        \"max\": 0.611,\n        \"num_unique_values\": 153,\n        \"samples\": [\n          0.096,\n          0.3429999999999999,\n          0.159\n        ],\n        \"semantic_type\": \"\",\n        \"description\": \"\"\n      }\n    },\n    {\n      \"column\": \"free sulfur dioxide\",\n      \"properties\": {\n        \"dtype\": \"number\",\n        \"std\": 10.460156969809725,\n        \"min\": 1.0,\n        \"max\": 72.0,\n        \"num_unique_values\": 60,\n        \"samples\": [\n          11.0,\n          9.0,\n          32.0\n        ],\n        \"semantic_type\": \"\",\n        \"description\": \"\"\n      }\n    },\n    {\n      \"column\": \"total sulfur dioxide\",\n      \"properties\": {\n        \"dtype\": \"number\",\n        \"std\": 32.895324478299074,\n        \"min\": 6.0,\n        \"max\": 289.0,\n        \"num_unique_values\": 144,\n        \"samples\": [\n          68.0,\n          35.0,\n          101.0\n        ],\n        \"semantic_type\": \"\",\n        \"description\": \"\"\n      }\n    },\n    {\n      \"column\": \"density\",\n      \"properties\": {\n        \"dtype\": \"number\",\n        \"std\": 0.0018873339538425554,\n        \"min\": 0.99007,\n        \"max\": 1.00369,\n        \"num_unique_values\": 436,\n        \"samples\": [\n          0.99974,\n          1.0001,\n          0.99471\n        ],\n        \"semantic_type\": \"\",\n        \"description\": \"\"\n      }\n    },\n    {\n      \"column\": \"pH\",\n      \"properties\": {\n        \"dtype\": \"number\",\n        \"std\": 0.15438646490354277,\n        \"min\": 2.74,\n        \"max\": 4.01,\n        \"num_unique_values\": 89,\n        \"samples\": [\n          3.07,\n          3.0,\n          3.15\n        ],\n        \"semantic_type\": \"\",\n        \"description\": \"\"\n      }\n    },\n    {\n      \"column\": \"sulphates\",\n      \"properties\": {\n        \"dtype\": \"number\",\n        \"std\": 0.16950697959010996,\n        \"min\": 0.33,\n        \"max\": 2.0,\n        \"num_unique_values\": 96,\n        \"samples\": [\n          1.07,\n          1.04,\n          1.18\n        ],\n        \"semantic_type\": \"\",\n        \"description\": \"\"\n      }\n    },\n    {\n      \"column\": \"alcohol\",\n      \"properties\": {\n        \"dtype\": \"number\",\n        \"std\": 1.0656675818473946,\n        \"min\": 8.4,\n        \"max\": 14.9,\n        \"num_unique_values\": 65,\n        \"samples\": [\n          8.5,\n          9.95,\n          9.4\n        ],\n        \"semantic_type\": \"\",\n        \"description\": \"\"\n      }\n    },\n    {\n      \"column\": \"quality\",\n      \"properties\": {\n        \"dtype\": \"number\",\n        \"std\": 0,\n        \"min\": 3,\n        \"max\": 8,\n        \"num_unique_values\": 6,\n        \"samples\": [\n          5,\n          6,\n          3\n        ],\n        \"semantic_type\": \"\",\n        \"description\": \"\"\n      }\n    }\n  ]\n}"
            }
          },
          "metadata": {},
          "execution_count": 3
        }
      ]
    },
    {
      "cell_type": "code",
      "source": [
        "wine_data.info()"
      ],
      "metadata": {
        "colab": {
          "base_uri": "https://localhost:8080/"
        },
        "id": "appHxtJe6ofp",
        "outputId": "970bada9-3d90-4681-fcd8-717bd4c36c1b"
      },
      "execution_count": 4,
      "outputs": [
        {
          "output_type": "stream",
          "name": "stdout",
          "text": [
            "<class 'pandas.core.frame.DataFrame'>\n",
            "RangeIndex: 1599 entries, 0 to 1598\n",
            "Data columns (total 12 columns):\n",
            " #   Column                Non-Null Count  Dtype  \n",
            "---  ------                --------------  -----  \n",
            " 0   fixed acidity         1599 non-null   float64\n",
            " 1   volatile acidity      1599 non-null   float64\n",
            " 2   citric acid           1599 non-null   float64\n",
            " 3   residual sugar        1599 non-null   float64\n",
            " 4   chlorides             1599 non-null   float64\n",
            " 5   free sulfur dioxide   1599 non-null   float64\n",
            " 6   total sulfur dioxide  1599 non-null   float64\n",
            " 7   density               1599 non-null   float64\n",
            " 8   pH                    1599 non-null   float64\n",
            " 9   sulphates             1599 non-null   float64\n",
            " 10  alcohol               1599 non-null   float64\n",
            " 11  quality               1599 non-null   int64  \n",
            "dtypes: float64(11), int64(1)\n",
            "memory usage: 150.0 KB\n"
          ]
        }
      ]
    },
    {
      "cell_type": "markdown",
      "source": [
        "빠진 데이터는 없다.\n",
        "feature는 총 11개이다"
      ],
      "metadata": {
        "id": "myLFEBFC6yA_"
      }
    },
    {
      "cell_type": "code",
      "source": [
        "wine_data['quality'].unique()"
      ],
      "metadata": {
        "colab": {
          "base_uri": "https://localhost:8080/"
        },
        "id": "erEOkX-766wO",
        "outputId": "a760dc4b-4d47-4e0a-fcf2-2c3b48636223"
      },
      "execution_count": 5,
      "outputs": [
        {
          "output_type": "execute_result",
          "data": {
            "text/plain": [
              "array([5, 6, 7, 4, 8, 3])"
            ]
          },
          "metadata": {},
          "execution_count": 5
        }
      ]
    },
    {
      "cell_type": "markdown",
      "source": [
        "퀄리티는 3,4,5,6,7,8 로 6개이다. 이제 데이터를 분리하겠다."
      ],
      "metadata": {
        "id": "REJ_pqDX7HeM"
      }
    },
    {
      "cell_type": "code",
      "source": [
        "X, y = wine_data.iloc[:, :-1], wine_data.iloc[:, -1]"
      ],
      "metadata": {
        "id": "-f3jGdwr7KYH"
      },
      "execution_count": 6,
      "outputs": []
    },
    {
      "cell_type": "code",
      "source": [
        "X[:2], y[:2]"
      ],
      "metadata": {
        "colab": {
          "base_uri": "https://localhost:8080/"
        },
        "id": "ni-H0-d87X94",
        "outputId": "b054fda2-3771-46b7-a31d-4a9042bc6c56"
      },
      "execution_count": 7,
      "outputs": [
        {
          "output_type": "execute_result",
          "data": {
            "text/plain": [
              "(   fixed acidity  volatile acidity  citric acid  residual sugar  chlorides  \\\n",
              " 0            7.4              0.70          0.0             1.9      0.076   \n",
              " 1            7.8              0.88          0.0             2.6      0.098   \n",
              " \n",
              "    free sulfur dioxide  total sulfur dioxide  density    pH  sulphates  \\\n",
              " 0                 11.0                  34.0   0.9978  3.51       0.56   \n",
              " 1                 25.0                  67.0   0.9968  3.20       0.68   \n",
              " \n",
              "    alcohol  \n",
              " 0      9.4  \n",
              " 1      9.8  ,\n",
              " 0    5\n",
              " 1    5\n",
              " Name: quality, dtype: int64)"
            ]
          },
          "metadata": {},
          "execution_count": 7
        }
      ]
    },
    {
      "cell_type": "markdown",
      "source": [
        "***"
      ],
      "metadata": {
        "id": "HDtTkhtqCheX"
      }
    },
    {
      "cell_type": "markdown",
      "source": [
        "### 데이터 전처리"
      ],
      "metadata": {
        "id": "dd1qzSlX6siW"
      }
    },
    {
      "cell_type": "markdown",
      "source": [
        "**훈련세트, 테스트세트 분리**"
      ],
      "metadata": {
        "id": "KzwxoPh67duE"
      }
    },
    {
      "cell_type": "code",
      "source": [
        "X_train, X_test, y_train, y_test = train_test_split(X, y, test_size=0.2)"
      ],
      "metadata": {
        "id": "Ay6-QFkE7lAt"
      },
      "execution_count": 8,
      "outputs": []
    },
    {
      "cell_type": "code",
      "source": [
        "print(X_train.shape, X_test.shape)\n",
        "print(y_train.shape, y_test.shape)"
      ],
      "metadata": {
        "colab": {
          "base_uri": "https://localhost:8080/"
        },
        "id": "GVDYnEsT7xQg",
        "outputId": "97af856a-330c-4d1c-ce23-8eccb7f098a1"
      },
      "execution_count": 9,
      "outputs": [
        {
          "output_type": "stream",
          "name": "stdout",
          "text": [
            "(1279, 11) (320, 11)\n",
            "(1279,) (320,)\n"
          ]
        }
      ]
    },
    {
      "cell_type": "markdown",
      "source": [
        "**데이터 스케일 맞추기**"
      ],
      "metadata": {
        "id": "eozP64lr2E5W"
      }
    },
    {
      "cell_type": "code",
      "source": [
        "from sklearn.preprocessing import StandardScaler\n",
        "sc = StandardScaler()\n",
        "sc.fit(X_train)\n",
        "train_sc = sc.transform(X_train)\n",
        "test_sc = sc.transform(X_test)"
      ],
      "metadata": {
        "id": "cTlz71mnmf1N"
      },
      "execution_count": 10,
      "outputs": []
    },
    {
      "cell_type": "code",
      "source": [
        "from sklearn.preprocessing import Normalizer\n",
        "nl = Normalizer()\n",
        "nl.fit(X_train)\n",
        "train_nl = nl.transform(X_train)\n",
        "test_nl = nl.transform(X_test)"
      ],
      "metadata": {
        "id": "ZXIJGhKP86uZ"
      },
      "execution_count": 11,
      "outputs": []
    },
    {
      "cell_type": "code",
      "source": [
        "sns.boxplot(train_nl)"
      ],
      "metadata": {
        "colab": {
          "base_uri": "https://localhost:8080/",
          "height": 448
        },
        "id": "BuHJXmXo_Ntq",
        "outputId": "27db451a-cde7-44cc-a28d-6ce1596cff94"
      },
      "execution_count": 12,
      "outputs": [
        {
          "output_type": "execute_result",
          "data": {
            "text/plain": [
              "<Axes: >"
            ]
          },
          "metadata": {},
          "execution_count": 12
        },
        {
          "output_type": "display_data",
          "data": {
            "text/plain": [
              "<Figure size 640x480 with 1 Axes>"
            ],
            "image/png": "[encoded data removed]"
          },
          "metadata": {}
        }
      ]
    },
    {
      "cell_type": "markdown",
      "source": [
        "#### **IQR(InterQualtile Range)로 이상치 제거한 데이터**"
      ],
      "metadata": {
        "id": "OJIWS4QQj0gq"
      }
    },
    {
      "cell_type": "markdown",
      "source": [
        "**이상치 없앤 데이터**"
      ],
      "metadata": {
        "id": "9d4mEcbcWeX0"
      }
    },
    {
      "cell_type": "markdown",
      "source": [
        "3번째 열과 6번째 열이 제일 많이 튀는 거 같으므로 2개 열만 이상치 제거하겠다."
      ],
      "metadata": {
        "id": "F4nMmFrQioZ_"
      }
    },
    {
      "cell_type": "code",
      "source": [
        "wine_data = pd.read_csv('winequality-red.csv')"
      ],
      "metadata": {
        "id": "7I9TYMJmZdED"
      },
      "execution_count": 13,
      "outputs": []
    },
    {
      "cell_type": "code",
      "source": [
        "def get_outlier(df=None, column=None, weight=1.5):\n",
        "  # target 값과 상관관계가 높은 열을 우선적으로 진행\n",
        "  quantile_25 = np.percentile(df[column].values, 25)\n",
        "  quantile_75 = np.percentile(df[column].values, 75)\n",
        "\n",
        "  IQR = quantile_75 - quantile_25\n",
        "  IQR_weight = IQR*weight\n",
        "\n",
        "  lowest = quantile_25 - IQR_weight\n",
        "  highest = quantile_75 + IQR_weight\n",
        "\n",
        "  outlier_idx = df[column][ (df[column] < lowest) | (df[column] > highest) ].index\n",
        "  return outlier_idx\n",
        "\n",
        "# 함수 사용해서 이상치 값 삭제\n",
        "lst = set()\n",
        "column_lst = list(wine_data.columns)\n",
        "\n",
        "outlier_idx1 = get_outlier(df=wine_data, column='residual sugar', weight=1.5)\n",
        "outlier_idx2 = get_outlier(df=wine_data, column='total sulfur dioxide', weight=1.5)\n",
        "for o1 in outlier_idx1:\n",
        "  lst.add(o1)\n",
        "for o2 in outlier_idx2:\n",
        "  lst.add(o2)\n",
        "lst = list(lst)\n",
        "print(len(lst))"
      ],
      "metadata": {
        "colab": {
          "base_uri": "https://localhost:8080/"
        },
        "id": "HdxVXh0S_Q0m",
        "outputId": "f2b6df19-160a-4726-dbd0-98cb8d5997fc"
      },
      "execution_count": 14,
      "outputs": [
        {
          "output_type": "stream",
          "name": "stdout",
          "text": [
            "195\n"
          ]
        }
      ]
    },
    {
      "cell_type": "code",
      "source": [
        "wine_data.drop(lst, axis=0, inplace=True)"
      ],
      "metadata": {
        "id": "kQr-6lRKbJIP"
      },
      "execution_count": 15,
      "outputs": []
    },
    {
      "cell_type": "code",
      "source": [
        "wine_data.info()"
      ],
      "metadata": {
        "colab": {
          "base_uri": "https://localhost:8080/"
        },
        "id": "gXBMs6uPX8vZ",
        "outputId": "13a9ee16-c970-4509-8f40-b3d398f372a0"
      },
      "execution_count": 16,
      "outputs": [
        {
          "output_type": "stream",
          "name": "stdout",
          "text": [
            "<class 'pandas.core.frame.DataFrame'>\n",
            "Int64Index: 1404 entries, 0 to 1598\n",
            "Data columns (total 12 columns):\n",
            " #   Column                Non-Null Count  Dtype  \n",
            "---  ------                --------------  -----  \n",
            " 0   fixed acidity         1404 non-null   float64\n",
            " 1   volatile acidity      1404 non-null   float64\n",
            " 2   citric acid           1404 non-null   float64\n",
            " 3   residual sugar        1404 non-null   float64\n",
            " 4   chlorides             1404 non-null   float64\n",
            " 5   free sulfur dioxide   1404 non-null   float64\n",
            " 6   total sulfur dioxide  1404 non-null   float64\n",
            " 7   density               1404 non-null   float64\n",
            " 8   pH                    1404 non-null   float64\n",
            " 9   sulphates             1404 non-null   float64\n",
            " 10  alcohol               1404 non-null   float64\n",
            " 11  quality               1404 non-null   int64  \n",
            "dtypes: float64(11), int64(1)\n",
            "memory usage: 142.6 KB\n"
          ]
        }
      ]
    },
    {
      "cell_type": "code",
      "source": [
        "X, y = wine_data.iloc[:, :-1], wine_data.iloc[:, -1]"
      ],
      "metadata": {
        "id": "V7-f-2S9bfEZ"
      },
      "execution_count": 17,
      "outputs": []
    },
    {
      "cell_type": "code",
      "source": [
        "X_train2, X_test2, y_train2, y_test2 = train_test_split(X, y, test_size=0.2)"
      ],
      "metadata": {
        "id": "12KypzEabaDW"
      },
      "execution_count": 18,
      "outputs": []
    },
    {
      "cell_type": "code",
      "source": [
        "from sklearn.preprocessing import Normalizer\n",
        "nl = Normalizer()\n",
        "nl.fit(X_train2)\n",
        "train_nl2 = nl.transform(X_train2)\n",
        "test_nl2 = nl.transform(X_test2)"
      ],
      "metadata": {
        "id": "DFQJ7VkuZGKc"
      },
      "execution_count": 19,
      "outputs": []
    },
    {
      "cell_type": "code",
      "source": [
        "sns.boxplot(train_nl2)"
      ],
      "metadata": {
        "colab": {
          "base_uri": "https://localhost:8080/",
          "height": 448
        },
        "id": "HPfaaFZCZI-b",
        "outputId": "15c9ccc9-830d-40f1-de53-c7b47879affb"
      },
      "execution_count": 20,
      "outputs": [
        {
          "output_type": "execute_result",
          "data": {
            "text/plain": [
              "<Axes: >"
            ]
          },
          "metadata": {},
          "execution_count": 20
        },
        {
          "output_type": "display_data",
          "data": {
            "text/plain": [
              "<Figure size 640x480 with 1 Axes>"
            ],
            "image/png": "[encoded data removed]"
          },
          "metadata": {}
        }
      ]
    },
    {
      "cell_type": "code",
      "source": [
        "sns.boxplot(X_train['total sulfur dioxide'])"
      ],
      "metadata": {
        "colab": {
          "base_uri": "https://localhost:8080/",
          "height": 429
        },
        "id": "DBYsEqP4jCqs",
        "outputId": "20dc6b5b-3945-4d84-cd71-d90c7a5c25a2"
      },
      "execution_count": 21,
      "outputs": [
        {
          "output_type": "execute_result",
          "data": {
            "text/plain": [
              "<Axes: ylabel='total sulfur dioxide'>"
            ]
          },
          "metadata": {},
          "execution_count": 21
        },
        {
          "output_type": "display_data",
          "data": {
            "text/plain": [
              "<Figure size 640x480 with 1 Axes>"
            ],
            "image/png": "[encoded data removed]"
          },
          "metadata": {}
        }
      ]
    },
    {
      "cell_type": "code",
      "source": [
        "sns.boxplot(X_train2['total sulfur dioxide'])"
      ],
      "metadata": {
        "colab": {
          "base_uri": "https://localhost:8080/",
          "height": 429
        },
        "id": "SytXuITjjFi1",
        "outputId": "e0943ece-ab11-44c7-ef51-d3a48b058692"
      },
      "execution_count": 22,
      "outputs": [
        {
          "output_type": "execute_result",
          "data": {
            "text/plain": [
              "<Axes: ylabel='total sulfur dioxide'>"
            ]
          },
          "metadata": {},
          "execution_count": 22
        },
        {
          "output_type": "display_data",
          "data": {
            "text/plain": [
              "<Figure size 640x480 with 1 Axes>"
            ],
            "image/png": "[encoded data removed]"
          },
          "metadata": {}
        }
      ]
    },
    {
      "cell_type": "code",
      "source": [
        "sns.boxplot(X_train['residual sugar'])"
      ],
      "metadata": {
        "colab": {
          "base_uri": "https://localhost:8080/",
          "height": 432
        },
        "id": "WWf10jCzja-B",
        "outputId": "306f4101-c037-46c4-cdbb-3ac146935e87"
      },
      "execution_count": 23,
      "outputs": [
        {
          "output_type": "execute_result",
          "data": {
            "text/plain": [
              "<Axes: ylabel='residual sugar'>"
            ]
          },
          "metadata": {},
          "execution_count": 23
        },
        {
          "output_type": "display_data",
          "data": {
            "text/plain": [
              "<Figure size 640x480 with 1 Axes>"
            ],
            "image/png": "[encoded data removed]"
          },
          "metadata": {}
        }
      ]
    },
    {
      "cell_type": "code",
      "source": [
        "sns.boxplot(X_train2['residual sugar'])"
      ],
      "metadata": {
        "colab": {
          "base_uri": "https://localhost:8080/",
          "height": 429
        },
        "id": "Z340B4ZrjbAJ",
        "outputId": "c1e86ba6-8c48-47e7-c5af-215e7b5b0252"
      },
      "execution_count": 24,
      "outputs": [
        {
          "output_type": "execute_result",
          "data": {
            "text/plain": [
              "<Axes: ylabel='residual sugar'>"
            ]
          },
          "metadata": {},
          "execution_count": 24
        },
        {
          "output_type": "display_data",
          "data": {
            "text/plain": [
              "<Figure size 640x480 with 1 Axes>"
            ],
            "image/png": "[encoded data removed]"
          },
          "metadata": {}
        }
      ]
    },
    {
      "cell_type": "markdown",
      "source": [
        "확실히 이상치가 많이 제거된 것을 볼 수 있다.\n",
        "\n",
        "***"
      ],
      "metadata": {
        "id": "A7hjTT_yjiJh"
      }
    },
    {
      "cell_type": "markdown",
      "source": [
        "### 모델 구성"
      ],
      "metadata": {
        "id": "tP3mz5-Aib_L"
      }
    },
    {
      "cell_type": "markdown",
      "source": [
        "array([5, 6, 7, 4, 8, 3])"
      ],
      "metadata": {
        "id": "8cJ_yBubksHc"
      }
    },
    {
      "cell_type": "markdown",
      "source": [
        "#### **다중 분류를 위한 로지스틱 회귀**"
      ],
      "metadata": {
        "id": "ky_m7I-rkyNG"
      }
    },
    {
      "cell_type": "code",
      "source": [
        "# 이상치 제거 x\n",
        "from sklearn.linear_model import LogisticRegression\n",
        "lr = LogisticRegression()\n",
        "lr.fit(train_nl, y_train)\n",
        "print(lr.score(train_nl, y_train))\n",
        "print(lr.score(test_nl, y_test))"
      ],
      "metadata": {
        "colab": {
          "base_uri": "https://localhost:8080/"
        },
        "id": "VxIBlZK3ZkEa",
        "outputId": "065ca578-6b89-4468-b812-f771555cd375"
      },
      "execution_count": 25,
      "outputs": [
        {
          "output_type": "stream",
          "name": "stdout",
          "text": [
            "0.5168100078186083\n",
            "0.446875\n"
          ]
        }
      ]
    },
    {
      "cell_type": "code",
      "source": [
        "# 이상치 제거 데이터\n",
        "from sklearn.linear_model import LogisticRegression\n",
        "lr = LogisticRegression()\n",
        "lr.fit(train_nl2, y_train2)\n",
        "print(lr.score(train_nl2, y_train2))\n",
        "print(lr.score(test_nl2, y_test2))"
      ],
      "metadata": {
        "colab": {
          "base_uri": "https://localhost:8080/"
        },
        "id": "kUTO3uJ6lwVe",
        "outputId": "e8a911f9-01a4-400a-b59f-d7006b42a31e"
      },
      "execution_count": 26,
      "outputs": [
        {
          "output_type": "stream",
          "name": "stdout",
          "text": [
            "0.5057880676758683\n",
            "0.47330960854092524\n"
          ]
        }
      ]
    },
    {
      "cell_type": "markdown",
      "source": [
        "#### **결정트리**"
      ],
      "metadata": {
        "id": "bLln1c_Gr7Ok"
      }
    },
    {
      "cell_type": "code",
      "source": [
        "from sklearn.tree import DecisionTreeClassifier\n",
        "# 이상치 제거 x\n",
        "dt = DecisionTreeClassifier()\n",
        "dt.fit(train_nl, y_train)\n",
        "print(dt.score(train_nl, y_train))\n",
        "print(dt.score(test_nl, y_test))"
      ],
      "metadata": {
        "colab": {
          "base_uri": "https://localhost:8080/"
        },
        "id": "CSEf3OOGr9aV",
        "outputId": "56851a56-16c5-4b32-a8b4-16bf871ac912"
      },
      "execution_count": 27,
      "outputs": [
        {
          "output_type": "stream",
          "name": "stdout",
          "text": [
            "1.0\n",
            "0.565625\n"
          ]
        }
      ]
    },
    {
      "cell_type": "code",
      "source": [
        "from sklearn.tree import DecisionTreeClassifier\n",
        "# 이상치 제거\n",
        "dt = DecisionTreeClassifier()\n",
        "dt.fit(train_nl2, y_train2)\n",
        "print(dt.score(train_nl2, y_train2))\n",
        "print(dt.score(test_nl2, y_test2))"
      ],
      "metadata": {
        "colab": {
          "base_uri": "https://localhost:8080/"
        },
        "id": "Qs1OJF_4sN8X",
        "outputId": "ee81026b-e83a-4d92-870b-9905f297d20a"
      },
      "execution_count": 28,
      "outputs": [
        {
          "output_type": "stream",
          "name": "stdout",
          "text": [
            "1.0\n",
            "0.5551601423487544\n"
          ]
        }
      ]
    },
    {
      "cell_type": "code",
      "source": [
        "import matplotlib.pyplot as plt\n",
        "from sklearn.tree import plot_tree\n",
        "plt.figure(figsize=(10, 7))\n",
        "plot_tree(dt, max_depth=1, filled=True)\n",
        "plt.show()"
      ],
      "metadata": {
        "colab": {
          "base_uri": "https://localhost:8080/",
          "height": 576
        },
        "id": "QKuKOgdXt0M5",
        "outputId": "db8f75f7-2687-4e69-cf99-39d550a3ca8b"
      },
      "execution_count": 29,
      "outputs": [
        {
          "output_type": "display_data",
          "data": {
            "text/plain": [
              "<Figure size 1000x700 with 1 Axes>"
            ],
            "image/png": "[encoded data removed]"
          },
          "metadata": {}
        }
      ]
    },
    {
      "cell_type": "markdown",
      "source": [
        "훈련 세트는 전부 예측하지만 테스트 세트 점수는 매우 낮은 과대적합이다.\n",
        "\n",
        "그리고 이상치를 찾아 삭제한 데이터가 좀 더 좋은 성능을 보이는 거 같다.\n",
        "\n",
        "가지치기를 통해 과대적합을 풀어보자\n"
      ],
      "metadata": {
        "id": "ppdsSJs2sMk1"
      }
    },
    {
      "cell_type": "code",
      "source": [
        "dt = DecisionTreeClassifier(max_depth=10)\n",
        "dt.fit(train_nl2, y_train2)\n",
        "print(dt.score(train_nl2, y_train2))\n",
        "print(dt.score(test_nl2, y_test2))"
      ],
      "metadata": {
        "colab": {
          "base_uri": "https://localhost:8080/"
        },
        "id": "RoynvDDBuaZW",
        "outputId": "93811b1f-5a03-4c34-867d-5f2a243f71c3"
      },
      "execution_count": 30,
      "outputs": [
        {
          "output_type": "stream",
          "name": "stdout",
          "text": [
            "0.9162956366874443\n",
            "0.5516014234875445\n"
          ]
        }
      ]
    },
    {
      "cell_type": "markdown",
      "source": [
        "과대적합이 좀 괜찮아지긴 했지만 아직 개선헤야할 게 많다."
      ],
      "metadata": {
        "id": "9ik5lM5_vtRq"
      }
    },
    {
      "cell_type": "markdown",
      "source": [
        "**랜덤포레스트**"
      ],
      "metadata": {
        "id": "7fFjp9K5zdEo"
      }
    },
    {
      "cell_type": "code",
      "source": [
        "from sklearn.ensemble import RandomForestClassifier\n",
        "from sklearn.model_selection import cross_validate\n",
        "# 이상치 제거\n",
        "rf = RandomForestClassifier(oob_score=True, n_jobs=-1, max_depth=7)\n",
        "rf.fit(train_nl2, y_train2)\n",
        "print(rf.oob_score_)\n",
        "\n",
        "scores = cross_validate(rf, train_nl2, y_train2, return_train_score=True, n_jobs=-1)\n",
        "print(scores)\n",
        "\n",
        "print(rf.score(train_nl2, y_train2),rf.score(test_nl2, y_test2))"
      ],
      "metadata": {
        "colab": {
          "base_uri": "https://localhost:8080/"
        },
        "id": "8Qv6J2eJw9Ot",
        "outputId": "1e5be80e-068d-4f0e-cb90-f37ea0cff3f1"
      },
      "execution_count": 31,
      "outputs": [
        {
          "output_type": "stream",
          "name": "stdout",
          "text": [
            "0.6046304541406946\n",
            "{'fit_time': array([1.04500914, 1.38991952, 1.9021399 , 1.78530717, 1.24429107]), 'score_time': array([0.10101414, 0.13550043, 0.07662392, 0.11987901, 0.03751397]), 'test_score': array([0.60888889, 0.56444444, 0.64444444, 0.62053571, 0.625     ]), 'train_score': array([0.81069042, 0.83853007, 0.83964365, 0.83314794, 0.85539488])}\n",
            "0.8183437221727515 0.5800711743772242\n"
          ]
        }
      ]
    },
    {
      "cell_type": "markdown",
      "source": [
        "과대적합이 좀 괜찮아지긴 했지만 아직 개선해야할 게 많다.(이 이상은 어떻게 해결해야할지 모르겠다..)\n",
        "\n",
        "그렇다면 신경망을 사용해 조금 더 복잡한 모델을 만들어 훈련을 해보겠다."
      ],
      "metadata": {
        "id": "5Z2F00_dnSE-"
      }
    },
    {
      "cell_type": "markdown",
      "source": [
        "***"
      ],
      "metadata": {
        "id": "7hr3JtWC3m3B"
      }
    },
    {
      "cell_type": "markdown",
      "source": [
        "### 딥러닝으로 다중분류 진행"
      ],
      "metadata": {
        "id": "vYHb5-x6n8-j"
      }
    },
    {
      "cell_type": "code",
      "source": [
        "model = tf.keras.models.Sequential()\n",
        "model.add(tf.keras.layers.Dense(64, input_shape=(None, 11), activation='relu'))\n",
        "model.add(tf.keras.layers.Dense(64, activation='relu'))\n",
        "model.add(tf.keras.layers.Dense(6, activation='softmax'))\n",
        "\n",
        "model.compile(optimizer='adam', loss='sparse_categorical_crossentropy',\n",
        "              metrics=['accuracy'])"
      ],
      "metadata": {
        "id": "KoM6HosLzXL5"
      },
      "execution_count": 32,
      "outputs": []
    },
    {
      "cell_type": "code",
      "source": [
        "model.summary()"
      ],
      "metadata": {
        "colab": {
          "base_uri": "https://localhost:8080/"
        },
        "id": "3AMQrA-O1Zdt",
        "outputId": "f54ae870-7294-4794-e373-cb10a4f047b7"
      },
      "execution_count": 33,
      "outputs": [
        {
          "output_type": "stream",
          "name": "stdout",
          "text": [
            "Model: \"sequential\"\n",
            "_________________________________________________________________\n",
            " Layer (type)                Output Shape              Param #   \n",
            "=================================================================\n",
            " dense (Dense)               (None, None, 64)          768       \n",
            "                                                                 \n",
            " dense_1 (Dense)             (None, None, 64)          4160      \n",
            "                                                                 \n",
            " dense_2 (Dense)             (None, None, 6)           390       \n",
            "                                                                 \n",
            "=================================================================\n",
            "Total params: 5318 (20.77 KB)\n",
            "Trainable params: 5318 (20.77 KB)\n",
            "Non-trainable params: 0 (0.00 Byte)\n",
            "_________________________________________________________________\n"
          ]
        }
      ]
    },
    {
      "cell_type": "code",
      "source": [
        "from sklearn.preprocessing import LabelEncoder\n",
        "\n",
        "e = LabelEncoder()\n",
        "e.fit(y_train2)\n",
        "y_train2 = e.transform(y_train2).astype(np.float32)\n",
        "\n",
        "y_test2 = e.transform(y_test2).astype(np.float32)\n",
        "print(y_train2[:100])"
      ],
      "metadata": {
        "colab": {
          "base_uri": "https://localhost:8080/"
        },
        "id": "VeJjJ6tK61z4",
        "outputId": "ec980e2d-1c29-4499-8187-076d722efe1c"
      },
      "execution_count": 34,
      "outputs": [
        {
          "output_type": "stream",
          "name": "stdout",
          "text": [
            "[4. 3. 2. 2. 4. 3. 2. 4. 2. 3. 2. 2. 2. 3. 1. 3. 3. 3. 4. 3. 2. 3. 2. 3.\n",
            " 3. 2. 2. 3. 3. 2. 2. 3. 3. 4. 3. 3. 2. 3. 2. 2. 3. 3. 2. 2. 2. 2. 2. 2.\n",
            " 2. 4. 4. 3. 2. 3. 3. 2. 3. 3. 3. 4. 3. 3. 2. 3. 2. 2. 3. 3. 3. 1. 3. 2.\n",
            " 3. 4. 3. 2. 3. 3. 4. 2. 2. 2. 2. 2. 3. 3. 3. 4. 3. 1. 3. 3. 2. 2. 2. 2.\n",
            " 2. 2. 2. 2.]\n"
          ]
        }
      ]
    },
    {
      "cell_type": "code",
      "source": [
        "history = model.fit(train_nl2, y_train2, epochs=100, validation_data=(test_nl2, y_test2))"
      ],
      "metadata": {
        "colab": {
          "base_uri": "https://localhost:8080/"
        },
        "id": "Ve5YSt7T00Gk",
        "outputId": "19a41b4c-bb4c-4436-fb3e-a12937212ae9"
      },
      "execution_count": 35,
      "outputs": [
        {
          "output_type": "stream",
          "name": "stdout",
          "text": [
            "Epoch 1/100\n",
            "36/36 [==============================] - 2s 20ms/step - loss: 1.5832 - accuracy: 0.3108 - val_loss: 1.3705 - val_accuracy: 0.4413\n",
            "Epoch 2/100\n",
            "36/36 [==============================] - 0s 8ms/step - loss: 1.2586 - accuracy: 0.4595 - val_loss: 1.2377 - val_accuracy: 0.4306\n",
            "Epoch 3/100\n",
            "36/36 [==============================] - 0s 7ms/step - loss: 1.1800 - accuracy: 0.4435 - val_loss: 1.2032 - val_accuracy: 0.4306\n",
            "Epoch 4/100\n",
            "36/36 [==============================] - 0s 9ms/step - loss: 1.1531 - accuracy: 0.4871 - val_loss: 1.1936 - val_accuracy: 0.4662\n",
            "Epoch 5/100\n",
            "36/36 [==============================] - 0s 9ms/step - loss: 1.1389 - accuracy: 0.4773 - val_loss: 1.1911 - val_accuracy: 0.4555\n",
            "Epoch 6/100\n",
            "36/36 [==============================] - 0s 8ms/step - loss: 1.1294 - accuracy: 0.4844 - val_loss: 1.1924 - val_accuracy: 0.4555\n",
            "Epoch 7/100\n",
            "36/36 [==============================] - 0s 9ms/step - loss: 1.1252 - accuracy: 0.4782 - val_loss: 1.1829 - val_accuracy: 0.4804\n",
            "Epoch 8/100\n",
            "36/36 [==============================] - 0s 10ms/step - loss: 1.1173 - accuracy: 0.5076 - val_loss: 1.1799 - val_accuracy: 0.4733\n",
            "Epoch 9/100\n",
            "36/36 [==============================] - 0s 8ms/step - loss: 1.1136 - accuracy: 0.5031 - val_loss: 1.1868 - val_accuracy: 0.4698\n",
            "Epoch 10/100\n",
            "36/36 [==============================] - 0s 11ms/step - loss: 1.1166 - accuracy: 0.5022 - val_loss: 1.1788 - val_accuracy: 0.4662\n",
            "Epoch 11/100\n",
            "36/36 [==============================] - 0s 13ms/step - loss: 1.1082 - accuracy: 0.5085 - val_loss: 1.1821 - val_accuracy: 0.4840\n",
            "Epoch 12/100\n",
            "36/36 [==============================] - 0s 9ms/step - loss: 1.1107 - accuracy: 0.4987 - val_loss: 1.1762 - val_accuracy: 0.4804\n",
            "Epoch 13/100\n",
            "36/36 [==============================] - 0s 8ms/step - loss: 1.1074 - accuracy: 0.4996 - val_loss: 1.1770 - val_accuracy: 0.4804\n",
            "Epoch 14/100\n",
            "36/36 [==============================] - 0s 11ms/step - loss: 1.1051 - accuracy: 0.5120 - val_loss: 1.1791 - val_accuracy: 0.4875\n",
            "Epoch 15/100\n",
            "36/36 [==============================] - 0s 10ms/step - loss: 1.1037 - accuracy: 0.4978 - val_loss: 1.1793 - val_accuracy: 0.4911\n",
            "Epoch 16/100\n",
            "36/36 [==============================] - 0s 10ms/step - loss: 1.1047 - accuracy: 0.5022 - val_loss: 1.1777 - val_accuracy: 0.4911\n",
            "Epoch 17/100\n",
            "36/36 [==============================] - 1s 14ms/step - loss: 1.1037 - accuracy: 0.5111 - val_loss: 1.1750 - val_accuracy: 0.4911\n",
            "Epoch 18/100\n",
            "36/36 [==============================] - 0s 11ms/step - loss: 1.1002 - accuracy: 0.5013 - val_loss: 1.1782 - val_accuracy: 0.4875\n",
            "Epoch 19/100\n",
            "36/36 [==============================] - 0s 13ms/step - loss: 1.0992 - accuracy: 0.4924 - val_loss: 1.1748 - val_accuracy: 0.5018\n",
            "Epoch 20/100\n",
            "36/36 [==============================] - 0s 10ms/step - loss: 1.0995 - accuracy: 0.5031 - val_loss: 1.1731 - val_accuracy: 0.4982\n",
            "Epoch 21/100\n",
            "36/36 [==============================] - 1s 18ms/step - loss: 1.1003 - accuracy: 0.5040 - val_loss: 1.1713 - val_accuracy: 0.4911\n",
            "Epoch 22/100\n",
            "36/36 [==============================] - 1s 15ms/step - loss: 1.0961 - accuracy: 0.5040 - val_loss: 1.1711 - val_accuracy: 0.4520\n",
            "Epoch 23/100\n",
            "36/36 [==============================] - 1s 18ms/step - loss: 1.0950 - accuracy: 0.5040 - val_loss: 1.1741 - val_accuracy: 0.4840\n",
            "Epoch 24/100\n",
            "36/36 [==============================] - 0s 13ms/step - loss: 1.0951 - accuracy: 0.5147 - val_loss: 1.1727 - val_accuracy: 0.4947\n",
            "Epoch 25/100\n",
            "36/36 [==============================] - 1s 14ms/step - loss: 1.0941 - accuracy: 0.5040 - val_loss: 1.1698 - val_accuracy: 0.4982\n",
            "Epoch 26/100\n",
            "36/36 [==============================] - 1s 16ms/step - loss: 1.0927 - accuracy: 0.5138 - val_loss: 1.1676 - val_accuracy: 0.4947\n",
            "Epoch 27/100\n",
            "36/36 [==============================] - 0s 11ms/step - loss: 1.0917 - accuracy: 0.5102 - val_loss: 1.1730 - val_accuracy: 0.4769\n",
            "Epoch 28/100\n",
            "36/36 [==============================] - 0s 6ms/step - loss: 1.0919 - accuracy: 0.5191 - val_loss: 1.1640 - val_accuracy: 0.5053\n",
            "Epoch 29/100\n",
            "36/36 [==============================] - 0s 7ms/step - loss: 1.0898 - accuracy: 0.5076 - val_loss: 1.1715 - val_accuracy: 0.4840\n",
            "Epoch 30/100\n",
            "36/36 [==============================] - 0s 9ms/step - loss: 1.0865 - accuracy: 0.5147 - val_loss: 1.1637 - val_accuracy: 0.4626\n",
            "Epoch 31/100\n",
            "36/36 [==============================] - 1s 14ms/step - loss: 1.0871 - accuracy: 0.5200 - val_loss: 1.1640 - val_accuracy: 0.4982\n",
            "Epoch 32/100\n",
            "36/36 [==============================] - 0s 7ms/step - loss: 1.0876 - accuracy: 0.5076 - val_loss: 1.1715 - val_accuracy: 0.4911\n",
            "Epoch 33/100\n",
            "36/36 [==============================] - 0s 10ms/step - loss: 1.0830 - accuracy: 0.5227 - val_loss: 1.1598 - val_accuracy: 0.4733\n",
            "Epoch 34/100\n",
            "36/36 [==============================] - 0s 8ms/step - loss: 1.0843 - accuracy: 0.5102 - val_loss: 1.1606 - val_accuracy: 0.4804\n",
            "Epoch 35/100\n",
            "36/36 [==============================] - 0s 9ms/step - loss: 1.0814 - accuracy: 0.5174 - val_loss: 1.1570 - val_accuracy: 0.4947\n",
            "Epoch 36/100\n",
            "36/36 [==============================] - 0s 8ms/step - loss: 1.0795 - accuracy: 0.5111 - val_loss: 1.1568 - val_accuracy: 0.4804\n",
            "Epoch 37/100\n",
            "36/36 [==============================] - 0s 4ms/step - loss: 1.0815 - accuracy: 0.5183 - val_loss: 1.1596 - val_accuracy: 0.4947\n",
            "Epoch 38/100\n",
            "36/36 [==============================] - 0s 3ms/step - loss: 1.0789 - accuracy: 0.5245 - val_loss: 1.1567 - val_accuracy: 0.4840\n",
            "Epoch 39/100\n",
            "36/36 [==============================] - 0s 4ms/step - loss: 1.0825 - accuracy: 0.5129 - val_loss: 1.1549 - val_accuracy: 0.4911\n",
            "Epoch 40/100\n",
            "36/36 [==============================] - 0s 4ms/step - loss: 1.0752 - accuracy: 0.5209 - val_loss: 1.1493 - val_accuracy: 0.4982\n",
            "Epoch 41/100\n",
            "36/36 [==============================] - 0s 4ms/step - loss: 1.0745 - accuracy: 0.5236 - val_loss: 1.1468 - val_accuracy: 0.5053\n",
            "Epoch 42/100\n",
            "36/36 [==============================] - 0s 3ms/step - loss: 1.0733 - accuracy: 0.5245 - val_loss: 1.1479 - val_accuracy: 0.5018\n",
            "Epoch 43/100\n",
            "36/36 [==============================] - 0s 3ms/step - loss: 1.0689 - accuracy: 0.5174 - val_loss: 1.1469 - val_accuracy: 0.5053\n",
            "Epoch 44/100\n",
            "36/36 [==============================] - 0s 4ms/step - loss: 1.0669 - accuracy: 0.5209 - val_loss: 1.1445 - val_accuracy: 0.5053\n",
            "Epoch 45/100\n",
            "36/36 [==============================] - 0s 4ms/step - loss: 1.0670 - accuracy: 0.5263 - val_loss: 1.1418 - val_accuracy: 0.4947\n",
            "Epoch 46/100\n",
            "36/36 [==============================] - 0s 4ms/step - loss: 1.0722 - accuracy: 0.5183 - val_loss: 1.1411 - val_accuracy: 0.5053\n",
            "Epoch 47/100\n",
            "36/36 [==============================] - 0s 3ms/step - loss: 1.0640 - accuracy: 0.5227 - val_loss: 1.1400 - val_accuracy: 0.5018\n",
            "Epoch 48/100\n",
            "36/36 [==============================] - 0s 3ms/step - loss: 1.0625 - accuracy: 0.5165 - val_loss: 1.1472 - val_accuracy: 0.5018\n",
            "Epoch 49/100\n",
            "36/36 [==============================] - 0s 3ms/step - loss: 1.0658 - accuracy: 0.5183 - val_loss: 1.1704 - val_accuracy: 0.4947\n",
            "Epoch 50/100\n",
            "36/36 [==============================] - 0s 3ms/step - loss: 1.0675 - accuracy: 0.5289 - val_loss: 1.1318 - val_accuracy: 0.5267\n",
            "Epoch 51/100\n",
            "36/36 [==============================] - 0s 3ms/step - loss: 1.0594 - accuracy: 0.5263 - val_loss: 1.1331 - val_accuracy: 0.5338\n",
            "Epoch 52/100\n",
            "36/36 [==============================] - 0s 4ms/step - loss: 1.0574 - accuracy: 0.5272 - val_loss: 1.1279 - val_accuracy: 0.4982\n",
            "Epoch 53/100\n",
            "36/36 [==============================] - 0s 3ms/step - loss: 1.0562 - accuracy: 0.5414 - val_loss: 1.1287 - val_accuracy: 0.5374\n",
            "Epoch 54/100\n",
            "36/36 [==============================] - 0s 3ms/step - loss: 1.0562 - accuracy: 0.5200 - val_loss: 1.1382 - val_accuracy: 0.5267\n",
            "Epoch 55/100\n",
            "36/36 [==============================] - 0s 4ms/step - loss: 1.0534 - accuracy: 0.5343 - val_loss: 1.1256 - val_accuracy: 0.5409\n",
            "Epoch 56/100\n",
            "36/36 [==============================] - 0s 4ms/step - loss: 1.0477 - accuracy: 0.5272 - val_loss: 1.1224 - val_accuracy: 0.5125\n",
            "Epoch 57/100\n",
            "36/36 [==============================] - 0s 3ms/step - loss: 1.0474 - accuracy: 0.5272 - val_loss: 1.1213 - val_accuracy: 0.5302\n",
            "Epoch 58/100\n",
            "36/36 [==============================] - 0s 3ms/step - loss: 1.0472 - accuracy: 0.5343 - val_loss: 1.1213 - val_accuracy: 0.5302\n",
            "Epoch 59/100\n",
            "36/36 [==============================] - 0s 3ms/step - loss: 1.0414 - accuracy: 0.5343 - val_loss: 1.1141 - val_accuracy: 0.5374\n",
            "Epoch 60/100\n",
            "36/36 [==============================] - 0s 3ms/step - loss: 1.0406 - accuracy: 0.5298 - val_loss: 1.1133 - val_accuracy: 0.5302\n",
            "Epoch 61/100\n",
            "36/36 [==============================] - 0s 3ms/step - loss: 1.0363 - accuracy: 0.5334 - val_loss: 1.1217 - val_accuracy: 0.5125\n",
            "Epoch 62/100\n",
            "36/36 [==============================] - 0s 3ms/step - loss: 1.0502 - accuracy: 0.5450 - val_loss: 1.1166 - val_accuracy: 0.5160\n",
            "Epoch 63/100\n",
            "36/36 [==============================] - 0s 3ms/step - loss: 1.0357 - accuracy: 0.5325 - val_loss: 1.1071 - val_accuracy: 0.5338\n",
            "Epoch 64/100\n",
            "36/36 [==============================] - 0s 4ms/step - loss: 1.0324 - accuracy: 0.5485 - val_loss: 1.1027 - val_accuracy: 0.5409\n",
            "Epoch 65/100\n",
            "36/36 [==============================] - 0s 3ms/step - loss: 1.0333 - accuracy: 0.5325 - val_loss: 1.1074 - val_accuracy: 0.5089\n",
            "Epoch 66/100\n",
            "36/36 [==============================] - 0s 3ms/step - loss: 1.0310 - accuracy: 0.5476 - val_loss: 1.1060 - val_accuracy: 0.5125\n",
            "Epoch 67/100\n",
            "36/36 [==============================] - 0s 3ms/step - loss: 1.0326 - accuracy: 0.5387 - val_loss: 1.0975 - val_accuracy: 0.5338\n",
            "Epoch 68/100\n",
            "36/36 [==============================] - 0s 3ms/step - loss: 1.0224 - accuracy: 0.5370 - val_loss: 1.1015 - val_accuracy: 0.5231\n",
            "Epoch 69/100\n",
            "36/36 [==============================] - 0s 4ms/step - loss: 1.0227 - accuracy: 0.5441 - val_loss: 1.0922 - val_accuracy: 0.5374\n",
            "Epoch 70/100\n",
            "36/36 [==============================] - 0s 3ms/step - loss: 1.0253 - accuracy: 0.5485 - val_loss: 1.1113 - val_accuracy: 0.5267\n",
            "Epoch 71/100\n",
            "36/36 [==============================] - 0s 3ms/step - loss: 1.0212 - accuracy: 0.5441 - val_loss: 1.0946 - val_accuracy: 0.5338\n",
            "Epoch 72/100\n",
            "36/36 [==============================] - 0s 4ms/step - loss: 1.0217 - accuracy: 0.5414 - val_loss: 1.0882 - val_accuracy: 0.5338\n",
            "Epoch 73/100\n",
            "36/36 [==============================] - 0s 3ms/step - loss: 1.0136 - accuracy: 0.5387 - val_loss: 1.0886 - val_accuracy: 0.5374\n",
            "Epoch 74/100\n",
            "36/36 [==============================] - 0s 3ms/step - loss: 1.0108 - accuracy: 0.5485 - val_loss: 1.0813 - val_accuracy: 0.5338\n",
            "Epoch 75/100\n",
            "36/36 [==============================] - 0s 3ms/step - loss: 1.0082 - accuracy: 0.5494 - val_loss: 1.0824 - val_accuracy: 0.5445\n",
            "Epoch 76/100\n",
            "36/36 [==============================] - 0s 3ms/step - loss: 1.0159 - accuracy: 0.5485 - val_loss: 1.0768 - val_accuracy: 0.5302\n",
            "Epoch 77/100\n",
            "36/36 [==============================] - 0s 3ms/step - loss: 1.0255 - accuracy: 0.5378 - val_loss: 1.0753 - val_accuracy: 0.5552\n",
            "Epoch 78/100\n",
            "36/36 [==============================] - 0s 4ms/step - loss: 1.0240 - accuracy: 0.5432 - val_loss: 1.0930 - val_accuracy: 0.5302\n",
            "Epoch 79/100\n",
            "36/36 [==============================] - 0s 4ms/step - loss: 1.0099 - accuracy: 0.5503 - val_loss: 1.0753 - val_accuracy: 0.5302\n",
            "Epoch 80/100\n",
            "36/36 [==============================] - 0s 4ms/step - loss: 1.0031 - accuracy: 0.5503 - val_loss: 1.0745 - val_accuracy: 0.5516\n",
            "Epoch 81/100\n",
            "36/36 [==============================] - 0s 4ms/step - loss: 0.9998 - accuracy: 0.5601 - val_loss: 1.0700 - val_accuracy: 0.5338\n",
            "Epoch 82/100\n",
            "36/36 [==============================] - 0s 4ms/step - loss: 1.0041 - accuracy: 0.5405 - val_loss: 1.0717 - val_accuracy: 0.5480\n",
            "Epoch 83/100\n",
            "36/36 [==============================] - 0s 3ms/step - loss: 0.9990 - accuracy: 0.5467 - val_loss: 1.0798 - val_accuracy: 0.5409\n",
            "Epoch 84/100\n",
            "36/36 [==============================] - 0s 3ms/step - loss: 0.9947 - accuracy: 0.5530 - val_loss: 1.0712 - val_accuracy: 0.5374\n",
            "Epoch 85/100\n",
            "36/36 [==============================] - 0s 4ms/step - loss: 0.9972 - accuracy: 0.5646 - val_loss: 1.0811 - val_accuracy: 0.5623\n",
            "Epoch 86/100\n",
            "36/36 [==============================] - 0s 3ms/step - loss: 1.0149 - accuracy: 0.5467 - val_loss: 1.0849 - val_accuracy: 0.5409\n",
            "Epoch 87/100\n",
            "36/36 [==============================] - 0s 4ms/step - loss: 0.9941 - accuracy: 0.5548 - val_loss: 1.0648 - val_accuracy: 0.5516\n",
            "Epoch 88/100\n",
            "36/36 [==============================] - 0s 6ms/step - loss: 0.9916 - accuracy: 0.5592 - val_loss: 1.0676 - val_accuracy: 0.5516\n",
            "Epoch 89/100\n",
            "36/36 [==============================] - 0s 7ms/step - loss: 0.9896 - accuracy: 0.5592 - val_loss: 1.0615 - val_accuracy: 0.5409\n",
            "Epoch 90/100\n",
            "36/36 [==============================] - 0s 6ms/step - loss: 0.9980 - accuracy: 0.5601 - val_loss: 1.0601 - val_accuracy: 0.5445\n",
            "Epoch 91/100\n",
            "36/36 [==============================] - 0s 6ms/step - loss: 0.9903 - accuracy: 0.5592 - val_loss: 1.0556 - val_accuracy: 0.5480\n",
            "Epoch 92/100\n",
            "36/36 [==============================] - 0s 6ms/step - loss: 0.9859 - accuracy: 0.5654 - val_loss: 1.0591 - val_accuracy: 0.5552\n",
            "Epoch 93/100\n",
            "36/36 [==============================] - 0s 5ms/step - loss: 0.9932 - accuracy: 0.5557 - val_loss: 1.0537 - val_accuracy: 0.5374\n",
            "Epoch 94/100\n",
            "36/36 [==============================] - 0s 5ms/step - loss: 0.9869 - accuracy: 0.5601 - val_loss: 1.0560 - val_accuracy: 0.5480\n",
            "Epoch 95/100\n",
            "36/36 [==============================] - 0s 5ms/step - loss: 0.9841 - accuracy: 0.5628 - val_loss: 1.0595 - val_accuracy: 0.5445\n",
            "Epoch 96/100\n",
            "36/36 [==============================] - 0s 6ms/step - loss: 0.9793 - accuracy: 0.5654 - val_loss: 1.0537 - val_accuracy: 0.5445\n",
            "Epoch 97/100\n",
            "36/36 [==============================] - 0s 5ms/step - loss: 0.9800 - accuracy: 0.5610 - val_loss: 1.0555 - val_accuracy: 0.5374\n",
            "Epoch 98/100\n",
            "36/36 [==============================] - 0s 5ms/step - loss: 0.9837 - accuracy: 0.5574 - val_loss: 1.0519 - val_accuracy: 0.5445\n",
            "Epoch 99/100\n",
            "36/36 [==============================] - 0s 6ms/step - loss: 0.9779 - accuracy: 0.5770 - val_loss: 1.0522 - val_accuracy: 0.5338\n",
            "Epoch 100/100\n",
            "36/36 [==============================] - 0s 5ms/step - loss: 0.9772 - accuracy: 0.5726 - val_loss: 1.0602 - val_accuracy: 0.5302\n"
          ]
        }
      ]
    },
    {
      "cell_type": "code",
      "source": [
        "\n",
        "plt.plot(history.history['loss'])\n",
        "plt.plot(history.history['val_loss'])\n",
        ""
      ],
      "metadata": {
        "colab": {
          "base_uri": "https://localhost:8080/",
          "height": 448
        },
        "id": "TDlA--gW8Idv",
        "outputId": "e0be692b-9e09-451a-8bd0-47fde8d8e587"
      },
      "execution_count": 36,
      "outputs": [
        {
          "output_type": "execute_result",
          "data": {
            "text/plain": [
              "[<matplotlib.lines.Line2D at 0x798eac1506d0>]"
            ]
          },
          "metadata": {},
          "execution_count": 36
        },
        {
          "output_type": "display_data",
          "data": {
            "text/plain": [
              "<Figure size 640x480 with 1 Axes>"
            ],
            "image/png": "[encoded data removed]"
          },
          "metadata": {}
        }
      ]
    },
    {
      "cell_type": "code",
      "source": [
        "\n",
        "plt.plot(history.history['accuracy'])\n",
        "plt.plot(history.history['val_accuracy'])\n",
        ""
      ],
      "metadata": {
        "colab": {
          "base_uri": "https://localhost:8080/",
          "height": 448
        },
        "id": "_c0GdkNe8IjI",
        "outputId": "182a59a2-d9a8-44ba-a980-89b7e114986e"
      },
      "execution_count": 37,
      "outputs": [
        {
          "output_type": "execute_result",
          "data": {
            "text/plain": [
              "[<matplotlib.lines.Line2D at 0x798eaca501c0>]"
            ]
          },
          "metadata": {},
          "execution_count": 37
        },
        {
          "output_type": "display_data",
          "data": {
            "text/plain": [
              "<Figure size 640x480 with 1 Axes>"
            ],
            "image/png": "[encoded data removed]"
          },
          "metadata": {}
        }
      ]
    },
    {
      "cell_type": "markdown",
      "source": [
        "계속해서 분류로 결과를 보니 회귀로 해결하는 것이 더 좋을 거 같다.\n",
        "\n",
        "정확한 값은 나오지 않지만 비슷한 값을 예측할 것이다."
      ],
      "metadata": {
        "id": "h2CwOvFl3kvZ"
      }
    },
    {
      "cell_type": "markdown",
      "source": [
        "***"
      ],
      "metadata": {
        "id": "YYBOabyGABU6"
      }
    },
    {
      "cell_type": "markdown",
      "source": [
        "### 딥러닝 회귀로 해결"
      ],
      "metadata": {
        "id": "zbxcU1j9_RzE"
      }
    },
    {
      "cell_type": "code",
      "source": [
        "X_train2, X_test2, y_train2, y_test2 = train_test_split(X, y, test_size=0.2)"
      ],
      "metadata": {
        "id": "WH26nSMk-mYD"
      },
      "execution_count": 38,
      "outputs": []
    },
    {
      "cell_type": "code",
      "source": [
        "model = tf.keras.models.Sequential()\n",
        "model.add(tf.keras.layers.Dense(64, input_shape=(None, 11), activation='relu'))\n",
        "model.add(tf.keras.layers.Dense(64, activation='relu'))\n",
        "model.add(tf.keras.layers.Dense(1))\n",
        "\n",
        "model.compile(optimizer='adam', loss='mse',\n",
        "              metrics=['mse'])\n",
        "\n",
        "history = model.fit(train_nl2, y_train2, epochs=100, validation_data=(test_nl2, y_test2))"
      ],
      "metadata": {
        "colab": {
          "base_uri": "https://localhost:8080/"
        },
        "id": "md6_9U0P-nWU",
        "outputId": "97c599dd-ae92-4117-f440-f452a8a52392"
      },
      "execution_count": 45,
      "outputs": [
        {
          "output_type": "stream",
          "name": "stdout",
          "text": [
            "Epoch 1/100\n",
            "36/36 [==============================] - 1s 8ms/step - loss: 27.5887 - mse: 27.5887 - val_loss: 19.7199 - val_mse: 19.7199\n",
            "Epoch 2/100\n",
            "36/36 [==============================] - 0s 13ms/step - loss: 10.0328 - mse: 10.0328 - val_loss: 1.1352 - val_mse: 1.1352\n",
            "Epoch 3/100\n",
            "36/36 [==============================] - 0s 8ms/step - loss: 0.8605 - mse: 0.8605 - val_loss: 0.6127 - val_mse: 0.6127\n",
            "Epoch 4/100\n",
            "36/36 [==============================] - 0s 3ms/step - loss: 0.7297 - mse: 0.7297 - val_loss: 0.6045 - val_mse: 0.6045\n",
            "Epoch 5/100\n",
            "36/36 [==============================] - 0s 3ms/step - loss: 0.7170 - mse: 0.7170 - val_loss: 0.5975 - val_mse: 0.5975\n",
            "Epoch 6/100\n",
            "36/36 [==============================] - 0s 3ms/step - loss: 0.7072 - mse: 0.7072 - val_loss: 0.5968 - val_mse: 0.5968\n",
            "Epoch 7/100\n",
            "36/36 [==============================] - 0s 3ms/step - loss: 0.7046 - mse: 0.7046 - val_loss: 0.5893 - val_mse: 0.5893\n",
            "Epoch 8/100\n",
            "36/36 [==============================] - 0s 4ms/step - loss: 0.6931 - mse: 0.6931 - val_loss: 0.5854 - val_mse: 0.5854\n",
            "Epoch 9/100\n",
            "36/36 [==============================] - 0s 5ms/step - loss: 0.6863 - mse: 0.6863 - val_loss: 0.5866 - val_mse: 0.5866\n",
            "Epoch 10/100\n",
            "36/36 [==============================] - 0s 4ms/step - loss: 0.6822 - mse: 0.6822 - val_loss: 0.5860 - val_mse: 0.5860\n",
            "Epoch 11/100\n",
            "36/36 [==============================] - 0s 6ms/step - loss: 0.6844 - mse: 0.6844 - val_loss: 0.5793 - val_mse: 0.5793\n",
            "Epoch 12/100\n",
            "36/36 [==============================] - 0s 5ms/step - loss: 0.6765 - mse: 0.6765 - val_loss: 0.5821 - val_mse: 0.5821\n",
            "Epoch 13/100\n",
            "36/36 [==============================] - 0s 4ms/step - loss: 0.6812 - mse: 0.6812 - val_loss: 0.5913 - val_mse: 0.5913\n",
            "Epoch 14/100\n",
            "36/36 [==============================] - 0s 5ms/step - loss: 0.6714 - mse: 0.6714 - val_loss: 0.5715 - val_mse: 0.5715\n",
            "Epoch 15/100\n",
            "36/36 [==============================] - 0s 5ms/step - loss: 0.6693 - mse: 0.6693 - val_loss: 0.5690 - val_mse: 0.5690\n",
            "Epoch 16/100\n",
            "36/36 [==============================] - 0s 4ms/step - loss: 0.6691 - mse: 0.6691 - val_loss: 0.5684 - val_mse: 0.5684\n",
            "Epoch 17/100\n",
            "36/36 [==============================] - 0s 4ms/step - loss: 0.6651 - mse: 0.6651 - val_loss: 0.5683 - val_mse: 0.5683\n",
            "Epoch 18/100\n",
            "36/36 [==============================] - 0s 5ms/step - loss: 0.6626 - mse: 0.6626 - val_loss: 0.5713 - val_mse: 0.5713\n",
            "Epoch 19/100\n",
            "36/36 [==============================] - 0s 6ms/step - loss: 0.6610 - mse: 0.6610 - val_loss: 0.5803 - val_mse: 0.5803\n",
            "Epoch 20/100\n",
            "36/36 [==============================] - 0s 6ms/step - loss: 0.6623 - mse: 0.6623 - val_loss: 0.5671 - val_mse: 0.5671\n",
            "Epoch 21/100\n",
            "36/36 [==============================] - 0s 6ms/step - loss: 0.6572 - mse: 0.6572 - val_loss: 0.5649 - val_mse: 0.5649\n",
            "Epoch 22/100\n",
            "36/36 [==============================] - 0s 6ms/step - loss: 0.6608 - mse: 0.6608 - val_loss: 0.5677 - val_mse: 0.5677\n",
            "Epoch 23/100\n",
            "36/36 [==============================] - 0s 6ms/step - loss: 0.6600 - mse: 0.6600 - val_loss: 0.5668 - val_mse: 0.5668\n",
            "Epoch 24/100\n",
            "36/36 [==============================] - 0s 3ms/step - loss: 0.6630 - mse: 0.6630 - val_loss: 0.5613 - val_mse: 0.5613\n",
            "Epoch 25/100\n",
            "36/36 [==============================] - 0s 3ms/step - loss: 0.6547 - mse: 0.6547 - val_loss: 0.5657 - val_mse: 0.5657\n",
            "Epoch 26/100\n",
            "36/36 [==============================] - 0s 4ms/step - loss: 0.6571 - mse: 0.6571 - val_loss: 0.5696 - val_mse: 0.5696\n",
            "Epoch 27/100\n",
            "36/36 [==============================] - 0s 3ms/step - loss: 0.6577 - mse: 0.6577 - val_loss: 0.5614 - val_mse: 0.5614\n",
            "Epoch 28/100\n",
            "36/36 [==============================] - 0s 3ms/step - loss: 0.6537 - mse: 0.6537 - val_loss: 0.5660 - val_mse: 0.5660\n",
            "Epoch 29/100\n",
            "36/36 [==============================] - 0s 3ms/step - loss: 0.6600 - mse: 0.6600 - val_loss: 0.5618 - val_mse: 0.5618\n",
            "Epoch 30/100\n",
            "36/36 [==============================] - 0s 3ms/step - loss: 0.6658 - mse: 0.6658 - val_loss: 0.5733 - val_mse: 0.5733\n",
            "Epoch 31/100\n",
            "36/36 [==============================] - 0s 3ms/step - loss: 0.6540 - mse: 0.6540 - val_loss: 0.5599 - val_mse: 0.5599\n",
            "Epoch 32/100\n",
            "36/36 [==============================] - 0s 3ms/step - loss: 0.6571 - mse: 0.6571 - val_loss: 0.5673 - val_mse: 0.5673\n",
            "Epoch 33/100\n",
            "36/36 [==============================] - 0s 3ms/step - loss: 0.6594 - mse: 0.6594 - val_loss: 0.5642 - val_mse: 0.5642\n",
            "Epoch 34/100\n",
            "36/36 [==============================] - 0s 3ms/step - loss: 0.6572 - mse: 0.6572 - val_loss: 0.5644 - val_mse: 0.5644\n",
            "Epoch 35/100\n",
            "36/36 [==============================] - 0s 3ms/step - loss: 0.6549 - mse: 0.6549 - val_loss: 0.5642 - val_mse: 0.5642\n",
            "Epoch 36/100\n",
            "36/36 [==============================] - 0s 3ms/step - loss: 0.6528 - mse: 0.6528 - val_loss: 0.5623 - val_mse: 0.5623\n",
            "Epoch 37/100\n",
            "36/36 [==============================] - 0s 3ms/step - loss: 0.6577 - mse: 0.6577 - val_loss: 0.5592 - val_mse: 0.5592\n",
            "Epoch 38/100\n",
            "36/36 [==============================] - 0s 3ms/step - loss: 0.6535 - mse: 0.6535 - val_loss: 0.5668 - val_mse: 0.5668\n",
            "Epoch 39/100\n",
            "36/36 [==============================] - 0s 4ms/step - loss: 0.6573 - mse: 0.6573 - val_loss: 0.5616 - val_mse: 0.5616\n",
            "Epoch 40/100\n",
            "36/36 [==============================] - 0s 3ms/step - loss: 0.6551 - mse: 0.6551 - val_loss: 0.5648 - val_mse: 0.5648\n",
            "Epoch 41/100\n",
            "36/36 [==============================] - 0s 3ms/step - loss: 0.6507 - mse: 0.6507 - val_loss: 0.5811 - val_mse: 0.5811\n",
            "Epoch 42/100\n",
            "36/36 [==============================] - 0s 4ms/step - loss: 0.6559 - mse: 0.6559 - val_loss: 0.5614 - val_mse: 0.5614\n",
            "Epoch 43/100\n",
            "36/36 [==============================] - 0s 3ms/step - loss: 0.6568 - mse: 0.6568 - val_loss: 0.5605 - val_mse: 0.5605\n",
            "Epoch 44/100\n",
            "36/36 [==============================] - 0s 3ms/step - loss: 0.6626 - mse: 0.6626 - val_loss: 0.5605 - val_mse: 0.5605\n",
            "Epoch 45/100\n",
            "36/36 [==============================] - 0s 3ms/step - loss: 0.6571 - mse: 0.6571 - val_loss: 0.5608 - val_mse: 0.5608\n",
            "Epoch 46/100\n",
            "36/36 [==============================] - 0s 3ms/step - loss: 0.6530 - mse: 0.6530 - val_loss: 0.5608 - val_mse: 0.5608\n",
            "Epoch 47/100\n",
            "36/36 [==============================] - 0s 4ms/step - loss: 0.6656 - mse: 0.6656 - val_loss: 0.5701 - val_mse: 0.5701\n",
            "Epoch 48/100\n",
            "36/36 [==============================] - 0s 3ms/step - loss: 0.6653 - mse: 0.6653 - val_loss: 0.5970 - val_mse: 0.5970\n",
            "Epoch 49/100\n",
            "36/36 [==============================] - 0s 3ms/step - loss: 0.6552 - mse: 0.6552 - val_loss: 0.5596 - val_mse: 0.5596\n",
            "Epoch 50/100\n",
            "36/36 [==============================] - 0s 4ms/step - loss: 0.6562 - mse: 0.6562 - val_loss: 0.5677 - val_mse: 0.5677\n",
            "Epoch 51/100\n",
            "36/36 [==============================] - 0s 4ms/step - loss: 0.6499 - mse: 0.6499 - val_loss: 0.6026 - val_mse: 0.6026\n",
            "Epoch 52/100\n",
            "36/36 [==============================] - 0s 3ms/step - loss: 0.6743 - mse: 0.6743 - val_loss: 0.5620 - val_mse: 0.5620\n",
            "Epoch 53/100\n",
            "36/36 [==============================] - 0s 4ms/step - loss: 0.6604 - mse: 0.6604 - val_loss: 0.5619 - val_mse: 0.5619\n",
            "Epoch 54/100\n",
            "36/36 [==============================] - 0s 4ms/step - loss: 0.6530 - mse: 0.6530 - val_loss: 0.5644 - val_mse: 0.5644\n",
            "Epoch 55/100\n",
            "36/36 [==============================] - 0s 4ms/step - loss: 0.6526 - mse: 0.6526 - val_loss: 0.5750 - val_mse: 0.5750\n",
            "Epoch 56/100\n",
            "36/36 [==============================] - 0s 3ms/step - loss: 0.6496 - mse: 0.6496 - val_loss: 0.5645 - val_mse: 0.5645\n",
            "Epoch 57/100\n",
            "36/36 [==============================] - 0s 4ms/step - loss: 0.6543 - mse: 0.6543 - val_loss: 0.5754 - val_mse: 0.5754\n",
            "Epoch 58/100\n",
            "36/36 [==============================] - 0s 3ms/step - loss: 0.6526 - mse: 0.6526 - val_loss: 0.5619 - val_mse: 0.5619\n",
            "Epoch 59/100\n",
            "36/36 [==============================] - 0s 4ms/step - loss: 0.6559 - mse: 0.6559 - val_loss: 0.5932 - val_mse: 0.5932\n",
            "Epoch 60/100\n",
            "36/36 [==============================] - 0s 3ms/step - loss: 0.6578 - mse: 0.6578 - val_loss: 0.5635 - val_mse: 0.5635\n",
            "Epoch 61/100\n",
            "36/36 [==============================] - 0s 3ms/step - loss: 0.6619 - mse: 0.6619 - val_loss: 0.5893 - val_mse: 0.5893\n",
            "Epoch 62/100\n",
            "36/36 [==============================] - 0s 4ms/step - loss: 0.6607 - mse: 0.6607 - val_loss: 0.5735 - val_mse: 0.5735\n",
            "Epoch 63/100\n",
            "36/36 [==============================] - 0s 3ms/step - loss: 0.6588 - mse: 0.6588 - val_loss: 0.5676 - val_mse: 0.5676\n",
            "Epoch 64/100\n",
            "36/36 [==============================] - 0s 3ms/step - loss: 0.6607 - mse: 0.6607 - val_loss: 0.5722 - val_mse: 0.5722\n",
            "Epoch 65/100\n",
            "36/36 [==============================] - 0s 3ms/step - loss: 0.6504 - mse: 0.6504 - val_loss: 0.5651 - val_mse: 0.5651\n",
            "Epoch 66/100\n",
            "36/36 [==============================] - 0s 4ms/step - loss: 0.6529 - mse: 0.6529 - val_loss: 0.5783 - val_mse: 0.5783\n",
            "Epoch 67/100\n",
            "36/36 [==============================] - 0s 3ms/step - loss: 0.6537 - mse: 0.6537 - val_loss: 0.5684 - val_mse: 0.5684\n",
            "Epoch 68/100\n",
            "36/36 [==============================] - 0s 3ms/step - loss: 0.6471 - mse: 0.6471 - val_loss: 0.5865 - val_mse: 0.5865\n",
            "Epoch 69/100\n",
            "36/36 [==============================] - 0s 4ms/step - loss: 0.6531 - mse: 0.6531 - val_loss: 0.5855 - val_mse: 0.5855\n",
            "Epoch 70/100\n",
            "36/36 [==============================] - 0s 3ms/step - loss: 0.6529 - mse: 0.6529 - val_loss: 0.5623 - val_mse: 0.5623\n",
            "Epoch 71/100\n",
            "36/36 [==============================] - 0s 3ms/step - loss: 0.6507 - mse: 0.6507 - val_loss: 0.5641 - val_mse: 0.5641\n",
            "Epoch 72/100\n",
            "36/36 [==============================] - 0s 3ms/step - loss: 0.6562 - mse: 0.6562 - val_loss: 0.5628 - val_mse: 0.5628\n",
            "Epoch 73/100\n",
            "36/36 [==============================] - 0s 4ms/step - loss: 0.6593 - mse: 0.6593 - val_loss: 0.5628 - val_mse: 0.5628\n",
            "Epoch 74/100\n",
            "36/36 [==============================] - 0s 3ms/step - loss: 0.6505 - mse: 0.6505 - val_loss: 0.5640 - val_mse: 0.5640\n",
            "Epoch 75/100\n",
            "36/36 [==============================] - 0s 3ms/step - loss: 0.6531 - mse: 0.6531 - val_loss: 0.5645 - val_mse: 0.5645\n",
            "Epoch 76/100\n",
            "36/36 [==============================] - 0s 3ms/step - loss: 0.6521 - mse: 0.6521 - val_loss: 0.5677 - val_mse: 0.5677\n",
            "Epoch 77/100\n",
            "36/36 [==============================] - 0s 3ms/step - loss: 0.6486 - mse: 0.6486 - val_loss: 0.5700 - val_mse: 0.5700\n",
            "Epoch 78/100\n",
            "36/36 [==============================] - 0s 3ms/step - loss: 0.6551 - mse: 0.6551 - val_loss: 0.5656 - val_mse: 0.5656\n",
            "Epoch 79/100\n",
            "36/36 [==============================] - 0s 3ms/step - loss: 0.6574 - mse: 0.6574 - val_loss: 0.5848 - val_mse: 0.5848\n",
            "Epoch 80/100\n",
            "36/36 [==============================] - 0s 3ms/step - loss: 0.6653 - mse: 0.6653 - val_loss: 0.5684 - val_mse: 0.5684\n",
            "Epoch 81/100\n",
            "36/36 [==============================] - 0s 4ms/step - loss: 0.6520 - mse: 0.6520 - val_loss: 0.5689 - val_mse: 0.5689\n",
            "Epoch 82/100\n",
            "36/36 [==============================] - 0s 3ms/step - loss: 0.6610 - mse: 0.6610 - val_loss: 0.5671 - val_mse: 0.5671\n",
            "Epoch 83/100\n",
            "36/36 [==============================] - 0s 3ms/step - loss: 0.6587 - mse: 0.6587 - val_loss: 0.5657 - val_mse: 0.5657\n",
            "Epoch 84/100\n",
            "36/36 [==============================] - 0s 3ms/step - loss: 0.6569 - mse: 0.6569 - val_loss: 0.5659 - val_mse: 0.5659\n",
            "Epoch 85/100\n",
            "36/36 [==============================] - 0s 3ms/step - loss: 0.6484 - mse: 0.6484 - val_loss: 0.6012 - val_mse: 0.6012\n",
            "Epoch 86/100\n",
            "36/36 [==============================] - 0s 4ms/step - loss: 0.6804 - mse: 0.6804 - val_loss: 0.5720 - val_mse: 0.5720\n",
            "Epoch 87/100\n",
            "36/36 [==============================] - 0s 3ms/step - loss: 0.6574 - mse: 0.6574 - val_loss: 0.5638 - val_mse: 0.5638\n",
            "Epoch 88/100\n",
            "36/36 [==============================] - 0s 3ms/step - loss: 0.6551 - mse: 0.6551 - val_loss: 0.5627 - val_mse: 0.5627\n",
            "Epoch 89/100\n",
            "36/36 [==============================] - 0s 4ms/step - loss: 0.6472 - mse: 0.6472 - val_loss: 0.5778 - val_mse: 0.5778\n",
            "Epoch 90/100\n",
            "36/36 [==============================] - 0s 3ms/step - loss: 0.6541 - mse: 0.6541 - val_loss: 0.5640 - val_mse: 0.5640\n",
            "Epoch 91/100\n",
            "36/36 [==============================] - 0s 3ms/step - loss: 0.6497 - mse: 0.6497 - val_loss: 0.5698 - val_mse: 0.5698\n",
            "Epoch 92/100\n",
            "36/36 [==============================] - 0s 3ms/step - loss: 0.6571 - mse: 0.6571 - val_loss: 0.5790 - val_mse: 0.5790\n",
            "Epoch 93/100\n",
            "36/36 [==============================] - 0s 4ms/step - loss: 0.6487 - mse: 0.6487 - val_loss: 0.5677 - val_mse: 0.5677\n",
            "Epoch 94/100\n",
            "36/36 [==============================] - 0s 3ms/step - loss: 0.6591 - mse: 0.6591 - val_loss: 0.5823 - val_mse: 0.5823\n",
            "Epoch 95/100\n",
            "36/36 [==============================] - 0s 3ms/step - loss: 0.6509 - mse: 0.6509 - val_loss: 0.5659 - val_mse: 0.5659\n",
            "Epoch 96/100\n",
            "36/36 [==============================] - 0s 3ms/step - loss: 0.6489 - mse: 0.6489 - val_loss: 0.5664 - val_mse: 0.5664\n",
            "Epoch 97/100\n",
            "36/36 [==============================] - 0s 4ms/step - loss: 0.6538 - mse: 0.6538 - val_loss: 0.5659 - val_mse: 0.5659\n",
            "Epoch 98/100\n",
            "36/36 [==============================] - 0s 3ms/step - loss: 0.6470 - mse: 0.6470 - val_loss: 0.5665 - val_mse: 0.5665\n",
            "Epoch 99/100\n",
            "36/36 [==============================] - 0s 3ms/step - loss: 0.6500 - mse: 0.6500 - val_loss: 0.5729 - val_mse: 0.5729\n",
            "Epoch 100/100\n",
            "36/36 [==============================] - 0s 4ms/step - loss: 0.6479 - mse: 0.6479 - val_loss: 0.5724 - val_mse: 0.5724\n"
          ]
        }
      ]
    },
    {
      "cell_type": "code",
      "source": [
        "plt.plot(history.history['loss'])\n",
        "plt.plot(history.history['val_loss'])"
      ],
      "metadata": {
        "colab": {
          "base_uri": "https://localhost:8080/",
          "height": 448
        },
        "id": "tCDNCGoNBXKf",
        "outputId": "c360dcd9-a8fe-48d6-fc08-4fe40ea769ee"
      },
      "execution_count": 46,
      "outputs": [
        {
          "output_type": "execute_result",
          "data": {
            "text/plain": [
              "[<matplotlib.lines.Line2D at 0x798eac6126b0>]"
            ]
          },
          "metadata": {},
          "execution_count": 46
        },
        {
          "output_type": "display_data",
          "data": {
            "text/plain": [
              "<Figure size 640x480 with 1 Axes>"
            ],
            "image/png": "[encoded data removed]"
          },
          "metadata": {}
        }
      ]
    },
    {
      "cell_type": "code",
      "source": [
        "from sklearn.metrics import mean_squared_error\n",
        "pred = model.predict(test_nl2)\n",
        "\n",
        "mse = mean_squared_error(y_test2, pred)\n",
        "print(mse)"
      ],
      "metadata": {
        "colab": {
          "base_uri": "https://localhost:8080/"
        },
        "id": "tQ5S2AnoB_7t",
        "outputId": "a1c84d88-1269-4e3e-eb8f-3d031047f156"
      },
      "execution_count": 48,
      "outputs": [
        {
          "output_type": "stream",
          "name": "stdout",
          "text": [
            "9/9 [==============================] - 0s 11ms/step\n",
            "0.5724018617931014\n"
          ]
        }
      ]
    },
    {
      "cell_type": "markdown",
      "source": [
        "오차도 매우 작다!!!"
      ],
      "metadata": {
        "id": "XMFWo30wCXNo"
      }
    },
    {
      "cell_type": "code",
      "source": [
        "model.predict(test_nl2[:3])"
      ],
      "metadata": {
        "colab": {
          "base_uri": "https://localhost:8080/"
        },
        "id": "FDrDpLmC-4EZ",
        "outputId": "bbd6e60e-a449-476a-dea4-472378f04948"
      },
      "execution_count": 47,
      "outputs": [
        {
          "output_type": "stream",
          "name": "stdout",
          "text": [
            "1/1 [==============================] - 0s 68ms/step\n"
          ]
        },
        {
          "output_type": "execute_result",
          "data": {
            "text/plain": [
              "array([[5.8013597],\n",
              "       [5.7444673],\n",
              "       [5.8895793]], dtype=float32)"
            ]
          },
          "metadata": {},
          "execution_count": 47
        }
      ]
    },
    {
      "cell_type": "markdown",
      "source": [
        "3개다 6이고, 반올림 하면 6에 가까움"
      ],
      "metadata": {
        "id": "PZloXlAb_Dwa"
      }
    },
    {
      "cell_type": "markdown",
      "source": [
        "**레이블이 숫자가 아닌 문자열이거나, 라벨링 된 문제라면 분류를 사용하는 게 맞지만**\n",
        "\n",
        "**이 데이터의 경우, 품질을 추정하는 것으로 회귀 문제로 예측한 다음, 가까운 값으로 예측하는 것이 맞다**"
      ],
      "metadata": {
        "id": "kmUqSCMFBtmO"
      }
    },
    {
      "cell_type": "markdown",
      "source": [
        "***\n",
        "분류로 뻘짓을 하며... 어떨 때 분류를 쓰고 어떨 때 회귀를 쓰는지 깨달았다..\n",
        "\n",
        "다음부턴 이런 실수 없이 시간 버리지 말자"
      ],
      "metadata": {
        "id": "ugJWdvRlCzmD"
      }
    }
  ]
}